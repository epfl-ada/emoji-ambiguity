{
 "cells": [
  {
   "cell_type": "code",
   "execution_count": 1,
   "metadata": {},
   "outputs": [
    {
     "name": "stdout",
     "output_type": "stream",
     "text": [
      "INFO: Pandarallel will run on 20 workers.\n",
      "INFO: Pandarallel will use Memory file system to transfer data between the main process and workers.\n"
     ]
    }
   ],
   "source": [
    "%load_ext autoreload\n",
    "%autoreload 2\n",
    "\n",
    "from collections import Counter\n",
    "import pandas as pd\n",
    "import numpy as np\n",
    "import matplotlib\n",
    "import matplotlib.pyplot as plt\n",
    "import seaborn as sns\n",
    "from scipy.stats import spearmanr, pearsonr, kendalltau\n",
    "\n",
    "from tqdm import tqdm\n",
    "import random\n",
    "\n",
    "from settings import EMBEDDINGS_PATH, FINAL_DF\n",
    "from src.data.assign_emoji_categories import assign_emojipedia_category, assign_our_category\n",
    "from src.analysis.variation import calculate_vocabulary_variation, embedded_CIs, read_embeddings\n",
    "from src.visualization.emoji_plotting import emoji_scatter\n",
    "\n",
    "from pandarallel import pandarallel\n",
    "pandarallel.initialize(nb_workers=20)"
   ]
  },
  {
   "cell_type": "markdown",
   "metadata": {},
   "source": [
    "### Compute variation and its confidence - this takes a lot of resources for bootstrapping"
   ]
  },
  {
   "cell_type": "code",
   "execution_count": 2,
   "metadata": {},
   "outputs": [
    {
     "name": "stdout",
     "output_type": "stream",
     "text": [
      "Reading data...\n",
      "Preprocessing...\n",
      "Calculating semantic variation in embedding space per emoji...\n",
      "Bootstrapping...\n"
     ]
    },
    {
     "name": "stderr",
     "output_type": "stream",
     "text": [
      "/home/czestoch/.local/lib/python3.7/site-packages/numpy/lib/nanfunctions.py:1376: RuntimeWarning: All-NaN slice encountered\n",
      "  overwrite_input=overwrite_input, interpolation=interpolation\n"
     ]
    }
   ],
   "source": [
    "print(\"Reading data...\")\n",
    "emojis = pd.read_csv(FINAL_DF, encoding='utf-8')\n",
    "word_embeddings = read_embeddings(EMBEDDINGS_PATH)\n",
    "\n",
    "print(\"Preprocessing...\")\n",
    "vocabularies = emojis[[\"emoji\", \"word\"]] \\\n",
    "    .groupby(\"emoji\").word \\\n",
    "    .apply(list).apply(Counter) \\\n",
    "    .reset_index() \\\n",
    "    .rename({\"word\": \"vocabulary\"}, axis=1)\n",
    "\n",
    "print(\"Calculating semantic variation in embedding space per emoji...\")\n",
    "vocabularies[[\"variation\", \"mode_embedding\"]] = vocabularies.apply(lambda row:\n",
    "                                                                   calculate_vocabulary_variation(row.vocabulary,\n",
    "                                                                                                  word_embeddings),\n",
    "                                                                   axis=1,\n",
    "                                                                   result_type='expand')\n",
    "\n",
    "print(\"Bootstrapping...\")\n",
    "CIs = vocabularies.parallel_apply(lambda row: embedded_CIs(calculate_vocabulary_variation,\n",
    "                                         row.vocabulary, row.mode_embedding,\n",
    "                                         word_embeddings),\n",
    "                            axis=1)\n",
    "vocabularies[\"CIs\"] = CIs\n",
    "variations = vocabularies\n",
    "\n",
    "flags = [ '🏳️', \"🏳️‍🌈\", \"🏴‍☠️\" , \"🏴󠁧󠁢󠁥󠁮󠁧󠁿\" , \"🏴󠁧󠁢󠁳󠁣󠁴󠁿\", \"🏴󠁧󠁢󠁷󠁬󠁳󠁿\" ]\n",
    "families = [\"👨‍👦\",\"👨‍👦‍👦\",\"👨‍👧\",\"👨‍👧‍👦\",\"👨‍👧‍👧\",\"👨‍👨‍👦\",\"👨‍👨‍👦‍👦\",\"👨‍👨‍👧\",\"👨‍👨‍👧‍👦\",\\\n",
    "\"👨‍👨‍👧‍👧\",\"👨‍👩‍👦\",\"👨‍👩‍👦‍👦\",\"👨‍👩‍👧\",\"👨‍👩‍👧‍👦\",\"👨‍👩‍👧‍👧\",\"👩‍👦\",\"👩‍👦‍👦\",\"👩‍👧\",\\\n",
    "\"👩‍👧‍👦\",\"👩‍👧‍👧\",\"👩‍👩‍👦\",\"👩‍👩‍👦‍👦\",\"👩‍👩‍👧\",\"👩‍👩‍👧‍👦\",\"👩‍👩‍👧‍👧\", \"👨‍👩‍👧\", \"👨‍👩‍👧‍👦\", \"👨‍👩‍👧‍👧\", \"👩‍👩‍👧‍👦\"]\n",
    "variations = variations[~variations.emoji.isin(flags)]\n",
    "variations = variations[~variations.emoji.isin([\"🅰️\", \"🅱️\", \"🅾️\", \"🅿️\", \"🔟\"])]\n",
    "variations = variations[~variations.emoji.isin(families)]\n",
    "variations['vocabulary size'] = variations.vocabulary.apply(len)"
   ]
  },
  {
   "cell_type": "markdown",
   "metadata": {},
   "source": [
    "### Create baselines"
   ]
  },
  {
   "cell_type": "code",
   "execution_count": 3,
   "metadata": {},
   "outputs": [
    {
     "name": "stderr",
     "output_type": "stream",
     "text": [
      "100%|██████████| 1000/1000 [00:04<00:00, 245.17it/s]\n"
     ]
    }
   ],
   "source": [
    "ambiguity = pd.read_csv(FINAL_DF, encoding='utf-8')\n",
    "word_embeddings = read_embeddings(EMBEDDINGS_PATH)\n",
    "words = ambiguity.word\n",
    "\n",
    "baselines_variation, baselines_vocab_size = [], []\n",
    "for i in tqdm(range(1000)):\n",
    "    random_words = words.sample(n=30, random_state=42+i).tolist()\n",
    "    random_voc = Counter(random_words)\n",
    "    baselines_vocab_size.append(len(set(random_words)))\n",
    "    baselines_variation.append(calculate_vocabulary_variation(random_voc, word_embeddings)[0])\n",
    "\n",
    "alpha = 5\n",
    "baseline_variation = np.nanmedian(np.array(baselines_variation))\n",
    "baselines_var_CIs = [np.nanpercentile(baselines_variation, alpha / 2),\\\n",
    "                         np.nanpercentile(baselines_variation, 100 - (alpha / 2))] \n",
    "\n",
    "baseline_vocab = np.nanmedian(np.array(baselines_vocab_size))\n",
    "baselines_vocab_size_CIs = [np.nanpercentile(baselines_vocab_size, alpha / 2),\\\n",
    "                         np.nanpercentile(baselines_vocab_size, 100 - (alpha / 2))] "
   ]
  },
  {
   "cell_type": "code",
   "execution_count": 4,
   "metadata": {},
   "outputs": [
    {
     "data": {
      "text/plain": [
       "(0.6841933216899634, [0.5756563172178963, 0.886325282154915])"
      ]
     },
     "execution_count": 4,
     "metadata": {},
     "output_type": "execute_result"
    }
   ],
   "source": [
    "baseline_variation, baselines_var_CIs"
   ]
  },
  {
   "cell_type": "code",
   "execution_count": 5,
   "metadata": {},
   "outputs": [
    {
     "data": {
      "text/plain": [
       "(30.0, [27.0, 30.0])"
      ]
     },
     "execution_count": 5,
     "metadata": {},
     "output_type": "execute_result"
    }
   ],
   "source": [
    "baseline_vocab, baselines_vocab_size_CIs"
   ]
  },
  {
   "cell_type": "markdown",
   "metadata": {},
   "source": [
    "### Figure 1: (RQ1) Relationship between semantic variation (on the x-axis), and vocabulary size (on the y-axis) (top) and (RQ2) Average semantic variation (bottom) across emoji categories with symbolic levels"
   ]
  },
  {
   "cell_type": "code",
   "execution_count": 6,
   "metadata": {},
   "outputs": [
    {
     "data": {
      "text/plain": [
       "KendalltauResult(correlation=0.802061352213035, pvalue=1.5456462920792078e-216)"
      ]
     },
     "execution_count": 6,
     "metadata": {},
     "output_type": "execute_result"
    }
   ],
   "source": [
    "anns_x = pd.read_csv(\"../data/emoji_categories_x.csv\")[['emoji', 'is_a_symbol', 'category']]\n",
    "anns_y = pd.read_csv(\"../data/emoji_categories_y.csv\")\n",
    "\n",
    "kendalltau(anns_x['is_a_symbol'].values, anns_y['is_a_symbol'].values, nan_policy='omit')"
   ]
  },
  {
   "cell_type": "code",
   "execution_count": 7,
   "metadata": {
    "scrolled": false
   },
   "outputs": [
    {
     "name": "stderr",
     "output_type": "stream",
     "text": [
      "/home/czestoch/.local/lib/python3.7/site-packages/pandas/core/array_algos/replace.py:60: FutureWarning: elementwise comparison failed; returning scalar instead, but in the future will perform elementwise comparison\n",
      "  op = lambda x: operator.eq(x, b)\n"
     ]
    },
    {
     "data": {
      "image/png": "[encoded data removed]",
      "text/plain": [
       "<Figure size 576x504 with 2 Axes>"
      ]
     },
     "metadata": {},
     "output_type": "display_data"
    }
   ],
   "source": [
    "sns.set_color_codes()\n",
    "sns.set(rc={'figure.figsize':(8, 7)}, font_scale=1.4)\n",
    "sns.set_style(\"white\", {'axes.grid' : False})\n",
    "\n",
    "fig, ax = plt.subplots()\n",
    "\n",
    "symbolicness = anns_x.merge(anns_y, on='emoji', how='left')\n",
    "symbolicness['symbolicness'] = symbolicness[['is_a_symbol_x', 'is_a_symbol_y']].mean(axis=1)\n",
    "symbolicness = symbolicness.merge(variations[['emoji', 'variation']], how='left', on='emoji')\n",
    "symbolicness = symbolicness.dropna(subset=['variation'])\n",
    "\n",
    "spearmanr(symbolicness.symbolicness.values, symbolicness.variation.values)\n",
    "\n",
    "variations[\"category\"] = variations.emoji.apply(assign_emojipedia_category)\n",
    "variations[\"category\"] = variations.apply(assign_our_category, axis=1)\n",
    "variations = variations.replace({\"symbols\": \"symbols & signs\"})\n",
    "\n",
    "data = symbolicness.groupby(\"category\").symbolicness.mean().sort_values(ascending=False)\n",
    "palette = sns.color_palette(\"inferno\", len(data))\n",
    "rank = data.argsort().argsort()\n",
    "\n",
    "order1 = variations.groupby(\"category\").variation.mean().sort_values(ascending=False).index.tolist()\n",
    "\n",
    "sns.barplot(y='category', x='variation', data=variations, ax=ax,\\\n",
    "            order=order1, palette=np.array(palette)[rank[order1]])\n",
    "ax.set_ylabel(\"Category\")\n",
    "ax.set_xlabel(\"Average semantic variation\")\n",
    "\n",
    "ax.axvline(baseline_variation, color='black', linestyle='-.')\n",
    "ax.axvspan(baselines_var_CIs[0],\n",
    "                baselines_var_CIs[1], alpha=0.3, color='gray')\n",
    "ax.yaxis.set_label_coords(-.5, .5)\n",
    "\n",
    "# Colorbar settings\n",
    "norm = plt.Normalize(1, 5)#x  #y   #width #length\n",
    "cbar_ax = fig.add_axes([0.94, 0.19, 0.03, 0.2])\n",
    "scalar_colormap = plt.cm.ScalarMappable(cmap='inferno', norm=norm)\n",
    "cbar = fig.colorbar(scalar_colormap, cax=cbar_ax)\n",
    "cbar.ax.get_yaxis().labelpad = 15\n",
    "cbar.ax.set_ylabel('Symbolicalness rating', rotation=90);\n",
    "\n",
    "plt.savefig('../figures/figure1_bottom.pdf', bbox_inches='tight');"
   ]
  },
  {
   "cell_type": "code",
   "execution_count": 8,
   "metadata": {},
   "outputs": [
    {
     "data": {
      "text/plain": [
       "SpearmanrResult(correlation=0.8421957484971772, pvalue=0.0)"
      ]
     },
     "execution_count": 8,
     "metadata": {},
     "output_type": "execute_result"
    }
   ],
   "source": [
    "spearmanr(variations.variation.values, variations[\"vocabulary size\"].values, nan_policy='omit')"
   ]
  },
  {
   "cell_type": "markdown",
   "metadata": {},
   "source": [
    "### Table 1: Emoji categorization"
   ]
  },
  {
   "cell_type": "code",
   "execution_count": 10,
   "metadata": {},
   "outputs": [],
   "source": [
    "df1 = variations.groupby(\"category\").emoji.count().sort_values(ascending=False)\\\n",
    "            .to_frame().rename({\"emoji\": \"Number\"}, axis=1)"
   ]
  },
  {
   "cell_type": "code",
   "execution_count": 11,
   "metadata": {},
   "outputs": [],
   "source": [
    "df2 = variations.groupby(\"category\").emoji.apply(list).apply(lambda x: random.choices(x, k=3))\\\n",
    "            .to_frame().rename({\"emoji\": \"Examples\"}, axis=1)"
   ]
  },
  {
   "cell_type": "code",
   "execution_count": 12,
   "metadata": {},
   "outputs": [
    {
     "data": {
      "text/html": [
       "<div>\n",
       "<style scoped>\n",
       "    .dataframe tbody tr th:only-of-type {\n",
       "        vertical-align: middle;\n",
       "    }\n",
       "\n",
       "    .dataframe tbody tr th {\n",
       "        vertical-align: top;\n",
       "    }\n",
       "\n",
       "    .dataframe thead th {\n",
       "        text-align: right;\n",
       "    }\n",
       "</style>\n",
       "<table border=\"1\" class=\"dataframe\">\n",
       "  <thead>\n",
       "    <tr style=\"text-align: right;\">\n",
       "      <th></th>\n",
       "      <th>Number</th>\n",
       "      <th>Examples</th>\n",
       "    </tr>\n",
       "    <tr>\n",
       "      <th>category</th>\n",
       "      <th></th>\n",
       "      <th></th>\n",
       "    </tr>\n",
       "  </thead>\n",
       "  <tbody>\n",
       "    <tr>\n",
       "      <th>objects</th>\n",
       "      <td>202</td>\n",
       "      <td>[📺, 🎀, 🖊️]</td>\n",
       "    </tr>\n",
       "    <tr>\n",
       "      <th>nature</th>\n",
       "      <td>189</td>\n",
       "      <td>[🐂, 🌸, 🐥]</td>\n",
       "    </tr>\n",
       "    <tr>\n",
       "      <th>travel-places</th>\n",
       "      <td>129</td>\n",
       "      <td>[🏚️, 🚌, 🛂]</td>\n",
       "    </tr>\n",
       "    <tr>\n",
       "      <th>food-drink</th>\n",
       "      <td>113</td>\n",
       "      <td>[🍖, 🍌, 🥕]</td>\n",
       "    </tr>\n",
       "    <tr>\n",
       "      <th>faces</th>\n",
       "      <td>111</td>\n",
       "      <td>[😩, 🤓, 🤯]</td>\n",
       "    </tr>\n",
       "    <tr>\n",
       "      <th>people</th>\n",
       "      <td>103</td>\n",
       "      <td>[🧜, 👩‍❤️‍👨, 🦸]</td>\n",
       "    </tr>\n",
       "    <tr>\n",
       "      <th>activity</th>\n",
       "      <td>78</td>\n",
       "      <td>[🏏, 🏇, 🥉]</td>\n",
       "    </tr>\n",
       "    <tr>\n",
       "      <th>clothes &amp; accessories</th>\n",
       "      <td>47</td>\n",
       "      <td>[💍, 🥽, 👑]</td>\n",
       "    </tr>\n",
       "    <tr>\n",
       "      <th>symbols &amp; signs</th>\n",
       "      <td>43</td>\n",
       "      <td>[🔱, ✔️, ♾️]</td>\n",
       "    </tr>\n",
       "    <tr>\n",
       "      <th>professions</th>\n",
       "      <td>38</td>\n",
       "      <td>[👨‍⚖️, 👩‍🔧, 👩‍⚖️]</td>\n",
       "    </tr>\n",
       "    <tr>\n",
       "      <th>Japanese symbols and objects</th>\n",
       "      <td>34</td>\n",
       "      <td>[🈲, 🈲, 🈶]</td>\n",
       "    </tr>\n",
       "    <tr>\n",
       "      <th>hands &amp; gestures</th>\n",
       "      <td>34</td>\n",
       "      <td>[☝️, 🤜, 🤞]</td>\n",
       "    </tr>\n",
       "    <tr>\n",
       "      <th>geometrical</th>\n",
       "      <td>34</td>\n",
       "      <td>[🟢, 🟧, 🔳]</td>\n",
       "    </tr>\n",
       "    <tr>\n",
       "      <th>buttons &amp; mobile</th>\n",
       "      <td>29</td>\n",
       "      <td>[◀️, 🔆, 📳]</td>\n",
       "    </tr>\n",
       "    <tr>\n",
       "      <th>public information symbols</th>\n",
       "      <td>26</td>\n",
       "      <td>[🚮, 🚰, 🚺]</td>\n",
       "    </tr>\n",
       "    <tr>\n",
       "      <th>letters &amp; numbers</th>\n",
       "      <td>21</td>\n",
       "      <td>[🔝, 🔤, 🆚]</td>\n",
       "    </tr>\n",
       "    <tr>\n",
       "      <th>hearts</th>\n",
       "      <td>19</td>\n",
       "      <td>[💛, 🖤, 💘]</td>\n",
       "    </tr>\n",
       "    <tr>\n",
       "      <th>arrows</th>\n",
       "      <td>16</td>\n",
       "      <td>[⬇️, ↔️, ↘️]</td>\n",
       "    </tr>\n",
       "    <tr>\n",
       "      <th>astrological</th>\n",
       "      <td>13</td>\n",
       "      <td>[♍, ♌, ♌]</td>\n",
       "    </tr>\n",
       "    <tr>\n",
       "      <th>religious</th>\n",
       "      <td>10</td>\n",
       "      <td>[🕎, 🕎, 🛐]</td>\n",
       "    </tr>\n",
       "  </tbody>\n",
       "</table>\n",
       "</div>"
      ],
      "text/plain": [
       "                              Number           Examples\n",
       "category                                               \n",
       "objects                          202         [📺, 🎀, 🖊️]\n",
       "nature                           189          [🐂, 🌸, 🐥]\n",
       "travel-places                    129         [🏚️, 🚌, 🛂]\n",
       "food-drink                       113          [🍖, 🍌, 🥕]\n",
       "faces                            111          [😩, 🤓, 🤯]\n",
       "people                           103     [🧜, 👩‍❤️‍👨, 🦸]\n",
       "activity                          78          [🏏, 🏇, 🥉]\n",
       "clothes & accessories             47          [💍, 🥽, 👑]\n",
       "symbols & signs                   43        [🔱, ✔️, ♾️]\n",
       "professions                       38  [👨‍⚖️, 👩‍🔧, 👩‍⚖️]\n",
       "Japanese symbols and objects      34          [🈲, 🈲, 🈶]\n",
       "hands & gestures                  34         [☝️, 🤜, 🤞]\n",
       "geometrical                       34          [🟢, 🟧, 🔳]\n",
       "buttons & mobile                  29         [◀️, 🔆, 📳]\n",
       "public information symbols        26          [🚮, 🚰, 🚺]\n",
       "letters & numbers                 21          [🔝, 🔤, 🆚]\n",
       "hearts                            19          [💛, 🖤, 💘]\n",
       "arrows                            16       [⬇️, ↔️, ↘️]\n",
       "astrological                      13          [♍, ♌, ♌]\n",
       "religious                         10          [🕎, 🕎, 🛐]"
      ]
     },
     "execution_count": 12,
     "metadata": {},
     "output_type": "execute_result"
    }
   ],
   "source": [
    "df1.join(df2)"
   ]
  }
 ],
 "metadata": {
  "kernelspec": {
   "display_name": "Python 3",
   "language": "python",
   "name": "python3"
  },
  "language_info": {
   "codemirror_mode": {
    "name": "ipython",
    "version": 3
   },
   "file_extension": ".py",
   "mimetype": "text/x-python",
   "name": "python",
   "nbconvert_exporter": "python",
   "pygments_lexer": "ipython3",
   "version": "3.7.7"
  }
 },
 "nbformat": 4,
 "nbformat_minor": 5
}
