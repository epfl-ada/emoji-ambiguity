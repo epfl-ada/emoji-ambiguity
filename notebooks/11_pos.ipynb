{
 "cells": [
  {
   "cell_type": "code",
   "execution_count": 1,
   "id": "chubby-phenomenon",
   "metadata": {},
   "outputs": [],
   "source": [
    "%load_ext autoreload\n",
    "%autoreload 2\n",
    "\n",
    "from operator import itemgetter \n",
    "import pandas as pd\n",
    "import numpy as np\n",
    "import spacy\n",
    "import seaborn as sns\n",
    "import matplotlib.pyplot as plt\n",
    "import nltk\n",
    "\n",
    "import sys\n",
    "sys.path.append(\"..\")\n",
    "from settings import AMBIGUITY_PATH"
   ]
  },
  {
   "cell_type": "code",
   "execution_count": 164,
   "id": "collect-hughes",
   "metadata": {},
   "outputs": [],
   "source": [
    "# plt.rcParams['figure.figsize'] = [6, 4]\n",
    "# plt.rcParams['font.size'] = 12\n",
    "# plt.rcParams['figure.figsize'][0] *= 1.7\n",
    "# plt.rcParams['figure.figsize'][1] *= 1.7"
   ]
  },
  {
   "cell_type": "code",
   "execution_count": 95,
   "id": "beginning-restoration",
   "metadata": {},
   "outputs": [
    {
     "name": "stderr",
     "output_type": "stream",
     "text": [
      "[nltk_data] Downloading package universal_tagset to\n",
      "[nltk_data]     /home/jczestochowska/nltk_data...\n",
      "[nltk_data]   Unzipping taggers/universal_tagset.zip.\n"
     ]
    },
    {
     "data": {
      "text/plain": [
       "True"
      ]
     },
     "execution_count": 95,
     "metadata": {},
     "output_type": "execute_result"
    }
   ],
   "source": [
    "# nltk.download('brown')\n",
    "# nltk.download('universal_tagset')"
   ]
  },
  {
   "cell_type": "code",
   "execution_count": 33,
   "id": "japanese-leather",
   "metadata": {},
   "outputs": [],
   "source": [
    "ambiguity = pd.read_csv(AMBIGUITY_PATH, encoding='utf-8')\n",
    "words = ambiguity.word.unique()\n",
    "\n",
    "ambiguity_tagged = []\n",
    "for word in words:\n",
    "    text = nltk.word_tokenize(word)\n",
    "    ambiguity_tagged += nltk.pos_tag(text, tagset='universal')\n",
    "\n",
    "nltk_tags = list(zip(*ambiguity_tagged))[1]\n",
    "nltk_tags_df = pd.Series(nltk_tags)"
   ]
  },
  {
   "cell_type": "code",
   "execution_count": 5,
   "id": "welcome-transcription",
   "metadata": {},
   "outputs": [],
   "source": [
    "# brown_tags = list(zip(*nltk.corpus.brown.tagged_words(tagset='universal')))[1]\n",
    "# brown_tags_df = pd.Series(brown_tags)"
   ]
  },
  {
   "cell_type": "code",
   "execution_count": 30,
   "id": "latest-tiffany",
   "metadata": {},
   "outputs": [],
   "source": [
    "brown = list(zip(*nltk.corpus.brown.tagged_words(tagset='universal')))\n",
    "brown_tags = brown[1]\n",
    "brown_words = brown[0]\n",
    "\n",
    "unique_words, indices = set(), []\n",
    "for index, word in enumerate(brown_words):\n",
    "    if word not in unique_words:\n",
    "        unique_words.add(word)\n",
    "        indices.append(index)\n",
    "        \n",
    "brown_tags = itemgetter(*indices)(brown_tags)\n",
    "brown_tags_df = pd.Series(brown_tags)"
   ]
  },
  {
   "cell_type": "code",
   "execution_count": 34,
   "id": "stupid-young",
   "metadata": {},
   "outputs": [
    {
     "data": {
      "image/png": "[encoded data removed]",
      "text/plain": [
       "<Figure size 1080x576 with 2 Axes>"
      ]
     },
     "metadata": {
      "needs_background": "light"
     },
     "output_type": "display_data"
    }
   ],
   "source": [
    "plt.rcParams['font.size'] = 15\n",
    "plt.rcParams['figure.figsize'] = [15, 8]\n",
    "fig, axes = plt.subplots(1, 2, sharey=True)\n",
    "\n",
    "df = nltk_tags_df.value_counts(normalize=True)\\\n",
    "                             .to_frame()\\\n",
    "                             .reset_index()\\\n",
    "                             .rename({\"index\": \"part of speech\", 0: \"percentage\"}, axis=1)\n",
    "g1 = sns.barplot(data=df, x='part of speech', y='percentage', ax=axes[0])\n",
    "g1.set_yscale(\"log\")\n",
    "g1.set_xticklabels(g1.get_xticklabels(), rotation=90)\n",
    "g1.set_title(\"Ambiguity dataset\");\n",
    "\n",
    "\n",
    "g2 = sns.barplot(data=brown_tags_df.value_counts(normalize=True)\\\n",
    "                             .to_frame()\\\n",
    "                             .reset_index()\\\n",
    "                             .rename({\"index\": \"part of speech\", 0: \"percentage\"}, axis=1),\\\n",
    "                 x='part of speech', y='percentage', order=df['part of speech'], ax=axes[1])\n",
    "\n",
    "\n",
    "g2.set_yscale(\"log\")\n",
    "g2.set_title(\"Brown corpus\");\n",
    "g2.set_xticklabels(g2.get_xticklabels(), rotation=90);"
   ]
  },
  {
   "cell_type": "code",
   "execution_count": 132,
   "id": "forbidden-subdivision",
   "metadata": {},
   "outputs": [],
   "source": [
    "\"\"\"\"\n",
    "VERB - verbs (all tenses and modes)\n",
    "NOUN - nouns (common and proper)\n",
    "PRON - pronouns\n",
    "ADJ - adjectives\n",
    "ADV - adverbs\n",
    "ADP - adpositions (prepositions and postpositions)\n",
    "CONJ - conjunctions\n",
    "DET - determiners\n",
    "NUM - cardinal numbers\n",
    "PRT - particles or other function words\n",
    "X - other: foreign words, typos, abbreviations\n",
    ". - punctuation\n",
    "\"\"\"\n",
    "\n",
    "parts_of_speech = [\"VERB\", \"NOUN\", \"PRON\", \"ADJ\", \"ADV\", \"ADP\", \"CONJ\", \"DET\", \"NUM\", \"PRT\", \"X\", \".\"]"
   ]
  },
  {
   "cell_type": "code",
   "execution_count": 134,
   "id": "integrated-condition",
   "metadata": {},
   "outputs": [
    {
     "name": "stdout",
     "output_type": "stream",
     "text": [
      "VERB\n",
      "['is', 'was', 'be', 'had', 'are', 'have', 'were', 'would', 'been', 'has']\n",
      "\n",
      "NOUN\n",
      "['time', 'man', 'Af', 'years', 'way', 'Mr.', 'people', 'men', 'world', 'life']\n",
      "\n",
      "PRON\n",
      "['it', 'he', 'I', 'He', 'they', 'you', 'him', 'who', 'It', 'we']\n",
      "\n",
      "ADJ\n",
      "['other', 'new', 'first', 'more', 'such', 'many', 'own', 'good', 'same', 'little']\n",
      "\n",
      "ADV\n",
      "['not', 'when', 'so', 'only', 'more', 'as', 'now', 'then', 'also', 'even']\n",
      "\n",
      "ADP\n",
      "['of', 'in', 'to', 'for', 'with', 'that', 'on', 'as', 'by', 'at']\n",
      "\n",
      "CONJ\n",
      "['and', 'or', 'but', 'But', 'And', 'either', '&', 'nor', 'Or', 'neither']\n",
      "\n",
      "DET\n",
      "['the', 'a', 'The', 'his', 'this', 'which', 'an', 'their', 'that', 'its']\n",
      "\n",
      "NUM\n",
      "['one', 'two', 'three', '1', '2', 'One', 'four', '3', 'five', '4']\n",
      "\n",
      "PRT\n",
      "['to', 'all', 'up', 'out', 'there', 'There', 'down', 'on', 'off', 'in']\n",
      "\n",
      "X\n",
      "[]\n",
      "\n",
      ".\n",
      "[',', '.', '``', \"''\", ';', '?', '--', ')', '(', ':']\n",
      "\n"
     ]
    }
   ],
   "source": [
    "brown = nltk.corpus.brown.tagged_words(tagset='universal')\n",
    "word_tag_fd = nltk.FreqDist(brown)\n",
    "\n",
    "for pos in parts_of_speech:\n",
    "    print(pos)\n",
    "    print([wt[0] for (wt, _) in word_tag_fd.most_common(n=2000) if wt[1] == pos][:10])\n",
    "    print()"
   ]
  },
  {
   "cell_type": "code",
   "execution_count": 138,
   "id": "direct-hydrogen",
   "metadata": {},
   "outputs": [
    {
     "name": "stdout",
     "output_type": "stream",
     "text": [
      "VERB\n",
      "['laughing', 'pen', 'crying', 'shocked', 'thinking', 'confused', 'rose', 'can', 'camping', 'lightning']\n",
      "\n",
      "NOUN\n",
      "['family', 'love', 'heart', 'moon', 'train', 'sad', 'square', 'star', 'book', 'flower']\n",
      "\n",
      "PRON\n",
      "['what', 'me', 'you', 'your', 'us']\n",
      "\n",
      "ADJ\n",
      "['happy', 'chinese', 'angry', 'surprised', 'japanese', 'black', 'green', 'worried', 'red', 'free']\n",
      "\n",
      "ADV\n",
      "['up', 'down', 'silly', 'forward', 'back', 'nose', 'upward', 'not', 'soon', 'close']\n",
      "\n",
      "ADP\n",
      "['on', 'off', 'tophat', 'around', 'of', 'like', 'above', 'in', 'below', 'at']\n",
      "\n",
      "CONJ\n",
      "['plus', 'and', 'or', 'less']\n",
      "\n",
      "DET\n",
      "['no', 'a', 'this', 'whatever', 'both', 'the', 'which', 'either', 'that', 'an']\n",
      "\n",
      "NUM\n",
      "['one', 'eight', 'two', 'five', 'left', 'four']\n",
      "\n",
      "PRT\n",
      "['to', 'out', 'up', 'off', 'back', 'down']\n",
      "\n",
      "X\n",
      "['de', 'lis', 'oh']\n",
      "\n",
      ".\n",
      "[]\n",
      "\n"
     ]
    }
   ],
   "source": [
    "ambiguity_word_tag_fd = nltk.FreqDist(ambiguity_tagged)\n",
    "\n",
    "for pos in parts_of_speech:\n",
    "    print(pos)\n",
    "    print([wt[0] for (wt, _) in ambiguity_word_tag_fd.most_common(n=5000) if wt[1] == pos][:10])\n",
    "    print()"
   ]
  }
 ],
 "metadata": {
  "kernelspec": {
   "display_name": "Python 3",
   "language": "python",
   "name": "python3"
  },
  "language_info": {
   "codemirror_mode": {
    "name": "ipython",
    "version": 3
   },
   "file_extension": ".py",
   "mimetype": "text/x-python",
   "name": "python",
   "nbconvert_exporter": "python",
   "pygments_lexer": "ipython3",
   "version": "3.6.9"
  }
 },
 "nbformat": 4,
 "nbformat_minor": 5
}
