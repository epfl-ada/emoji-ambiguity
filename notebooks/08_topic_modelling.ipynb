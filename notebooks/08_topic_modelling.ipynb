{
 "cells": [
  {
   "cell_type": "code",
   "execution_count": 4,
   "metadata": {},
   "outputs": [],
   "source": [
    "import pandas as pd\n",
    "import numpy as np\n",
    "\n",
    "import sys\n",
    "sys.path.append(\"..\")\n",
    "from settings import AMBIGUITY_PATH"
   ]
  },
  {
   "cell_type": "code",
   "execution_count": 5,
   "metadata": {},
   "outputs": [
    {
     "data": {
      "text/html": [
       "<div>\n",
       "<style scoped>\n",
       "    .dataframe tbody tr th:only-of-type {\n",
       "        vertical-align: middle;\n",
       "    }\n",
       "\n",
       "    .dataframe tbody tr th {\n",
       "        vertical-align: top;\n",
       "    }\n",
       "\n",
       "    .dataframe thead th {\n",
       "        text-align: right;\n",
       "    }\n",
       "</style>\n",
       "<table border=\"1\" class=\"dataframe\">\n",
       "  <thead>\n",
       "    <tr style=\"text-align: right;\">\n",
       "      <th></th>\n",
       "      <th>WorkerID</th>\n",
       "      <th>FormId</th>\n",
       "      <th>Duration</th>\n",
       "      <th>emoji_index</th>\n",
       "      <th>emoji</th>\n",
       "      <th>word</th>\n",
       "    </tr>\n",
       "  </thead>\n",
       "  <tbody>\n",
       "    <tr>\n",
       "      <th>0</th>\n",
       "      <td>A19AAMLW7OP5V4</td>\n",
       "      <td>65</td>\n",
       "      <td>330.0</td>\n",
       "      <td>0</td>\n",
       "      <td>#️⃣</td>\n",
       "      <td>ash</td>\n",
       "    </tr>\n",
       "    <tr>\n",
       "      <th>1</th>\n",
       "      <td>A1DD23J1WBGQUU</td>\n",
       "      <td>65</td>\n",
       "      <td>315.0</td>\n",
       "      <td>0</td>\n",
       "      <td>#️⃣</td>\n",
       "      <td>hashtag</td>\n",
       "    </tr>\n",
       "    <tr>\n",
       "      <th>2</th>\n",
       "      <td>A2C7A6E70NYNUI</td>\n",
       "      <td>65</td>\n",
       "      <td>317.0</td>\n",
       "      <td>0</td>\n",
       "      <td>#️⃣</td>\n",
       "      <td>hashtag</td>\n",
       "    </tr>\n",
       "    <tr>\n",
       "      <th>3</th>\n",
       "      <td>A2CK0OXMPOR9LE</td>\n",
       "      <td>65</td>\n",
       "      <td>521.0</td>\n",
       "      <td>0</td>\n",
       "      <td>#️⃣</td>\n",
       "      <td>pound</td>\n",
       "    </tr>\n",
       "    <tr>\n",
       "      <th>4</th>\n",
       "      <td>A272X64FOZFYLB</td>\n",
       "      <td>65</td>\n",
       "      <td>329.0</td>\n",
       "      <td>0</td>\n",
       "      <td>#️⃣</td>\n",
       "      <td>pound</td>\n",
       "    </tr>\n",
       "  </tbody>\n",
       "</table>\n",
       "</div>"
      ],
      "text/plain": [
       "         WorkerID  FormId  Duration  emoji_index emoji     word\n",
       "0  A19AAMLW7OP5V4      65     330.0            0   #️⃣      ash\n",
       "1  A1DD23J1WBGQUU      65     315.0            0   #️⃣  hashtag\n",
       "2  A2C7A6E70NYNUI      65     317.0            0   #️⃣  hashtag\n",
       "3  A2CK0OXMPOR9LE      65     521.0            0   #️⃣    pound\n",
       "4  A272X64FOZFYLB      65     329.0            0   #️⃣    pound"
      ]
     },
     "execution_count": 5,
     "metadata": {},
     "output_type": "execute_result"
    }
   ],
   "source": [
    "ambiguity = pd.read_csv(AMBIGUITY_PATH, encoding='utf-8')\n",
    "ambiguity.head()"
   ]
  },
  {
   "cell_type": "code",
   "execution_count": 85,
   "metadata": {},
   "outputs": [
    {
     "data": {
      "text/html": [
       "<div>\n",
       "<style scoped>\n",
       "    .dataframe tbody tr th:only-of-type {\n",
       "        vertical-align: middle;\n",
       "    }\n",
       "\n",
       "    .dataframe tbody tr th {\n",
       "        vertical-align: top;\n",
       "    }\n",
       "\n",
       "    .dataframe thead th {\n",
       "        text-align: right;\n",
       "    }\n",
       "</style>\n",
       "<table border=\"1\" class=\"dataframe\">\n",
       "  <thead>\n",
       "    <tr style=\"text-align: right;\">\n",
       "      <th></th>\n",
       "      <th>topic0</th>\n",
       "      <th>topic1</th>\n",
       "      <th>topic2</th>\n",
       "      <th>topic3</th>\n",
       "      <th>topic4</th>\n",
       "      <th>topic5</th>\n",
       "      <th>topic6</th>\n",
       "      <th>topic7</th>\n",
       "      <th>topic8</th>\n",
       "      <th>topic9</th>\n",
       "      <th>...</th>\n",
       "      <th>topic990</th>\n",
       "      <th>topic991</th>\n",
       "      <th>topic992</th>\n",
       "      <th>topic993</th>\n",
       "      <th>topic994</th>\n",
       "      <th>topic995</th>\n",
       "      <th>topic996</th>\n",
       "      <th>topic997</th>\n",
       "      <th>topic998</th>\n",
       "      <th>topic999</th>\n",
       "    </tr>\n",
       "  </thead>\n",
       "  <tbody>\n",
       "    <tr>\n",
       "      <th>aardvark</th>\n",
       "      <td>9.379191e-10</td>\n",
       "      <td>5.477594e-08</td>\n",
       "      <td>7.176654e-07</td>\n",
       "      <td>7.014542e-07</td>\n",
       "      <td>5.416686e-08</td>\n",
       "      <td>3.937373e-09</td>\n",
       "      <td>9.103998e-08</td>\n",
       "      <td>1.831172e-06</td>\n",
       "      <td>1.560337e-07</td>\n",
       "      <td>0.000005</td>\n",
       "      <td>...</td>\n",
       "      <td>-0.000276</td>\n",
       "      <td>0.000045</td>\n",
       "      <td>0.000185</td>\n",
       "      <td>0.000375</td>\n",
       "      <td>0.000191</td>\n",
       "      <td>-0.000217</td>\n",
       "      <td>0.000160</td>\n",
       "      <td>-0.000325</td>\n",
       "      <td>-0.000553</td>\n",
       "      <td>-0.000444</td>\n",
       "    </tr>\n",
       "    <tr>\n",
       "      <th>ab</th>\n",
       "      <td>9.159959e-08</td>\n",
       "      <td>7.255564e-06</td>\n",
       "      <td>3.432000e-04</td>\n",
       "      <td>-1.865158e-04</td>\n",
       "      <td>-3.888424e-06</td>\n",
       "      <td>-5.122018e-06</td>\n",
       "      <td>4.029080e-05</td>\n",
       "      <td>-5.413787e-06</td>\n",
       "      <td>-4.941931e-06</td>\n",
       "      <td>0.000042</td>\n",
       "      <td>...</td>\n",
       "      <td>-0.018455</td>\n",
       "      <td>0.005943</td>\n",
       "      <td>0.019112</td>\n",
       "      <td>0.015533</td>\n",
       "      <td>0.008717</td>\n",
       "      <td>-0.030606</td>\n",
       "      <td>-0.001493</td>\n",
       "      <td>0.005272</td>\n",
       "      <td>0.003222</td>\n",
       "      <td>0.004112</td>\n",
       "    </tr>\n",
       "    <tr>\n",
       "      <th>abacus</th>\n",
       "      <td>5.362996e-07</td>\n",
       "      <td>7.115101e-06</td>\n",
       "      <td>2.968920e-03</td>\n",
       "      <td>-1.632498e-03</td>\n",
       "      <td>-1.428282e-04</td>\n",
       "      <td>-4.997754e-05</td>\n",
       "      <td>-2.869638e-04</td>\n",
       "      <td>-7.523060e-05</td>\n",
       "      <td>1.413431e-04</td>\n",
       "      <td>-0.000040</td>\n",
       "      <td>...</td>\n",
       "      <td>-0.002666</td>\n",
       "      <td>-0.000805</td>\n",
       "      <td>-0.009637</td>\n",
       "      <td>0.007331</td>\n",
       "      <td>-0.003218</td>\n",
       "      <td>-0.011510</td>\n",
       "      <td>-0.003083</td>\n",
       "      <td>-0.003451</td>\n",
       "      <td>0.007520</td>\n",
       "      <td>0.001856</td>\n",
       "    </tr>\n",
       "    <tr>\n",
       "      <th>abbreviations</th>\n",
       "      <td>9.439497e-08</td>\n",
       "      <td>2.086882e-06</td>\n",
       "      <td>5.315578e-04</td>\n",
       "      <td>-2.860461e-04</td>\n",
       "      <td>-2.629994e-05</td>\n",
       "      <td>-9.092181e-06</td>\n",
       "      <td>-4.880661e-05</td>\n",
       "      <td>-9.521623e-06</td>\n",
       "      <td>1.309162e-05</td>\n",
       "      <td>-0.000002</td>\n",
       "      <td>...</td>\n",
       "      <td>-0.001069</td>\n",
       "      <td>-0.000122</td>\n",
       "      <td>-0.000618</td>\n",
       "      <td>0.000144</td>\n",
       "      <td>-0.000340</td>\n",
       "      <td>0.001745</td>\n",
       "      <td>0.000485</td>\n",
       "      <td>-0.001272</td>\n",
       "      <td>-0.001237</td>\n",
       "      <td>0.000290</td>\n",
       "    </tr>\n",
       "    <tr>\n",
       "      <th>abc</th>\n",
       "      <td>3.593172e-08</td>\n",
       "      <td>3.576845e-06</td>\n",
       "      <td>7.456573e-05</td>\n",
       "      <td>-4.002368e-05</td>\n",
       "      <td>2.255005e-06</td>\n",
       "      <td>-7.911761e-07</td>\n",
       "      <td>2.810846e-05</td>\n",
       "      <td>-3.115418e-08</td>\n",
       "      <td>1.459945e-06</td>\n",
       "      <td>0.000021</td>\n",
       "      <td>...</td>\n",
       "      <td>-0.013352</td>\n",
       "      <td>0.004792</td>\n",
       "      <td>0.013933</td>\n",
       "      <td>0.012242</td>\n",
       "      <td>0.005283</td>\n",
       "      <td>-0.025778</td>\n",
       "      <td>-0.000342</td>\n",
       "      <td>0.001523</td>\n",
       "      <td>0.004744</td>\n",
       "      <td>0.004433</td>\n",
       "    </tr>\n",
       "  </tbody>\n",
       "</table>\n",
       "<p>5 rows × 1000 columns</p>\n",
       "</div>"
      ],
      "text/plain": [
       "                     topic0        topic1        topic2        topic3  \\\n",
       "aardvark       9.379191e-10  5.477594e-08  7.176654e-07  7.014542e-07   \n",
       "ab             9.159959e-08  7.255564e-06  3.432000e-04 -1.865158e-04   \n",
       "abacus         5.362996e-07  7.115101e-06  2.968920e-03 -1.632498e-03   \n",
       "abbreviations  9.439497e-08  2.086882e-06  5.315578e-04 -2.860461e-04   \n",
       "abc            3.593172e-08  3.576845e-06  7.456573e-05 -4.002368e-05   \n",
       "\n",
       "                     topic4        topic5        topic6        topic7  \\\n",
       "aardvark       5.416686e-08  3.937373e-09  9.103998e-08  1.831172e-06   \n",
       "ab            -3.888424e-06 -5.122018e-06  4.029080e-05 -5.413787e-06   \n",
       "abacus        -1.428282e-04 -4.997754e-05 -2.869638e-04 -7.523060e-05   \n",
       "abbreviations -2.629994e-05 -9.092181e-06 -4.880661e-05 -9.521623e-06   \n",
       "abc            2.255005e-06 -7.911761e-07  2.810846e-05 -3.115418e-08   \n",
       "\n",
       "                     topic8    topic9  ...  topic990  topic991  topic992  \\\n",
       "aardvark       1.560337e-07  0.000005  ... -0.000276  0.000045  0.000185   \n",
       "ab            -4.941931e-06  0.000042  ... -0.018455  0.005943  0.019112   \n",
       "abacus         1.413431e-04 -0.000040  ... -0.002666 -0.000805 -0.009637   \n",
       "abbreviations  1.309162e-05 -0.000002  ... -0.001069 -0.000122 -0.000618   \n",
       "abc            1.459945e-06  0.000021  ... -0.013352  0.004792  0.013933   \n",
       "\n",
       "               topic993  topic994  topic995  topic996  topic997  topic998  \\\n",
       "aardvark       0.000375  0.000191 -0.000217  0.000160 -0.000325 -0.000553   \n",
       "ab             0.015533  0.008717 -0.030606 -0.001493  0.005272  0.003222   \n",
       "abacus         0.007331 -0.003218 -0.011510 -0.003083 -0.003451  0.007520   \n",
       "abbreviations  0.000144 -0.000340  0.001745  0.000485 -0.001272 -0.001237   \n",
       "abc            0.012242  0.005283 -0.025778 -0.000342  0.001523  0.004744   \n",
       "\n",
       "               topic999  \n",
       "aardvark      -0.000444  \n",
       "ab             0.004112  \n",
       "abacus         0.001856  \n",
       "abbreviations  0.000290  \n",
       "abc            0.004433  \n",
       "\n",
       "[5 rows x 1000 columns]"
      ]
     },
     "execution_count": 85,
     "metadata": {},
     "output_type": "execute_result"
    }
   ],
   "source": [
    "from sklearn.decomposition import TruncatedSVD\n",
    "from sklearn.feature_extraction.text import TfidfVectorizer\n",
    "\n",
    "corpus = list(ambiguity.groupby(\"emoji\").word.apply(list).apply(lambda x: \" \".join(x)).values)\n",
    "vectorizer = TfidfVectorizer()\n",
    "tfidf = vectorizer.fit_transform(corpus)\n",
    "\n",
    "num_topics = 1000\n",
    "lsa = TruncatedSVD(num_topics)\n",
    "lsa.fit(tfidf)\n",
    "\n",
    "dictionary = vectorizer.get_feature_names()\n",
    "\n",
    "lsa_topics = pd.DataFrame(lsa.components_,\n",
    "                      index=[f\"topic{i}\" for i in range(num_topics)],\n",
    "                      columns=dictionary).T\n",
    "lsa_topics.head()"
   ]
  },
  {
   "cell_type": "code",
   "execution_count": 86,
   "metadata": {},
   "outputs": [
    {
     "data": {
      "text/plain": [
       "0.9930222267063094"
      ]
     },
     "execution_count": 86,
     "metadata": {},
     "output_type": "execute_result"
    }
   ],
   "source": [
    "sum(lsa.explained_variance_ratio_)"
   ]
  },
  {
   "cell_type": "code",
   "execution_count": 87,
   "metadata": {
    "scrolled": true
   },
   "outputs": [
    {
     "data": {
      "text/plain": [
       "Index(['family', 'mother', 'parent', 'daughter', 'couple', 'people', 'love',\n",
       "       'father', 'siblings', 'son'],\n",
       "      dtype='object')"
      ]
     },
     "metadata": {},
     "output_type": "display_data"
    },
    {
     "data": {
      "text/plain": [
       "Index(['love', 'heart', 'kiss', 'couple', 'hearts', 'kissing', 'lesbian',\n",
       "       'lovestruck', 'valentine', 'family'],\n",
       "      dtype='object')"
      ]
     },
     "metadata": {},
     "output_type": "display_data"
    },
    {
     "data": {
      "text/plain": [
       "Index(['chinese', 'sad', 'symbol', 'japanese', 'kanji', 'sign', 'crying',\n",
       "       'asian', 'character', 'boy'],\n",
       "      dtype='object')"
      ]
     },
     "metadata": {},
     "output_type": "display_data"
    },
    {
     "data": {
      "text/plain": [
       "Index(['sad', 'chinese', 'crying', 'worried', 'boy', 'cry', 'upset', 'symbol',\n",
       "       'japanese', 'happy'],\n",
       "      dtype='object')"
      ]
     },
     "metadata": {},
     "output_type": "display_data"
    },
    {
     "data": {
      "text/plain": [
       "Index(['moon', 'square', 'circle', 'sad', 'happy', 'smile', 'night', 'eclipse',\n",
       "       'black', 'ball'],\n",
       "      dtype='object')"
      ]
     },
     "metadata": {},
     "output_type": "display_data"
    },
    {
     "data": {
      "text/plain": [
       "Index(['train', 'bus', 'subway', 'trolley', 'tram', 'helicopter', 'rail',\n",
       "       'monorail', 'cablecar', 'trolly'],\n",
       "      dtype='object')"
      ]
     },
     "metadata": {},
     "output_type": "display_data"
    },
    {
     "data": {
      "text/plain": [
       "Index(['square', 'black', 'moon', 'blank', 'box', 'block', 'white', 'chinese',\n",
       "       'gray', 'yellow'],\n",
       "      dtype='object')"
      ]
     },
     "metadata": {},
     "output_type": "display_data"
    },
    {
     "data": {
      "text/plain": [
       "Index(['happy', 'boy', 'smile', 'man', 'sad', 'moon', 'baby', 'laughing',\n",
       "       'girl', 'woman'],\n",
       "      dtype='object')"
      ]
     },
     "metadata": {},
     "output_type": "display_data"
    },
    {
     "data": {
      "text/plain": [
       "Index(['star', 'flower', 'asterisk', 'sun', 'jewish', 'stars', 'snowflake',\n",
       "       'diamond', 'explosion', 'snow'],\n",
       "      dtype='object')"
      ]
     },
     "metadata": {},
     "output_type": "display_data"
    },
    {
     "data": {
      "text/plain": [
       "Index(['heart', 'love', 'kiss', 'cat', 'couple', 'kissing', 'boy', 'man',\n",
       "       'lesbian', 'friends'],\n",
       "      dtype='object')"
      ]
     },
     "metadata": {},
     "output_type": "display_data"
    },
    {
     "data": {
      "text/plain": [
       "Index(['book', 'down', 'up', 'notebook', 'arrow', 'bookmark', 'triangle',\n",
       "       'chevron', 'reading', 'turn'],\n",
       "      dtype='object')"
      ]
     },
     "metadata": {},
     "output_type": "display_data"
    },
    {
     "data": {
      "text/plain": [
       "Index(['up', 'down', 'arrow', 'book', 'triangle', 'point', 'turn', 'upward',\n",
       "       'notebook', 'right'],\n",
       "      dtype='object')"
      ]
     },
     "metadata": {},
     "output_type": "display_data"
    },
    {
     "data": {
      "text/plain": [
       "Index(['man', 'boy', 'cat', 'happy', 'smile', 'laughing', 'laugh', 'silly',\n",
       "       'angry', 'love'],\n",
       "      dtype='object')"
      ]
     },
     "metadata": {},
     "output_type": "display_data"
    },
    {
     "data": {
      "text/plain": [
       "Index(['money', 'cash', 'yen', 'dollar', 'rich', 'currency', 'chinese',\n",
       "       'exchange', 'pounds', 'cat'],\n",
       "      dtype='object')"
      ]
     },
     "metadata": {},
     "output_type": "display_data"
    },
    {
     "data": {
      "text/plain": [
       "Index(['sun', 'flower', 'circle', 'diamond', 'cloudy', 'star', 'sunny',\n",
       "       'sunrise', 'moon', 'sunshine'],\n",
       "      dtype='object')"
      ]
     },
     "metadata": {},
     "output_type": "display_data"
    },
    {
     "data": {
      "text/plain": [
       "Index(['flower', 'diamond', 'sun', 'circle', 'star', 'cloudy', 'sunny',\n",
       "       'sunrise', 'rose', 'tulip'],\n",
       "      dtype='object')"
      ]
     },
     "metadata": {},
     "output_type": "display_data"
    },
    {
     "data": {
      "text/plain": [
       "Index(['cat', 'angry', 'down', 'happy', 'smile', 'man', 'boy', 'kiss', 'up',\n",
       "       'love'],\n",
       "      dtype='object')"
      ]
     },
     "metadata": {},
     "output_type": "display_data"
    },
    {
     "data": {
      "text/plain": [
       "Index(['down', 'up', 'cat', 'man', 'happy', 'angry', 'arrow', 'book', 'boy',\n",
       "       'smile'],\n",
       "      dtype='object')"
      ]
     },
     "metadata": {},
     "output_type": "display_data"
    },
    {
     "data": {
      "text/plain": [
       "Index(['wheelchair', 'disabled', 'handicapped', 'handicap', 'chair',\n",
       "       'disability', 'scooter', 'accessible', 'sitting', 'girl'],\n",
       "      dtype='object')"
      ]
     },
     "metadata": {},
     "output_type": "display_data"
    },
    {
     "data": {
      "text/plain": [
       "Index(['diamond', 'flower', 'star', 'building', 'corn', 'rose', 'hospital',\n",
       "       'tulip', 'flowers', 'down'],\n",
       "      dtype='object')"
      ]
     },
     "metadata": {},
     "output_type": "display_data"
    },
    {
     "data": {
      "text/plain": [
       "Index(['building', 'hospital', 'school', 'city', 'church', 'temple', 'house',\n",
       "       'court', 'diamond', 'flower'],\n",
       "      dtype='object')"
      ]
     },
     "metadata": {},
     "output_type": "display_data"
    },
    {
     "data": {
      "text/plain": [
       "Index(['stop', 'circle', 'no', 'sun', 'hand', 'kiss', 'mailbox', 'mail',\n",
       "       'phone', 'sign'],\n",
       "      dtype='object')"
      ]
     },
     "metadata": {},
     "output_type": "display_data"
    },
    {
     "data": {
      "text/plain": [
       "Index(['kiss', 'angry', 'love', 'heart', 'mad', 'circle', 'couple', 'stop',\n",
       "       'no', 'lips'],\n",
       "      dtype='object')"
      ]
     },
     "metadata": {},
     "output_type": "display_data"
    },
    {
     "data": {
      "text/plain": [
       "Index(['mailbox', 'mail', 'circle', 'email', 'envelope', 'letter', 'kiss',\n",
       "       'angry', 'sun', 'love'],\n",
       "      dtype='object')"
      ]
     },
     "metadata": {},
     "output_type": "display_data"
    },
    {
     "data": {
      "text/plain": [
       "Index(['circle', 'no', 'stop', 'sun', 'phone', 'dot', 'cat', 'kiss', 'cloudy',\n",
       "       'surprised'],\n",
       "      dtype='object')"
      ]
     },
     "metadata": {},
     "output_type": "display_data"
    },
    {
     "data": {
      "text/plain": [
       "Index(['angry', 'cat', 'kiss', 'mouse', 'mad', 'circle', 'laughing', 'devil',\n",
       "       'love', 'man'],\n",
       "      dtype='object')"
      ]
     },
     "metadata": {},
     "output_type": "display_data"
    },
    {
     "data": {
      "text/plain": [
       "Index(['surprised', 'shocked', 'surprise', 'monkey', 'shock', 'angry',\n",
       "       'police', 'exclamation', 'man', 'stop'],\n",
       "      dtype='object')"
      ]
     },
     "metadata": {},
     "output_type": "display_data"
    },
    {
     "data": {
      "text/plain": [
       "Index(['police', 'car', 'cop', 'monkey', 'pilot', 'policeman', 'mailman',\n",
       "       'bus', 'mouse', 'officer'],\n",
       "      dtype='object')"
      ]
     },
     "metadata": {},
     "output_type": "display_data"
    },
    {
     "data": {
      "text/plain": [
       "Index(['mouse', 'monkey', 'laughing', 'girl', 'woman', 'phone', 'laugh', 'man',\n",
       "       'cat', 'rat'],\n",
       "      dtype='object')"
      ]
     },
     "metadata": {},
     "output_type": "display_data"
    },
    {
     "data": {
      "text/plain": [
       "Index(['phone', 'monkey', 'mouse', 'telephone', 'stop', 'cellphone', 'no',\n",
       "       'circle', 'hand', 'selfie'],\n",
       "      dtype='object')"
      ]
     },
     "metadata": {},
     "output_type": "display_data"
    },
    {
     "data": {
      "text/plain": [
       "Index(['monkey', 'phone', 'mouse', 'surprised', 'blind', 'shocked', 'gorilla',\n",
       "       'surprise', 'shock', 'telephone'],\n",
       "      dtype='object')"
      ]
     },
     "metadata": {},
     "output_type": "display_data"
    },
    {
     "data": {
      "text/plain": [
       "Index(['girl', 'woman', 'laughing', 'mouse', 'cat', 'laugh', 'surprised',\n",
       "       'monkey', 'man', 'grandma'],\n",
       "      dtype='object')"
      ]
     },
     "metadata": {},
     "output_type": "display_data"
    },
    {
     "data": {
      "text/plain": [
       "Index(['medal', 'second', 'winner', 'prize', 'award', 'third', 'place',\n",
       "       'first', 'bronze', 'silver'],\n",
       "      dtype='object')"
      ]
     },
     "metadata": {},
     "output_type": "display_data"
    },
    {
     "data": {
      "text/plain": [
       "Index(['laughing', 'girl', 'woman', 'laugh', 'smile', 'happy', 'crying', 'cat',\n",
       "       'funny', 'grandma'],\n",
       "      dtype='object')"
      ]
     },
     "metadata": {},
     "output_type": "display_data"
    },
    {
     "data": {
      "text/plain": [
       "Index(['dog', 'soup', 'wolf', 'fox', 'bowl', 'food', 'puppy', 'bear',\n",
       "       'guidedog', 'poodle'],\n",
       "      dtype='object')"
      ]
     },
     "metadata": {},
     "output_type": "display_data"
    },
    {
     "data": {
      "text/plain": [
       "Index(['movie', 'camera', 'film', 'music', 'video', 'camcorder', 'action',\n",
       "       'movies', 'projector', 'cd'],\n",
       "      dtype='object')"
      ]
     },
     "metadata": {},
     "output_type": "display_data"
    },
    {
     "data": {
      "text/plain": [
       "Index(['music', 'movie', 'camera', 'film', 'cd', 'video', 'headphones', 'note',\n",
       "       'disc', 'camcorder'],\n",
       "      dtype='object')"
      ]
     },
     "metadata": {},
     "output_type": "display_data"
    },
    {
     "data": {
      "text/plain": [
       "Index(['house', 'hospital', 'home', 'church', 'temple', 'houses', 'building',\n",
       "       'no', 'ship', 'flag'],\n",
       "      dtype='object')"
      ]
     },
     "metadata": {},
     "output_type": "display_data"
    },
    {
     "data": {
      "text/plain": [
       "Index(['no', 'hand', 'stop', 'fist', 'water', 'wave', 'cross', 'wrong',\n",
       "       'house', 'rain'],\n",
       "      dtype='object')"
      ]
     },
     "metadata": {},
     "output_type": "display_data"
    },
    {
     "data": {
      "text/plain": [
       "Index(['alphabet', 'rain', 'letter', 'water', 'umbrella', 'cloudy', 'letters',\n",
       "       'cloud', 'mailbox', 'wave'],\n",
       "      dtype='object')"
      ]
     },
     "metadata": {},
     "output_type": "display_data"
    },
    {
     "data": {
      "text/plain": [
       "Index(['alphabet', 'rain', 'letter', 'umbrella', 'cloudy', 'water', 'letters',\n",
       "       'cloud', 'beach', 'paper'],\n",
       "      dtype='object')"
      ]
     },
     "metadata": {},
     "output_type": "display_data"
    },
    {
     "data": {
      "text/plain": [
       "Index(['graph', 'fist', 'chart', 'stocks', 'fistbump', 'stock', 'signal',\n",
       "       'punch', 'sign', 'rain'],\n",
       "      dtype='object')"
      ]
     },
     "metadata": {},
     "output_type": "display_data"
    },
    {
     "data": {
      "text/plain": [
       "Index(['turn', 'arrow', 'rewind', 'triangle', 'refresh', 'left', 'reverse',\n",
       "       'soup', 'repeat', 'alphabet'],\n",
       "      dtype='object')"
      ]
     },
     "metadata": {},
     "output_type": "display_data"
    },
    {
     "data": {
      "text/plain": [
       "Index(['fist', 'graph', 'fistbump', 'soup', 'punch', 'stop', 'chart',\n",
       "       'hospital', 'stocks', 'no'],\n",
       "      dtype='object')"
      ]
     },
     "metadata": {},
     "output_type": "display_data"
    },
    {
     "data": {
      "text/plain": [
       "Index(['soup', 'drink', 'tree', 'fist', 'food', 'bowl', 'dog', 'silly', 'tea',\n",
       "       'turn'],\n",
       "      dtype='object')"
      ]
     },
     "metadata": {},
     "output_type": "display_data"
    },
    {
     "data": {
      "text/plain": [
       "Index(['hospital', 'house', 'building', 'church', 'ship', 'fist', 'boat',\n",
       "       'temple', 'flag', 'city'],\n",
       "      dtype='object')"
      ]
     },
     "metadata": {},
     "output_type": "display_data"
    },
    {
     "data": {
      "text/plain": [
       "Index(['silly', 'crazy', 'goofy', 'soup', 'tongue', 'laugh', 'teasing', 'baby',\n",
       "       'fist', 'laughing'],\n",
       "      dtype='object')"
      ]
     },
     "metadata": {},
     "output_type": "display_data"
    },
    {
     "data": {
      "text/plain": [
       "Index(['bus', 'car', 'sick', 'police', 'van', 'fish', 'ship', 'taxi', 'soup',\n",
       "       'boat'],\n",
       "      dtype='object')"
      ]
     },
     "metadata": {},
     "output_type": "display_data"
    },
    {
     "data": {
      "text/plain": [
       "Index(['sick', 'tree', 'angry', 'ship', 'fish', 'car', 'boat', 'hurt',\n",
       "       'couple', 'bus'],\n",
       "      dtype='object')"
      ]
     },
     "metadata": {},
     "output_type": "display_data"
    },
    {
     "data": {
      "text/plain": [
       "Index(['fish', 'bus', 'plane', 'ship', 'triangle', 'airplane', 'flag', 'boat',\n",
       "       'couple', 'sick'],\n",
       "      dtype='object')"
      ]
     },
     "metadata": {},
     "output_type": "display_data"
    },
    {
     "data": {
      "text/plain": [
       "Index(['tree', 'soup', 'baby', 'sick', 'triangle', 'bus', 'road', 'christmas',\n",
       "       'palm', 'fish'],\n",
       "      dtype='object')"
      ]
     },
     "metadata": {},
     "output_type": "display_data"
    },
    {
     "data": {
      "text/plain": [
       "Index(['triangle', 'sick', 'down', 'tree', 'turn', 'angle', 'up', 'silly',\n",
       "       'fish', 'couple'],\n",
       "      dtype='object')"
      ]
     },
     "metadata": {},
     "output_type": "display_data"
    },
    {
     "data": {
      "text/plain": [
       "Index(['couple', 'ship', 'boat', 'friends', 'fish', 'cruise', 'hospital',\n",
       "       'bus', 'church', 'flag'],\n",
       "      dtype='object')"
      ]
     },
     "metadata": {},
     "output_type": "display_data"
    },
    {
     "data": {
      "text/plain": [
       "Index(['couple', 'plane', 'airplane', 'ship', 'friends', 'boat', 'fish', 'car',\n",
       "       'cruise', 'bus'],\n",
       "      dtype='object')"
      ]
     },
     "metadata": {},
     "output_type": "display_data"
    },
    {
     "data": {
      "text/plain": [
       "Index(['car', 'bus', 'fish', 'couple', 'flag', 'friends', 'plane', 'airplane',\n",
       "       'taxi', 'man'],\n",
       "      dtype='object')"
      ]
     },
     "metadata": {},
     "output_type": "display_data"
    },
    {
     "data": {
      "text/plain": [
       "Index(['calendar', 'plane', 'airplane', 'car', 'bus', 'fish', 'flag', 'date',\n",
       "       'man', 'calender'],\n",
       "      dtype='object')"
      ]
     },
     "metadata": {},
     "output_type": "display_data"
    },
    {
     "data": {
      "text/plain": [
       "Index(['calendar', 'plane', 'car', 'airplane', 'fish', 'bus', 'date', 'flag',\n",
       "       'calender', 'man'],\n",
       "      dtype='object')"
      ]
     },
     "metadata": {},
     "output_type": "display_data"
    },
    {
     "data": {
      "text/plain": [
       "Index(['lock', 'purse', 'locked', 'unlock', 'luggage', 'suitcase', 'pen',\n",
       "       'bag', 'briefcase', 'tools'],\n",
       "      dtype='object')"
      ]
     },
     "metadata": {},
     "output_type": "display_data"
    },
    {
     "data": {
      "text/plain": [
       "Index(['shirt', 'doctor', 'coat', 'labcoat', 'jacket', 'dress', 'jersey',\n",
       "       'church', 'sick', 'stethoscope'],\n",
       "      dtype='object')"
      ]
     },
     "metadata": {},
     "output_type": "display_data"
    },
    {
     "data": {
      "text/plain": [
       "Index(['earth', 'world', 'globe', 'baby', 'water', 'cloudy', 'global',\n",
       "       'internet', 'tree', 'clouds'],\n",
       "      dtype='object')"
      ]
     },
     "metadata": {},
     "output_type": "display_data"
    },
    {
     "data": {
      "text/plain": [
       "Index(['baby', 'tree', 'man', 'water', 'car', 'couple', 'bus', 'umbrella',\n",
       "       'earth', 'friends'],\n",
       "      dtype='object')"
      ]
     },
     "metadata": {},
     "output_type": "display_data"
    },
    {
     "data": {
      "text/plain": [
       "Index(['shoe', 'boot', 'sandal', 'sneaker', 'heels', 'heel', 'slipper',\n",
       "       'running', 'shoes', 'walk'],\n",
       "      dtype='object')"
      ]
     },
     "metadata": {},
     "output_type": "display_data"
    },
    {
     "data": {
      "text/plain": [
       "Index(['boy', 'man', 'car', 'baby', 'bus', 'grandpa', 'grandma', 'exclamation',\n",
       "       'child', 'person'],\n",
       "      dtype='object')"
      ]
     },
     "metadata": {},
     "output_type": "display_data"
    },
    {
     "data": {
      "text/plain": [
       "Index(['water', 'wave', 'cloudy', 'baby', 'drink', 'umbrella', 'question',\n",
       "       'stop', 'cloud', 'soup'],\n",
       "      dtype='object')"
      ]
     },
     "metadata": {},
     "output_type": "display_data"
    },
    {
     "data": {
      "text/plain": [
       "Index(['church', 'building', 'chick', 'hospital', 'fish', 'city', 'cross',\n",
       "       'chicken', 'pray', 'synagogue'],\n",
       "      dtype='object')"
      ]
     },
     "metadata": {},
     "output_type": "display_data"
    },
    {
     "data": {
      "text/plain": [
       "Index(['chick', 'chicken', 'church', 'bird', 'building', 'turkey', 'drumstick',\n",
       "       'hospital', 'meat', 'city'],\n",
       "      dtype='object')"
      ]
     },
     "metadata": {},
     "output_type": "display_data"
    },
    {
     "data": {
      "text/plain": [
       "Index(['umbrella', 'cloudy', 'beach', 'cloud', 'clouds', 'mountain', 'sun',\n",
       "       'island', 'tree', 'church'],\n",
       "      dtype='object')"
      ]
     },
     "metadata": {},
     "output_type": "display_data"
    },
    {
     "data": {
      "text/plain": [
       "Index(['cake', 'paper', 'document', 'alphabet', 'letter', 'file', 'letters',\n",
       "       'folder', 'files', 'note'],\n",
       "      dtype='object')"
      ]
     },
     "metadata": {},
     "output_type": "display_data"
    },
    {
     "data": {
      "text/plain": [
       "Index(['speaker', 'sound', 'volume', 'wave', 'question', 'quiet', 'water',\n",
       "       'silent', 'megaphone', 'mute'],\n",
       "      dtype='object')"
      ]
     },
     "metadata": {},
     "output_type": "display_data"
    },
    {
     "data": {
      "text/plain": [
       "Index(['cake', 'paper', 'document', 'alphabet', 'pie', 'birthday', 'letter',\n",
       "       'pen', 'hair', 'cupcake'],\n",
       "      dtype='object')"
      ]
     },
     "metadata": {},
     "output_type": "display_data"
    },
    {
     "ename": "KeyboardInterrupt",
     "evalue": "",
     "output_type": "error",
     "traceback": [
      "\u001b[0;31m---------------------------------------------------------------------------\u001b[0m",
      "\u001b[0;31mKeyboardInterrupt\u001b[0m                         Traceback (most recent call last)",
      "\u001b[0;32m<ipython-input-87-1092ac4484e1>\u001b[0m in \u001b[0;36m<module>\u001b[0;34m\u001b[0m\n\u001b[1;32m      1\u001b[0m \u001b[0;32mfor\u001b[0m \u001b[0mi\u001b[0m \u001b[0;32min\u001b[0m \u001b[0mrange\u001b[0m\u001b[0;34m(\u001b[0m\u001b[0mnum_topics\u001b[0m\u001b[0;34m)\u001b[0m\u001b[0;34m:\u001b[0m\u001b[0;34m\u001b[0m\u001b[0;34m\u001b[0m\u001b[0m\n\u001b[1;32m      2\u001b[0m     \u001b[0mlsa_topics\u001b[0m\u001b[0;34m[\u001b[0m\u001b[0;34mf'abs_topic{i}'\u001b[0m\u001b[0;34m]\u001b[0m \u001b[0;34m=\u001b[0m \u001b[0mnp\u001b[0m\u001b[0;34m.\u001b[0m\u001b[0mabs\u001b[0m\u001b[0;34m(\u001b[0m\u001b[0mlsa_topics\u001b[0m\u001b[0;34m[\u001b[0m\u001b[0;34mf'topic{i}'\u001b[0m\u001b[0;34m]\u001b[0m\u001b[0;34m)\u001b[0m\u001b[0;34m\u001b[0m\u001b[0;34m\u001b[0m\u001b[0m\n\u001b[0;32m----> 3\u001b[0;31m     \u001b[0mdisplay\u001b[0m\u001b[0;34m(\u001b[0m\u001b[0mlsa_topics\u001b[0m\u001b[0;34m.\u001b[0m\u001b[0msort_values\u001b[0m\u001b[0;34m(\u001b[0m\u001b[0;34mf'abs_topic{i}'\u001b[0m\u001b[0;34m,\u001b[0m \u001b[0mascending\u001b[0m\u001b[0;34m=\u001b[0m\u001b[0;32mFalse\u001b[0m\u001b[0;34m)\u001b[0m\u001b[0;34m.\u001b[0m\u001b[0mindex\u001b[0m\u001b[0;34m[\u001b[0m\u001b[0;34m:\u001b[0m\u001b[0;36m10\u001b[0m\u001b[0;34m]\u001b[0m\u001b[0;34m)\u001b[0m\u001b[0;34m\u001b[0m\u001b[0;34m\u001b[0m\u001b[0m\n\u001b[0m",
      "\u001b[0;32m~/.virtualenvs/base/lib/python3.6/site-packages/pandas/core/frame.py\u001b[0m in \u001b[0;36msort_values\u001b[0;34m(self, by, axis, ascending, inplace, kind, na_position, ignore_index, key)\u001b[0m\n\u001b[1;32m   5310\u001b[0m \u001b[0;34m\u001b[0m\u001b[0m\n\u001b[1;32m   5311\u001b[0m         new_data = self._mgr.take(\n\u001b[0;32m-> 5312\u001b[0;31m             \u001b[0mindexer\u001b[0m\u001b[0;34m,\u001b[0m \u001b[0maxis\u001b[0m\u001b[0;34m=\u001b[0m\u001b[0mself\u001b[0m\u001b[0;34m.\u001b[0m\u001b[0m_get_block_manager_axis\u001b[0m\u001b[0;34m(\u001b[0m\u001b[0maxis\u001b[0m\u001b[0;34m)\u001b[0m\u001b[0;34m,\u001b[0m \u001b[0mverify\u001b[0m\u001b[0;34m=\u001b[0m\u001b[0;32mFalse\u001b[0m\u001b[0;34m\u001b[0m\u001b[0;34m\u001b[0m\u001b[0m\n\u001b[0m\u001b[1;32m   5313\u001b[0m         )\n\u001b[1;32m   5314\u001b[0m \u001b[0;34m\u001b[0m\u001b[0m\n",
      "\u001b[0;32m~/.virtualenvs/base/lib/python3.6/site-packages/pandas/core/internals/managers.py\u001b[0m in \u001b[0;36mtake\u001b[0;34m(self, indexer, axis, verify, convert)\u001b[0m\n\u001b[1;32m   1438\u001b[0m         \u001b[0mTake\u001b[0m \u001b[0mitems\u001b[0m \u001b[0malong\u001b[0m \u001b[0many\u001b[0m \u001b[0maxis\u001b[0m\u001b[0;34m.\u001b[0m\u001b[0;34m\u001b[0m\u001b[0;34m\u001b[0m\u001b[0m\n\u001b[1;32m   1439\u001b[0m         \"\"\"\n\u001b[0;32m-> 1440\u001b[0;31m         \u001b[0mself\u001b[0m\u001b[0;34m.\u001b[0m\u001b[0m_consolidate_inplace\u001b[0m\u001b[0;34m(\u001b[0m\u001b[0;34m)\u001b[0m\u001b[0;34m\u001b[0m\u001b[0;34m\u001b[0m\u001b[0m\n\u001b[0m\u001b[1;32m   1441\u001b[0m         indexer = (\n\u001b[1;32m   1442\u001b[0m             \u001b[0mnp\u001b[0m\u001b[0;34m.\u001b[0m\u001b[0marange\u001b[0m\u001b[0;34m(\u001b[0m\u001b[0mindexer\u001b[0m\u001b[0;34m.\u001b[0m\u001b[0mstart\u001b[0m\u001b[0;34m,\u001b[0m \u001b[0mindexer\u001b[0m\u001b[0;34m.\u001b[0m\u001b[0mstop\u001b[0m\u001b[0;34m,\u001b[0m \u001b[0mindexer\u001b[0m\u001b[0;34m.\u001b[0m\u001b[0mstep\u001b[0m\u001b[0;34m,\u001b[0m \u001b[0mdtype\u001b[0m\u001b[0;34m=\u001b[0m\u001b[0;34m\"int64\"\u001b[0m\u001b[0;34m)\u001b[0m\u001b[0;34m\u001b[0m\u001b[0;34m\u001b[0m\u001b[0m\n",
      "\u001b[0;32m~/.virtualenvs/base/lib/python3.6/site-packages/pandas/core/internals/managers.py\u001b[0m in \u001b[0;36m_consolidate_inplace\u001b[0;34m(self)\u001b[0m\n\u001b[1;32m    986\u001b[0m     \u001b[0;32mdef\u001b[0m \u001b[0m_consolidate_inplace\u001b[0m\u001b[0;34m(\u001b[0m\u001b[0mself\u001b[0m\u001b[0;34m)\u001b[0m \u001b[0;34m->\u001b[0m \u001b[0;32mNone\u001b[0m\u001b[0;34m:\u001b[0m\u001b[0;34m\u001b[0m\u001b[0;34m\u001b[0m\u001b[0m\n\u001b[1;32m    987\u001b[0m         \u001b[0;32mif\u001b[0m \u001b[0;32mnot\u001b[0m \u001b[0mself\u001b[0m\u001b[0;34m.\u001b[0m\u001b[0mis_consolidated\u001b[0m\u001b[0;34m(\u001b[0m\u001b[0;34m)\u001b[0m\u001b[0;34m:\u001b[0m\u001b[0;34m\u001b[0m\u001b[0;34m\u001b[0m\u001b[0m\n\u001b[0;32m--> 988\u001b[0;31m             \u001b[0mself\u001b[0m\u001b[0;34m.\u001b[0m\u001b[0mblocks\u001b[0m \u001b[0;34m=\u001b[0m \u001b[0mtuple\u001b[0m\u001b[0;34m(\u001b[0m\u001b[0m_consolidate\u001b[0m\u001b[0;34m(\u001b[0m\u001b[0mself\u001b[0m\u001b[0;34m.\u001b[0m\u001b[0mblocks\u001b[0m\u001b[0;34m)\u001b[0m\u001b[0;34m)\u001b[0m\u001b[0;34m\u001b[0m\u001b[0;34m\u001b[0m\u001b[0m\n\u001b[0m\u001b[1;32m    989\u001b[0m             \u001b[0mself\u001b[0m\u001b[0;34m.\u001b[0m\u001b[0m_is_consolidated\u001b[0m \u001b[0;34m=\u001b[0m \u001b[0;32mTrue\u001b[0m\u001b[0;34m\u001b[0m\u001b[0;34m\u001b[0m\u001b[0m\n\u001b[1;32m    990\u001b[0m             \u001b[0mself\u001b[0m\u001b[0;34m.\u001b[0m\u001b[0m_known_consolidated\u001b[0m \u001b[0;34m=\u001b[0m \u001b[0;32mTrue\u001b[0m\u001b[0;34m\u001b[0m\u001b[0;34m\u001b[0m\u001b[0m\n",
      "\u001b[0;32m~/.virtualenvs/base/lib/python3.6/site-packages/pandas/core/internals/managers.py\u001b[0m in \u001b[0;36m_consolidate\u001b[0;34m(blocks)\u001b[0m\n\u001b[1;32m   1907\u001b[0m     \u001b[0;32mfor\u001b[0m \u001b[0;34m(\u001b[0m\u001b[0m_can_consolidate\u001b[0m\u001b[0;34m,\u001b[0m \u001b[0mdtype\u001b[0m\u001b[0;34m)\u001b[0m\u001b[0;34m,\u001b[0m \u001b[0mgroup_blocks\u001b[0m \u001b[0;32min\u001b[0m \u001b[0mgrouper\u001b[0m\u001b[0;34m:\u001b[0m\u001b[0;34m\u001b[0m\u001b[0;34m\u001b[0m\u001b[0m\n\u001b[1;32m   1908\u001b[0m         merged_blocks = _merge_blocks(\n\u001b[0;32m-> 1909\u001b[0;31m             \u001b[0mlist\u001b[0m\u001b[0;34m(\u001b[0m\u001b[0mgroup_blocks\u001b[0m\u001b[0;34m)\u001b[0m\u001b[0;34m,\u001b[0m \u001b[0mdtype\u001b[0m\u001b[0;34m=\u001b[0m\u001b[0mdtype\u001b[0m\u001b[0;34m,\u001b[0m \u001b[0mcan_consolidate\u001b[0m\u001b[0;34m=\u001b[0m\u001b[0m_can_consolidate\u001b[0m\u001b[0;34m\u001b[0m\u001b[0;34m\u001b[0m\u001b[0m\n\u001b[0m\u001b[1;32m   1910\u001b[0m         )\n\u001b[1;32m   1911\u001b[0m         \u001b[0mnew_blocks\u001b[0m \u001b[0;34m=\u001b[0m \u001b[0m_extend_blocks\u001b[0m\u001b[0;34m(\u001b[0m\u001b[0mmerged_blocks\u001b[0m\u001b[0;34m,\u001b[0m \u001b[0mnew_blocks\u001b[0m\u001b[0;34m)\u001b[0m\u001b[0;34m\u001b[0m\u001b[0;34m\u001b[0m\u001b[0m\n",
      "\u001b[0;32m~/.virtualenvs/base/lib/python3.6/site-packages/pandas/core/internals/managers.py\u001b[0m in \u001b[0;36m_merge_blocks\u001b[0;34m(blocks, dtype, can_consolidate)\u001b[0m\n\u001b[1;32m   1932\u001b[0m \u001b[0;34m\u001b[0m\u001b[0m\n\u001b[1;32m   1933\u001b[0m         \u001b[0margsort\u001b[0m \u001b[0;34m=\u001b[0m \u001b[0mnp\u001b[0m\u001b[0;34m.\u001b[0m\u001b[0margsort\u001b[0m\u001b[0;34m(\u001b[0m\u001b[0mnew_mgr_locs\u001b[0m\u001b[0;34m)\u001b[0m\u001b[0;34m\u001b[0m\u001b[0;34m\u001b[0m\u001b[0m\n\u001b[0;32m-> 1934\u001b[0;31m         \u001b[0mnew_values\u001b[0m \u001b[0;34m=\u001b[0m \u001b[0mnew_values\u001b[0m\u001b[0;34m[\u001b[0m\u001b[0margsort\u001b[0m\u001b[0;34m]\u001b[0m\u001b[0;34m\u001b[0m\u001b[0;34m\u001b[0m\u001b[0m\n\u001b[0m\u001b[1;32m   1935\u001b[0m         \u001b[0mnew_mgr_locs\u001b[0m \u001b[0;34m=\u001b[0m \u001b[0mnew_mgr_locs\u001b[0m\u001b[0;34m[\u001b[0m\u001b[0margsort\u001b[0m\u001b[0;34m]\u001b[0m\u001b[0;34m\u001b[0m\u001b[0;34m\u001b[0m\u001b[0m\n\u001b[1;32m   1936\u001b[0m \u001b[0;34m\u001b[0m\u001b[0m\n",
      "\u001b[0;31mKeyboardInterrupt\u001b[0m: "
     ]
    }
   ],
   "source": [
    "for i in range(num_topics):\n",
    "    lsa_topics[f'abs_topic{i}'] = np.abs(lsa_topics[f'topic{i}'])\n",
    "    display(lsa_topics.sort_values(f'abs_topic{i}', ascending=False).index[:10])"
   ]
  },
  {
   "cell_type": "code",
   "execution_count": 64,
   "metadata": {},
   "outputs": [
    {
     "data": {
      "text/html": [
       "<div>\n",
       "<style scoped>\n",
       "    .dataframe tbody tr th:only-of-type {\n",
       "        vertical-align: middle;\n",
       "    }\n",
       "\n",
       "    .dataframe tbody tr th {\n",
       "        vertical-align: top;\n",
       "    }\n",
       "\n",
       "    .dataframe thead th {\n",
       "        text-align: right;\n",
       "    }\n",
       "</style>\n",
       "<table border=\"1\" class=\"dataframe\">\n",
       "  <thead>\n",
       "    <tr style=\"text-align: right;\">\n",
       "      <th></th>\n",
       "      <th>topic0</th>\n",
       "      <th>topic1</th>\n",
       "      <th>topic2</th>\n",
       "      <th>topic3</th>\n",
       "      <th>topic4</th>\n",
       "      <th>topic5</th>\n",
       "      <th>topic6</th>\n",
       "      <th>topic7</th>\n",
       "      <th>topic8</th>\n",
       "      <th>topic9</th>\n",
       "    </tr>\n",
       "  </thead>\n",
       "  <tbody>\n",
       "    <tr>\n",
       "      <th>aardvark</th>\n",
       "      <td>0.100000</td>\n",
       "      <td>0.100000</td>\n",
       "      <td>0.100000</td>\n",
       "      <td>1.100000</td>\n",
       "      <td>0.1</td>\n",
       "      <td>0.100000</td>\n",
       "      <td>0.100000</td>\n",
       "      <td>0.100000</td>\n",
       "      <td>0.100000</td>\n",
       "      <td>0.100000</td>\n",
       "    </tr>\n",
       "    <tr>\n",
       "      <th>ab</th>\n",
       "      <td>0.100000</td>\n",
       "      <td>0.100000</td>\n",
       "      <td>0.100000</td>\n",
       "      <td>0.100000</td>\n",
       "      <td>0.1</td>\n",
       "      <td>0.100000</td>\n",
       "      <td>0.100000</td>\n",
       "      <td>0.100045</td>\n",
       "      <td>10.099955</td>\n",
       "      <td>0.100000</td>\n",
       "    </tr>\n",
       "    <tr>\n",
       "      <th>abacus</th>\n",
       "      <td>0.100000</td>\n",
       "      <td>0.100000</td>\n",
       "      <td>0.100000</td>\n",
       "      <td>0.100000</td>\n",
       "      <td>13.1</td>\n",
       "      <td>0.100000</td>\n",
       "      <td>0.100000</td>\n",
       "      <td>0.100000</td>\n",
       "      <td>0.100000</td>\n",
       "      <td>0.100000</td>\n",
       "    </tr>\n",
       "    <tr>\n",
       "      <th>abbreviations</th>\n",
       "      <td>1.099990</td>\n",
       "      <td>0.100000</td>\n",
       "      <td>0.100000</td>\n",
       "      <td>0.100000</td>\n",
       "      <td>0.1</td>\n",
       "      <td>0.100000</td>\n",
       "      <td>0.100010</td>\n",
       "      <td>0.100000</td>\n",
       "      <td>0.100000</td>\n",
       "      <td>0.100000</td>\n",
       "    </tr>\n",
       "    <tr>\n",
       "      <th>abc</th>\n",
       "      <td>0.100000</td>\n",
       "      <td>0.100000</td>\n",
       "      <td>0.100000</td>\n",
       "      <td>0.100000</td>\n",
       "      <td>0.1</td>\n",
       "      <td>0.100000</td>\n",
       "      <td>0.100000</td>\n",
       "      <td>0.100162</td>\n",
       "      <td>0.100000</td>\n",
       "      <td>3.099838</td>\n",
       "    </tr>\n",
       "    <tr>\n",
       "      <th>...</th>\n",
       "      <td>...</td>\n",
       "      <td>...</td>\n",
       "      <td>...</td>\n",
       "      <td>...</td>\n",
       "      <td>...</td>\n",
       "      <td>...</td>\n",
       "      <td>...</td>\n",
       "      <td>...</td>\n",
       "      <td>...</td>\n",
       "      <td>...</td>\n",
       "    </tr>\n",
       "    <tr>\n",
       "      <th>zodiac</th>\n",
       "      <td>0.100000</td>\n",
       "      <td>0.100000</td>\n",
       "      <td>0.100010</td>\n",
       "      <td>0.100000</td>\n",
       "      <td>0.1</td>\n",
       "      <td>0.100001</td>\n",
       "      <td>27.096149</td>\n",
       "      <td>0.100008</td>\n",
       "      <td>0.100016</td>\n",
       "      <td>2.103817</td>\n",
       "    </tr>\n",
       "    <tr>\n",
       "      <th>zodiccircle</th>\n",
       "      <td>1.099997</td>\n",
       "      <td>0.100000</td>\n",
       "      <td>0.100000</td>\n",
       "      <td>0.100000</td>\n",
       "      <td>0.1</td>\n",
       "      <td>0.100000</td>\n",
       "      <td>0.100000</td>\n",
       "      <td>0.100000</td>\n",
       "      <td>0.100000</td>\n",
       "      <td>0.100003</td>\n",
       "    </tr>\n",
       "    <tr>\n",
       "      <th>zombie</th>\n",
       "      <td>0.100000</td>\n",
       "      <td>0.100000</td>\n",
       "      <td>0.100000</td>\n",
       "      <td>0.100000</td>\n",
       "      <td>0.1</td>\n",
       "      <td>0.100005</td>\n",
       "      <td>23.099994</td>\n",
       "      <td>0.100000</td>\n",
       "      <td>0.100001</td>\n",
       "      <td>0.100000</td>\n",
       "    </tr>\n",
       "    <tr>\n",
       "      <th>zone</th>\n",
       "      <td>0.100000</td>\n",
       "      <td>0.100000</td>\n",
       "      <td>0.100000</td>\n",
       "      <td>0.100000</td>\n",
       "      <td>0.1</td>\n",
       "      <td>0.100000</td>\n",
       "      <td>0.100000</td>\n",
       "      <td>1.100000</td>\n",
       "      <td>0.100000</td>\n",
       "      <td>0.100000</td>\n",
       "    </tr>\n",
       "    <tr>\n",
       "      <th>zoo</th>\n",
       "      <td>2.100004</td>\n",
       "      <td>1.099982</td>\n",
       "      <td>1.099998</td>\n",
       "      <td>0.100016</td>\n",
       "      <td>0.1</td>\n",
       "      <td>0.100000</td>\n",
       "      <td>0.100000</td>\n",
       "      <td>0.100000</td>\n",
       "      <td>0.100000</td>\n",
       "      <td>0.100000</td>\n",
       "    </tr>\n",
       "  </tbody>\n",
       "</table>\n",
       "<p>4263 rows × 10 columns</p>\n",
       "</div>"
      ],
      "text/plain": [
       "                 topic0    topic1    topic2    topic3  topic4    topic5  \\\n",
       "aardvark       0.100000  0.100000  0.100000  1.100000     0.1  0.100000   \n",
       "ab             0.100000  0.100000  0.100000  0.100000     0.1  0.100000   \n",
       "abacus         0.100000  0.100000  0.100000  0.100000    13.1  0.100000   \n",
       "abbreviations  1.099990  0.100000  0.100000  0.100000     0.1  0.100000   \n",
       "abc            0.100000  0.100000  0.100000  0.100000     0.1  0.100000   \n",
       "...                 ...       ...       ...       ...     ...       ...   \n",
       "zodiac         0.100000  0.100000  0.100010  0.100000     0.1  0.100001   \n",
       "zodiccircle    1.099997  0.100000  0.100000  0.100000     0.1  0.100000   \n",
       "zombie         0.100000  0.100000  0.100000  0.100000     0.1  0.100005   \n",
       "zone           0.100000  0.100000  0.100000  0.100000     0.1  0.100000   \n",
       "zoo            2.100004  1.099982  1.099998  0.100016     0.1  0.100000   \n",
       "\n",
       "                  topic6    topic7     topic8    topic9  \n",
       "aardvark        0.100000  0.100000   0.100000  0.100000  \n",
       "ab              0.100000  0.100045  10.099955  0.100000  \n",
       "abacus          0.100000  0.100000   0.100000  0.100000  \n",
       "abbreviations   0.100010  0.100000   0.100000  0.100000  \n",
       "abc             0.100000  0.100162   0.100000  3.099838  \n",
       "...                  ...       ...        ...       ...  \n",
       "zodiac         27.096149  0.100008   0.100016  2.103817  \n",
       "zodiccircle     0.100000  0.100000   0.100000  0.100003  \n",
       "zombie         23.099994  0.100000   0.100001  0.100000  \n",
       "zone            0.100000  1.100000   0.100000  0.100000  \n",
       "zoo             0.100000  0.100000   0.100000  0.100000  \n",
       "\n",
       "[4263 rows x 10 columns]"
      ]
     },
     "execution_count": 64,
     "metadata": {},
     "output_type": "execute_result"
    }
   ],
   "source": [
    "from sklearn.decomposition import LatentDirichletAllocation\n",
    "from sklearn.feature_extraction.text import CountVectorizer\n",
    "\n",
    "vectorizer = CountVectorizer()\n",
    "bow = vectorizer.fit_transform(corpus)\n",
    "\n",
    "num_topics = 10\n",
    "lda = LatentDirichletAllocation(n_components=num_topics)\n",
    "lda.fit(bow)\n",
    "\n",
    "dictionary = vectorizer.get_feature_names()\n",
    "lda_topics = pd.DataFrame(lda.components_,\n",
    "                      index=[f\"topic{i}\" for i in range(num_topics)],\n",
    "                      columns=dictionary).T\n",
    "lda_topics"
   ]
  },
  {
   "cell_type": "code",
   "execution_count": 65,
   "metadata": {},
   "outputs": [
    {
     "data": {
      "text/plain": [
       "Index(['flower', 'wheelchair', 'music', 'umbrella', 'baby', 'fist', 'calendar',\n",
       "       'eye', 'whale', 'laughing'],\n",
       "      dtype='object')"
      ]
     },
     "metadata": {},
     "output_type": "display_data"
    },
    {
     "data": {
      "text/plain": [
       "Index(['sad', 'cat', 'kiss', 'building', 'mailbox', 'cow', 'chicken', 'crying',\n",
       "       'judge', 'santa'],\n",
       "      dtype='object')"
      ]
     },
     "metadata": {},
     "output_type": "display_data"
    },
    {
     "data": {
      "text/plain": [
       "Index(['moon', 'square', 'circle', 'hospital', 'ball', 'house', 'horse',\n",
       "       'mail', 'question', 'golf'],\n",
       "      dtype='object')"
      ]
     },
     "metadata": {},
     "output_type": "display_data"
    },
    {
     "data": {
      "text/plain": [
       "Index(['sun', 'monkey', 'car', 'medal', 'bus', 'shirt', 'ship', 'boat', 'lock',\n",
       "       'apple'],\n",
       "      dtype='object')"
      ]
     },
     "metadata": {},
     "output_type": "display_data"
    },
    {
     "data": {
      "text/plain": [
       "Index(['book', 'down', 'tree', 'soup', 'drink', 'purse', 'chick', 'arrow',\n",
       "       'exclamation', 'rewind'],\n",
       "      dtype='object')"
      ]
     },
     "metadata": {},
     "output_type": "display_data"
    },
    {
     "data": {
      "text/plain": [
       "Index(['family', 'money', 'diamond', 'up', 'angry', 'church', 'mountain',\n",
       "       'triangle', 'tiger', 'chair'],\n",
       "      dtype='object')"
      ]
     },
     "metadata": {},
     "output_type": "display_data"
    },
    {
     "data": {
      "text/plain": [
       "Index(['chinese', 'phone', 'girl', 'symbol', 'shoe', 'bell', 'blind', 'woman',\n",
       "       'candle', 'sign'],\n",
       "      dtype='object')"
      ]
     },
     "metadata": {},
     "output_type": "display_data"
    },
    {
     "data": {
      "text/plain": [
       "Index(['stop', 'no', 'alphabet', 'camera', 'pig', 'pen', 'hand', 'couple',\n",
       "       'dragon', 'silly'],\n",
       "      dtype='object')"
      ]
     },
     "metadata": {},
     "output_type": "display_data"
    },
    {
     "data": {
      "text/plain": [
       "Index(['love', 'heart', 'happy', 'man', 'smile', 'boy', 'mouse', 'police',\n",
       "       'angel', 'scooter'],\n",
       "      dtype='object')"
      ]
     },
     "metadata": {},
     "output_type": "display_data"
    },
    {
     "data": {
      "text/plain": [
       "Index(['train', 'star', 'dog', 'cake', 'cloudy', 'peace', 'key', 'camel',\n",
       "       'dinosaur', 'sunrise'],\n",
       "      dtype='object')"
      ]
     },
     "metadata": {},
     "output_type": "display_data"
    }
   ],
   "source": [
    "for i in range(num_topics):\n",
    "    lda_topics[f'abs_topic{i}'] = np.abs(lda_topics[f'topic{i}'])\n",
    "    display(lda_topics.sort_values(f'abs_topic{i}', ascending=False).index[:10])"
   ]
  }
 ],
 "metadata": {
  "kernelspec": {
   "display_name": "Python 3",
   "language": "python",
   "name": "python3"
  },
  "language_info": {
   "codemirror_mode": {
    "name": "ipython",
    "version": 3
   },
   "file_extension": ".py",
   "mimetype": "text/x-python",
   "name": "python",
   "nbconvert_exporter": "python",
   "pygments_lexer": "ipython3",
   "version": "3.7.7"
  }
 },
 "nbformat": 4,
 "nbformat_minor": 5
}
