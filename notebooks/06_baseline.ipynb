{
 "cells": [
  {
   "cell_type": "code",
   "execution_count": 1,
   "id": "stuck-locking",
   "metadata": {},
   "outputs": [],
   "source": [
    "%load_ext autoreload\n",
    "%autoreload 2\n",
    "\n",
    "import pickle\n",
    "import pandas as pd\n",
    "import numpy as np\n",
    "import seaborn as sns\n",
    "import matplotlib.pyplot as plt\n",
    "from collections import Counter\n",
    "from sklearn.utils import shuffle\n",
    "from tqdm.notebook import tqdm\n",
    "\n",
    "import sys\n",
    "sys.path.append(\"..\")\n",
    "from src.visualization.emoji_plotting import plot_emoji_barplot, emoji_scatter, offset_image\n",
    "from src.analysis.embedded import calculate_vocabulary_variation, embedded_CIs, read_embeddings\n",
    "from settings import AMBIGUITY_PATH, AMBIGUITY_VARIATION, EMBEDDINGS_PATH\n",
    "\n",
    "pd.set_option('mode.chained_assignment', None)\n",
    "\n",
    "sns.set(rc={'figure.figsize':(15, 7)}, font_scale=1.3)\n",
    "sns.set_style(\"white\", {'axes.grid' : False})"
   ]
  },
  {
   "cell_type": "code",
   "execution_count": 2,
   "id": "latter-algebra",
   "metadata": {},
   "outputs": [],
   "source": [
    "variations = pd.read_csv(AMBIGUITY_VARIATION)\n",
    "variations.CIs = variations.CIs.apply(eval)"
   ]
  },
  {
   "cell_type": "code",
   "execution_count": 3,
   "id": "architectural-sheep",
   "metadata": {},
   "outputs": [
    {
     "data": {
      "text/html": [
       "<div>\n",
       "<style scoped>\n",
       "    .dataframe tbody tr th:only-of-type {\n",
       "        vertical-align: middle;\n",
       "    }\n",
       "\n",
       "    .dataframe tbody tr th {\n",
       "        vertical-align: top;\n",
       "    }\n",
       "\n",
       "    .dataframe thead th {\n",
       "        text-align: right;\n",
       "    }\n",
       "</style>\n",
       "<table border=\"1\" class=\"dataframe\">\n",
       "  <thead>\n",
       "    <tr style=\"text-align: right;\">\n",
       "      <th></th>\n",
       "      <th>emoji</th>\n",
       "      <th>vocabulary</th>\n",
       "      <th>variation</th>\n",
       "      <th>CIs</th>\n",
       "    </tr>\n",
       "  </thead>\n",
       "  <tbody>\n",
       "    <tr>\n",
       "      <th>0</th>\n",
       "      <td>#️⃣</td>\n",
       "      <td>Counter({'pound': 10, 'number': 9, 'hashtag': ...</td>\n",
       "      <td>0.496355</td>\n",
       "      <td>[0.34049082708855466, 0.5351314574386924]</td>\n",
       "    </tr>\n",
       "    <tr>\n",
       "      <th>1</th>\n",
       "      <td>*️⃣</td>\n",
       "      <td>Counter({'asterisk': 11, 'star': 9, 'pound': 2...</td>\n",
       "      <td>0.584016</td>\n",
       "      <td>[0.3850973823270968, 0.6565330826977255]</td>\n",
       "    </tr>\n",
       "    <tr>\n",
       "      <th>2</th>\n",
       "      <td>©️</td>\n",
       "      <td>Counter({'copyright': 17, 'copywrite': 3, 'c':...</td>\n",
       "      <td>0.276658</td>\n",
       "      <td>[0.14734829440712927, 0.41018219388055577]</td>\n",
       "    </tr>\n",
       "    <tr>\n",
       "      <th>3</th>\n",
       "      <td>®️</td>\n",
       "      <td>Counter({'r': 7, 'registered': 3, 'copyright':...</td>\n",
       "      <td>0.576165</td>\n",
       "      <td>[0.4251615431142488, 0.6953480601655662]</td>\n",
       "    </tr>\n",
       "    <tr>\n",
       "      <th>4</th>\n",
       "      <td>‼️</td>\n",
       "      <td>Counter({'exclamation': 11, 'important': 3, 's...</td>\n",
       "      <td>0.494922</td>\n",
       "      <td>[0.34701899029956806, 0.6155792427859429]</td>\n",
       "    </tr>\n",
       "  </tbody>\n",
       "</table>\n",
       "</div>"
      ],
      "text/plain": [
       "  emoji                                         vocabulary  variation  \\\n",
       "0   #️⃣  Counter({'pound': 10, 'number': 9, 'hashtag': ...   0.496355   \n",
       "1   *️⃣  Counter({'asterisk': 11, 'star': 9, 'pound': 2...   0.584016   \n",
       "2    ©️  Counter({'copyright': 17, 'copywrite': 3, 'c':...   0.276658   \n",
       "3    ®️  Counter({'r': 7, 'registered': 3, 'copyright':...   0.576165   \n",
       "4    ‼️  Counter({'exclamation': 11, 'important': 3, 's...   0.494922   \n",
       "\n",
       "                                          CIs  \n",
       "0   [0.34049082708855466, 0.5351314574386924]  \n",
       "1    [0.3850973823270968, 0.6565330826977255]  \n",
       "2  [0.14734829440712927, 0.41018219388055577]  \n",
       "3    [0.4251615431142488, 0.6953480601655662]  \n",
       "4   [0.34701899029956806, 0.6155792427859429]  "
      ]
     },
     "execution_count": 3,
     "metadata": {},
     "output_type": "execute_result"
    }
   ],
   "source": [
    "variations.head()"
   ]
  },
  {
   "cell_type": "code",
   "execution_count": 4,
   "id": "mediterranean-investing",
   "metadata": {},
   "outputs": [],
   "source": [
    "variations = variations.set_index(\"emoji\")"
   ]
  },
  {
   "cell_type": "markdown",
   "id": "hindu-jason",
   "metadata": {},
   "source": [
    "### Create randomized baseline"
   ]
  },
  {
   "cell_type": "code",
   "execution_count": 5,
   "id": "virgin-mention",
   "metadata": {},
   "outputs": [],
   "source": [
    "ambiguity = pd.read_csv(AMBIGUITY_PATH, encoding='utf-8')\n",
    "word_embeddings = read_embeddings(EMBEDDINGS_PATH)\n",
    "words = ambiguity.word"
   ]
  },
  {
   "cell_type": "code",
   "execution_count": 7,
   "id": "threatened-reference",
   "metadata": {},
   "outputs": [
    {
     "data": {
      "application/vnd.jupyter.widget-view+json": {
       "model_id": "3b2a3c442976452b8d3be9c9e14495e6",
       "version_major": 2,
       "version_minor": 0
      },
      "text/plain": [
       "  0%|          | 0/1000 [00:00<?, ?it/s]"
      ]
     },
     "metadata": {},
     "output_type": "display_data"
    }
   ],
   "source": [
    "baselines = []\n",
    "for i in tqdm(range(1000)):\n",
    "    random_words = words.sample(n=30, random_state=42+i).tolist()\n",
    "    random_voc = Counter(random_words)\n",
    "    baselines.append(calculate_vocabulary_variation(random_voc, word_embeddings))"
   ]
  },
  {
   "cell_type": "code",
   "execution_count": 8,
   "id": "reserved-northern",
   "metadata": {},
   "outputs": [],
   "source": [
    "alpha = 5\n",
    "baseline = np.nanmedian(np.array(baselines))\n",
    "baselines_CIs = [np.nanpercentile(baselines, alpha / 2),\\\n",
    "                         np.nanpercentile(baselines, 100 - (alpha / 2))] "
   ]
  },
  {
   "cell_type": "code",
   "execution_count": 9,
   "id": "english-doubt",
   "metadata": {},
   "outputs": [
    {
     "data": {
      "text/plain": [
       "0.6860900973280272"
      ]
     },
     "execution_count": 9,
     "metadata": {},
     "output_type": "execute_result"
    }
   ],
   "source": [
    "baseline"
   ]
  },
  {
   "cell_type": "code",
   "execution_count": 10,
   "id": "increased-shower",
   "metadata": {},
   "outputs": [
    {
     "data": {
      "text/plain": [
       "[0.5707602351453775, 0.8834659105717826]"
      ]
     },
     "execution_count": 10,
     "metadata": {},
     "output_type": "execute_result"
    }
   ],
   "source": [
    "baselines_CIs"
   ]
  },
  {
   "cell_type": "markdown",
   "id": "dynamic-tutorial",
   "metadata": {},
   "source": [
    "#### Which emojis are only a bit more ambiguous than baseline?"
   ]
  },
  {
   "cell_type": "code",
   "execution_count": 11,
   "id": "disciplinary-broad",
   "metadata": {},
   "outputs": [
    {
     "data": {
      "text/plain": [
       "emoji\n",
       "💁    0.717103\n",
       "💌    0.700732\n",
       "📵    0.701900\n",
       "🛂    0.716157\n",
       "🛃    0.745275\n",
       "Name: variation, dtype: float64"
      ]
     },
     "execution_count": 11,
     "metadata": {},
     "output_type": "execute_result"
    }
   ],
   "source": [
    "variations[variations.variation.sub(baseline).gt(0.01)][\"variation\"]"
   ]
  },
  {
   "cell_type": "markdown",
   "id": "civic-intervention",
   "metadata": {},
   "source": [
    "#### Which emojis are very close to baseline? Both sides, a bit lower than baseline, a bit higher than baseline"
   ]
  },
  {
   "cell_type": "code",
   "execution_count": 12,
   "id": "removable-discussion",
   "metadata": {},
   "outputs": [
    {
     "data": {
      "text/plain": [
       "emoji\n",
       "⛎      0.692086\n",
       "➿      0.692479\n",
       "👩‍💼    0.689072\n",
       "🧐      0.694345\n",
       "Name: variation, dtype: float64"
      ]
     },
     "execution_count": 12,
     "metadata": {},
     "output_type": "execute_result"
    }
   ],
   "source": [
    "variations[variations.variation.sub(baseline).abs().lt(0.01)][\"variation\"]"
   ]
  },
  {
   "cell_type": "code",
   "execution_count": 13,
   "id": "tested-mystery",
   "metadata": {},
   "outputs": [
    {
     "data": {
      "image/png": "[encoded data removed]",
      "text/plain": [
       "<Figure size 1080x504 with 1 Axes>"
      ]
     },
     "metadata": {},
     "output_type": "display_data"
    }
   ],
   "source": [
    "top_ten = variations.nlargest(10, columns='variation').reset_index()\n",
    "\n",
    "fig, ax = plt.subplots()\n",
    "ax.plot(range(-2, 12), 14*[baseline], '-.', alpha=0.8, color='black')\n",
    "ax.fill_between(range(-2, 12), baselines_CIs[0],\n",
    "                 baselines_CIs[1], alpha = 0.3, color='gray')\n",
    "plot_emoji_barplot(top_ten, ax, col='variation')"
   ]
  },
  {
   "cell_type": "code",
   "execution_count": 14,
   "id": "pressed-gregory",
   "metadata": {},
   "outputs": [
    {
     "data": {
      "image/png": "[encoded data removed]",
      "text/plain": [
       "<Figure size 1080x504 with 1 Axes>"
      ]
     },
     "metadata": {},
     "output_type": "display_data"
    }
   ],
   "source": [
    "fig, ax = plt.subplots()\n",
    "\n",
    "\n",
    "ax.axvline(baseline, linestyle=\"-.\", color='black')\n",
    "ax.axvspan(baselines_CIs[0], baselines_CIs[1], alpha=0.3, color='gray')\n",
    "sns.histplot(variations.variation, ax=ax);"
   ]
  }
 ],
 "metadata": {
  "kernelspec": {
   "display_name": "Python 3",
   "language": "python",
   "name": "python3"
  },
  "language_info": {
   "codemirror_mode": {
    "name": "ipython",
    "version": 3
   },
   "file_extension": ".py",
   "mimetype": "text/x-python",
   "name": "python",
   "nbconvert_exporter": "python",
   "pygments_lexer": "ipython3",
   "version": "3.6.9"
  }
 },
 "nbformat": 4,
 "nbformat_minor": 5
}
