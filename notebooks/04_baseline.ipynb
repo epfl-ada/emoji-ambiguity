{
 "cells": [
  {
   "cell_type": "code",
   "execution_count": 1,
   "id": "coupled-wedding",
   "metadata": {},
   "outputs": [],
   "source": [
    "%load_ext autoreload\n",
    "%autoreload 2\n",
    "\n",
    "import pickle\n",
    "import pandas as pd\n",
    "import numpy as np\n",
    "import seaborn as sns\n",
    "import matplotlib.pyplot as plt\n",
    "from collections import Counter\n",
    "from sklearn.utils import shuffle\n",
    "from tqdm.notebook import tqdm\n",
    "\n",
    "from src.visualization.emoji_plotting import plot_emoji_barplot, emoji_scatter, offset_image\n",
    "from src.analysis.variation import calculate_vocabulary_variation, embedded_CIs, read_embeddings\n",
    "from settings import AMBIGUITY_PATH, AMBIGUITY_VARIATION, EMBEDDINGS_PATH\n",
    "\n",
    "pd.set_option('mode.chained_assignment', None)\n",
    "\n",
    "sns.set(rc={'figure.figsize':(15, 7)}, font_scale=1.7)\n",
    "sns.set_style(\"white\", {'axes.grid' : False})"
   ]
  },
  {
   "cell_type": "code",
   "execution_count": 2,
   "id": "secondary-complement",
   "metadata": {},
   "outputs": [],
   "source": [
    "variations = pd.read_csv(AMBIGUITY_VARIATION)\n",
    "variations = variations.drop(\"mode_embedding\", axis=1)\n",
    "variations.CIs = variations.CIs.apply(eval)"
   ]
  },
  {
   "cell_type": "code",
   "execution_count": 3,
   "id": "norman-consent",
   "metadata": {},
   "outputs": [],
   "source": [
    "flags = [ '🏳️', \"🏳️‍🌈\", \"🏴‍☠️\" , \"🏴󠁧󠁢󠁥󠁮󠁧󠁿\" , \"🏴󠁧󠁢󠁳󠁣󠁴󠁿\", \"🏴󠁧󠁢󠁷󠁬󠁳󠁿\" ]\n",
    "families = [\"👨‍👦\",\"👨‍👦‍👦\",\"👨‍👧\",\"👨‍👧‍👦\",\"👨‍👧‍👧\",\"👨‍👨‍👦\",\"👨‍👨‍👦‍👦\",\"👨‍👨‍👧\",\"👨‍👨‍👧‍👦\",\\\n",
    "\"👨‍👨‍👧‍👧\",\"👨‍👩‍👦\",\"👨‍👩‍👦‍👦\",\"👨‍👩‍👧\",\"👨‍👩‍👧‍👦\",\"👨‍👩‍👧‍👧\",\"👩‍👦\",\"👩‍👦‍👦\",\"👩‍👧\",\\\n",
    "\"👩‍👧‍👦\",\"👩‍👧‍👧\",\"👩‍👩‍👦\",\"👩‍👩‍👦‍👦\",\"👩‍👩‍👧\",\"👩‍👩‍👧‍👦\",\"👩‍👩‍👧‍👧\", \"👨‍👩‍👧\", \"👨‍👩‍👧‍👦\", \"👨‍👩‍👧‍👧\", \"👩‍👩‍👧‍👦\"]\n",
    "variations = variations[~variations.emoji.isin(flags)]\n",
    "variations = variations[~variations.emoji.isin([\"🅰️\", \"🅱️\", \"🅾️\", \"🅿️\", \"🔟\"])]\n",
    "variations = variations[~variations.emoji.isin(families)]"
   ]
  },
  {
   "cell_type": "code",
   "execution_count": 4,
   "id": "genetic-cliff",
   "metadata": {},
   "outputs": [
    {
     "data": {
      "text/html": [
       "<div>\n",
       "<style scoped>\n",
       "    .dataframe tbody tr th:only-of-type {\n",
       "        vertical-align: middle;\n",
       "    }\n",
       "\n",
       "    .dataframe tbody tr th {\n",
       "        vertical-align: top;\n",
       "    }\n",
       "\n",
       "    .dataframe thead th {\n",
       "        text-align: right;\n",
       "    }\n",
       "</style>\n",
       "<table border=\"1\" class=\"dataframe\">\n",
       "  <thead>\n",
       "    <tr style=\"text-align: right;\">\n",
       "      <th></th>\n",
       "      <th>emoji</th>\n",
       "      <th>vocabulary</th>\n",
       "      <th>variation</th>\n",
       "      <th>CIs</th>\n",
       "    </tr>\n",
       "  </thead>\n",
       "  <tbody>\n",
       "    <tr>\n",
       "      <th>0</th>\n",
       "      <td>#️⃣</td>\n",
       "      <td>Counter({'pound': 10, 'number': 9, 'hashtag': ...</td>\n",
       "      <td>0.496355</td>\n",
       "      <td>[0.35837585716197884, 0.6267261994754275]</td>\n",
       "    </tr>\n",
       "    <tr>\n",
       "      <th>1</th>\n",
       "      <td>*️⃣</td>\n",
       "      <td>Counter({'asterisk': 11, 'star': 9, 'pound': 2...</td>\n",
       "      <td>0.584016</td>\n",
       "      <td>[0.41200086324362406, 0.7542600946038873]</td>\n",
       "    </tr>\n",
       "    <tr>\n",
       "      <th>2</th>\n",
       "      <td>©️</td>\n",
       "      <td>Counter({'copyright': 17, 'copywrite': 3, 'c':...</td>\n",
       "      <td>0.276658</td>\n",
       "      <td>[0.1401009645106064, 0.4201737316739228]</td>\n",
       "    </tr>\n",
       "    <tr>\n",
       "      <th>3</th>\n",
       "      <td>®️</td>\n",
       "      <td>Counter({'r': 7, 'registered': 3, 'copyright':...</td>\n",
       "      <td>0.576165</td>\n",
       "      <td>[0.4139707032711831, 0.7217792813700658]</td>\n",
       "    </tr>\n",
       "    <tr>\n",
       "      <th>4</th>\n",
       "      <td>‼️</td>\n",
       "      <td>Counter({'exclamation': 11, 'important': 3, 's...</td>\n",
       "      <td>0.494922</td>\n",
       "      <td>[0.3517648566963858, 0.6258342967978838]</td>\n",
       "    </tr>\n",
       "  </tbody>\n",
       "</table>\n",
       "</div>"
      ],
      "text/plain": [
       "  emoji                                         vocabulary  variation  \\\n",
       "0   #️⃣  Counter({'pound': 10, 'number': 9, 'hashtag': ...   0.496355   \n",
       "1   *️⃣  Counter({'asterisk': 11, 'star': 9, 'pound': 2...   0.584016   \n",
       "2    ©️  Counter({'copyright': 17, 'copywrite': 3, 'c':...   0.276658   \n",
       "3    ®️  Counter({'r': 7, 'registered': 3, 'copyright':...   0.576165   \n",
       "4    ‼️  Counter({'exclamation': 11, 'important': 3, 's...   0.494922   \n",
       "\n",
       "                                         CIs  \n",
       "0  [0.35837585716197884, 0.6267261994754275]  \n",
       "1  [0.41200086324362406, 0.7542600946038873]  \n",
       "2   [0.1401009645106064, 0.4201737316739228]  \n",
       "3   [0.4139707032711831, 0.7217792813700658]  \n",
       "4   [0.3517648566963858, 0.6258342967978838]  "
      ]
     },
     "execution_count": 4,
     "metadata": {},
     "output_type": "execute_result"
    }
   ],
   "source": [
    "variations.head()"
   ]
  },
  {
   "cell_type": "code",
   "execution_count": 5,
   "id": "alien-stevens",
   "metadata": {},
   "outputs": [
    {
     "data": {
      "text/html": [
       "<div>\n",
       "<style scoped>\n",
       "    .dataframe tbody tr th:only-of-type {\n",
       "        vertical-align: middle;\n",
       "    }\n",
       "\n",
       "    .dataframe tbody tr th {\n",
       "        vertical-align: top;\n",
       "    }\n",
       "\n",
       "    .dataframe thead th {\n",
       "        text-align: right;\n",
       "    }\n",
       "</style>\n",
       "<table border=\"1\" class=\"dataframe\">\n",
       "  <thead>\n",
       "    <tr style=\"text-align: right;\">\n",
       "      <th></th>\n",
       "      <th>emoji</th>\n",
       "      <th>vocabulary</th>\n",
       "    </tr>\n",
       "  </thead>\n",
       "  <tbody>\n",
       "    <tr>\n",
       "      <th>149</th>\n",
       "      <td>❤️</td>\n",
       "      <td>Counter({'love': 16, 'heart': 10})</td>\n",
       "    </tr>\n",
       "    <tr>\n",
       "      <th>155</th>\n",
       "      <td>➿</td>\n",
       "      <td>Counter({'loops': 4, 'sign': 3, 'glasses': 2, 'astrology': 2, 'symbol': 1, 'libra': 1, 'wire': 1, 'curl': 1, 'curlicue': 1, 'coils': 1, 'loopy': 1, 'pig nose': 1, 'swirl': 1, 'forever': 1, 'curls': 1, 'zodiac': 1, 'wave': 1, 'cord': 1, 'spiral': 1, 'swirly': 1, 'loop': 1, 'twirling': 1, 'repeat': 1})</td>\n",
       "    </tr>\n",
       "    <tr>\n",
       "      <th>198</th>\n",
       "      <td>🈺</td>\n",
       "      <td>Counter({'symbol': 7, 'robot': 4, 'chinese': 4, 'connection': 1, 'logo': 1, 'google voice': 1, 'phone': 1, 'character': 1, 'computer': 1, 'television': 1, 'g': 1, 'korea': 1, 'unknown': 1, 'japanese': 1, 'dunno': 1, 'mahjong': 1, 'not sure': 1, 'to': 1})</td>\n",
       "    </tr>\n",
       "    <tr>\n",
       "      <th>642</th>\n",
       "      <td>👷</td>\n",
       "      <td>Counter({'construction': 11, 'worker': 11, 'plumber': 1, 'engineer': 1, 'man': 1, 'fire service': 1, 'work': 1})</td>\n",
       "    </tr>\n",
       "    <tr>\n",
       "      <th>698</th>\n",
       "      <td>💯</td>\n",
       "      <td>Counter({'hundred': 12, 'perfect': 4, 'agreed': 1, 'winner': 1, 'approval': 1, 'anniversary': 1, 'complete': 1, 'great': 1, 'percent': 1, 'agree': 1, 'hundred pere cent': 1, 'a': 1, 'great job': 1, 'one hundred': 1, 'sure': 1, 'numbers': 1})</td>\n",
       "    </tr>\n",
       "    <tr>\n",
       "      <th>892</th>\n",
       "      <td>😂</td>\n",
       "      <td>Counter({'laughing': 6, 'laugh': 5, 'crying': 5, 'funny': 3, 'lol': 2, 'cry': 2, 'laugher': 1, 'laughingsohardimcrying': 1, 'joy': 1, 'happy sad': 1, 'liao': 1})</td>\n",
       "    </tr>\n",
       "    <tr>\n",
       "      <th>949</th>\n",
       "      <td>😻</td>\n",
       "      <td>Counter({'love': 25, 'inlove': 2, 'happy': 1, 'attraction': 1, 'cat': 1})</td>\n",
       "    </tr>\n",
       "    <tr>\n",
       "      <th>1036</th>\n",
       "      <td>🛃</td>\n",
       "      <td>Counter({'mailman': 3, 'police': 3, 'conductor': 2, 'cop': 2, 'bus': 2, 'man': 1, 'signal': 1, 'trash man': 1, 'computer': 1, 'inspection': 1, 'police sign': 1, 'worker': 1, 'postal': 1, 'guard': 1, 'monitor': 1, 'symbol': 1, 'officer': 1, 'postman': 1, 'fare': 1, 'driver': 1, 'recycle': 1})</td>\n",
       "    </tr>\n",
       "  </tbody>\n",
       "</table>\n",
       "</div>"
      ],
      "text/plain": [
       "     emoji  \\\n",
       "149     ❤️   \n",
       "155      ➿   \n",
       "198      🈺   \n",
       "642      👷   \n",
       "698      💯   \n",
       "892      😂   \n",
       "949      😻   \n",
       "1036     🛃   \n",
       "\n",
       "                                                                                                                                                                                                                                                                                                         vocabulary  \n",
       "149                                                                                                                                                                                                                                                                              Counter({'love': 16, 'heart': 10})  \n",
       "155   Counter({'loops': 4, 'sign': 3, 'glasses': 2, 'astrology': 2, 'symbol': 1, 'libra': 1, 'wire': 1, 'curl': 1, 'curlicue': 1, 'coils': 1, 'loopy': 1, 'pig nose': 1, 'swirl': 1, 'forever': 1, 'curls': 1, 'zodiac': 1, 'wave': 1, 'cord': 1, 'spiral': 1, 'swirly': 1, 'loop': 1, 'twirling': 1, 'repeat': 1})  \n",
       "198                                                  Counter({'symbol': 7, 'robot': 4, 'chinese': 4, 'connection': 1, 'logo': 1, 'google voice': 1, 'phone': 1, 'character': 1, 'computer': 1, 'television': 1, 'g': 1, 'korea': 1, 'unknown': 1, 'japanese': 1, 'dunno': 1, 'mahjong': 1, 'not sure': 1, 'to': 1})  \n",
       "642                                                                                                                                                                                                Counter({'construction': 11, 'worker': 11, 'plumber': 1, 'engineer': 1, 'man': 1, 'fire service': 1, 'work': 1})  \n",
       "698                                                               Counter({'hundred': 12, 'perfect': 4, 'agreed': 1, 'winner': 1, 'approval': 1, 'anniversary': 1, 'complete': 1, 'great': 1, 'percent': 1, 'agree': 1, 'hundred pere cent': 1, 'a': 1, 'great job': 1, 'one hundred': 1, 'sure': 1, 'numbers': 1})  \n",
       "892                                                                                                                                               Counter({'laughing': 6, 'laugh': 5, 'crying': 5, 'funny': 3, 'lol': 2, 'cry': 2, 'laugher': 1, 'laughingsohardimcrying': 1, 'joy': 1, 'happy sad': 1, 'liao': 1})  \n",
       "949                                                                                                                                                                                                                                       Counter({'love': 25, 'inlove': 2, 'happy': 1, 'attraction': 1, 'cat': 1})  \n",
       "1036           Counter({'mailman': 3, 'police': 3, 'conductor': 2, 'cop': 2, 'bus': 2, 'man': 1, 'signal': 1, 'trash man': 1, 'computer': 1, 'inspection': 1, 'police sign': 1, 'worker': 1, 'postal': 1, 'guard': 1, 'monitor': 1, 'symbol': 1, 'officer': 1, 'postman': 1, 'fare': 1, 'driver': 1, 'recycle': 1})  "
      ]
     },
     "execution_count": 5,
     "metadata": {},
     "output_type": "execute_result"
    }
   ],
   "source": [
    "pd.set_option('display.max_colwidth', None)\n",
    "df = variations[variations.emoji.isin(['🛃', '❤️', '😂', '➿', '🈺', '👩‍👩‍👦', '👷', '💯', '😻'])][[\"emoji\", \"vocabulary\"]]\n",
    "df"
   ]
  },
  {
   "cell_type": "code",
   "execution_count": 6,
   "id": "correct-chain",
   "metadata": {},
   "outputs": [],
   "source": [
    "variations = variations.set_index(\"emoji\")"
   ]
  },
  {
   "cell_type": "markdown",
   "id": "heard-harmony",
   "metadata": {},
   "source": [
    "### Create randomized baseline"
   ]
  },
  {
   "cell_type": "code",
   "execution_count": 7,
   "id": "suited-mexican",
   "metadata": {},
   "outputs": [],
   "source": [
    "ambiguity = pd.read_csv(AMBIGUITY_PATH, encoding='utf-8')\n",
    "word_embeddings = read_embeddings(EMBEDDINGS_PATH)\n",
    "words = ambiguity.word"
   ]
  },
  {
   "cell_type": "code",
   "execution_count": 8,
   "id": "disabled-awareness",
   "metadata": {},
   "outputs": [
    {
     "data": {
      "application/vnd.jupyter.widget-view+json": {
       "model_id": "2a0861c74d214efa81b3a0c6f9865543",
       "version_major": 2,
       "version_minor": 0
      },
      "text/plain": [
       "HBox(children=(FloatProgress(value=0.0, max=1000.0), HTML(value='')))"
      ]
     },
     "metadata": {},
     "output_type": "display_data"
    },
    {
     "name": "stdout",
     "output_type": "stream",
     "text": [
      "\n"
     ]
    }
   ],
   "source": [
    "baselines_variation, baselines_vocab_size = [], []\n",
    "for i in tqdm(range(1000)):\n",
    "    random_words = words.sample(n=30, random_state=42+i).tolist()\n",
    "    random_voc = Counter(random_words)\n",
    "    baselines_vocab_size.append(len(set(random_words)))\n",
    "    baselines_variation.append(calculate_vocabulary_variation(random_voc, word_embeddings)[0])"
   ]
  },
  {
   "cell_type": "code",
   "execution_count": 9,
   "id": "diverse-david",
   "metadata": {},
   "outputs": [],
   "source": [
    "alpha = 5\n",
    "baseline_variation = np.nanmedian(np.array(baselines_variation))\n",
    "baselines_var_CIs = [np.nanpercentile(baselines_variation, alpha / 2),\\\n",
    "                         np.nanpercentile(baselines_variation, 100 - (alpha / 2))] "
   ]
  },
  {
   "cell_type": "code",
   "execution_count": 10,
   "id": "mobile-theater",
   "metadata": {},
   "outputs": [],
   "source": [
    "baseline_vocab = np.nanmedian(np.array(baselines_vocab_size))\n",
    "baselines_vocab_size_CIs = [np.nanpercentile(baselines_vocab_size, alpha / 2),\\\n",
    "                         np.nanpercentile(baselines_vocab_size, 100 - (alpha / 2))] "
   ]
  },
  {
   "cell_type": "code",
   "execution_count": 11,
   "id": "honest-mexico",
   "metadata": {},
   "outputs": [
    {
     "data": {
      "text/plain": [
       "(0.6860900973280272, [0.5707602351453775, 0.8834659105717826])"
      ]
     },
     "execution_count": 11,
     "metadata": {},
     "output_type": "execute_result"
    }
   ],
   "source": [
    "baseline_variation, baselines_var_CIs"
   ]
  },
  {
   "cell_type": "code",
   "execution_count": 12,
   "id": "exotic-integrity",
   "metadata": {},
   "outputs": [
    {
     "data": {
      "text/plain": [
       "(30.0, [27.0, 30.0])"
      ]
     },
     "execution_count": 12,
     "metadata": {},
     "output_type": "execute_result"
    }
   ],
   "source": [
    "baseline_vocab, baselines_vocab_size_CIs"
   ]
  },
  {
   "cell_type": "code",
   "execution_count": 13,
   "id": "superior-arthur",
   "metadata": {},
   "outputs": [
    {
     "data": {
      "text/plain": [
       "1289"
      ]
     },
     "execution_count": 13,
     "metadata": {},
     "output_type": "execute_result"
    }
   ],
   "source": [
    "len(variations)"
   ]
  },
  {
   "cell_type": "code",
   "execution_count": 14,
   "id": "welcome-saudi",
   "metadata": {},
   "outputs": [
    {
     "data": {
      "text/plain": [
       "55"
      ]
     },
     "execution_count": 14,
     "metadata": {},
     "output_type": "execute_result"
    }
   ],
   "source": [
    "len(variations[variations.variation >= baselines_var_CIs[0]])"
   ]
  },
  {
   "cell_type": "markdown",
   "id": "stone-attack",
   "metadata": {},
   "source": [
    "#### Which emojis are only a bit more ambiguous than baseline?"
   ]
  },
  {
   "cell_type": "code",
   "execution_count": 16,
   "id": "determined-combat",
   "metadata": {},
   "outputs": [
    {
     "data": {
      "text/plain": [
       "emoji\n",
       "💁    0.713159\n",
       "💌    0.700732\n",
       "📵    0.702734\n",
       "🛂    0.716157\n",
       "🛃    0.745275\n",
       "🧻    0.698550\n",
       "Name: variation, dtype: float64"
      ]
     },
     "execution_count": 16,
     "metadata": {},
     "output_type": "execute_result"
    }
   ],
   "source": [
    "variations[variations.variation.sub(baseline_variation).gt(0.01)][\"variation\"]"
   ]
  },
  {
   "cell_type": "markdown",
   "id": "vanilla-observer",
   "metadata": {},
   "source": [
    "#### Which emojis are very close to baseline? Both sides, a bit lower than baseline, a bit higher than baseline"
   ]
  },
  {
   "cell_type": "code",
   "execution_count": 17,
   "id": "ordered-westminster",
   "metadata": {},
   "outputs": [
    {
     "data": {
      "text/plain": [
       "emoji\n",
       "⛎      0.692086\n",
       "➿      0.692479\n",
       "👩‍💼    0.689072\n",
       "🧐      0.694345\n",
       "Name: variation, dtype: float64"
      ]
     },
     "execution_count": 17,
     "metadata": {},
     "output_type": "execute_result"
    }
   ],
   "source": [
    "variations[variations.variation.sub(baseline_variation).abs().lt(0.01)][\"variation\"]"
   ]
  }
 ],
 "metadata": {
  "kernelspec": {
   "display_name": "Python 3",
   "language": "python",
   "name": "python3"
  },
  "language_info": {
   "codemirror_mode": {
    "name": "ipython",
    "version": 3
   },
   "file_extension": ".py",
   "mimetype": "text/x-python",
   "name": "python",
   "nbconvert_exporter": "python",
   "pygments_lexer": "ipython3",
   "version": "3.6.9"
  }
 },
 "nbformat": 4,
 "nbformat_minor": 5
}
