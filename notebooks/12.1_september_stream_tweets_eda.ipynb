{
 "cells": [
  {
   "cell_type": "code",
   "execution_count": 1,
   "metadata": {},
   "outputs": [
    {
     "name": "stdout",
     "output_type": "stream",
     "text": [
      "INFO: Pandarallel will run on 30 workers.\n",
      "INFO: Pandarallel will use Memory file system to transfer data between the main process and workers.\n"
     ]
    }
   ],
   "source": [
    "import pandas as pd\n",
    "import os\n",
    "import preprocessor as p\n",
    "from pandarallel import pandarallel\n",
    "pandarallel.initialize(nb_workers=30)\n",
    "\n",
    "from src.data.utils import find_emojis, save_to_csv"
   ]
  },
  {
   "cell_type": "code",
   "execution_count": 2,
   "metadata": {},
   "outputs": [
    {
     "data": {
      "text/plain": [
       "1999371"
      ]
     },
     "execution_count": 2,
     "metadata": {},
     "output_type": "execute_result"
    }
   ],
   "source": [
    "path = '/scratch/czestoch/emoji-tweets-09-2019'\n",
    "dfs = []\n",
    "for i in range(28):\n",
    "    dfs.append(pd.read_parquet(os.path.join(path, f\"batch_{i}.parquet\")))\n",
    "df = pd.concat(dfs)\n",
    "len(df)"
   ]
  },
  {
   "cell_type": "code",
   "execution_count": 17,
   "metadata": {},
   "outputs": [
    {
     "data": {
      "text/html": [
       "<div>\n",
       "<style scoped>\n",
       "    .dataframe tbody tr th:only-of-type {\n",
       "        vertical-align: middle;\n",
       "    }\n",
       "\n",
       "    .dataframe tbody tr th {\n",
       "        vertical-align: top;\n",
       "    }\n",
       "\n",
       "    .dataframe thead th {\n",
       "        text-align: right;\n",
       "    }\n",
       "</style>\n",
       "<table border=\"1\" class=\"dataframe\">\n",
       "  <thead>\n",
       "    <tr style=\"text-align: right;\">\n",
       "      <th></th>\n",
       "      <th>n_chars</th>\n",
       "      <th>tweet_id</th>\n",
       "      <th>created_at</th>\n",
       "      <th>lang</th>\n",
       "      <th>user_id</th>\n",
       "      <th>user_n_followers</th>\n",
       "      <th>user_n_following</th>\n",
       "      <th>user_n_tweets</th>\n",
       "      <th>text</th>\n",
       "      <th>emojis</th>\n",
       "      <th>n_emojis</th>\n",
       "    </tr>\n",
       "  </thead>\n",
       "  <tbody>\n",
       "    <tr>\n",
       "      <th>0</th>\n",
       "      <td>59</td>\n",
       "      <td>1168335483987988480</td>\n",
       "      <td>2019-09-02 01:31:00+00:00</td>\n",
       "      <td>en</td>\n",
       "      <td>1158815200461697026</td>\n",
       "      <td>31</td>\n",
       "      <td>42</td>\n",
       "      <td>285</td>\n",
       "      <td>@jaxlively Lmaoooo hunnit this shit leaving me...</td>\n",
       "      <td>[🥴]</td>\n",
       "      <td>1</td>\n",
       "    </tr>\n",
       "    <tr>\n",
       "      <th>1</th>\n",
       "      <td>62</td>\n",
       "      <td>1168335500773642240</td>\n",
       "      <td>2019-09-02 01:31:04+00:00</td>\n",
       "      <td>en</td>\n",
       "      <td>4888723335</td>\n",
       "      <td>484</td>\n",
       "      <td>712</td>\n",
       "      <td>1900</td>\n",
       "      <td>Got something going through my brain that I ca...</td>\n",
       "      <td>[🤯]</td>\n",
       "      <td>1</td>\n",
       "    </tr>\n",
       "    <tr>\n",
       "      <th>2</th>\n",
       "      <td>34</td>\n",
       "      <td>1168335509149618176</td>\n",
       "      <td>2019-09-02 01:31:06+00:00</td>\n",
       "      <td>en</td>\n",
       "      <td>235255263</td>\n",
       "      <td>380</td>\n",
       "      <td>303</td>\n",
       "      <td>3197</td>\n",
       "      <td>I can officially say I am DONE 👋🏼😋</td>\n",
       "      <td>[👋🏼, 😋]</td>\n",
       "      <td>2</td>\n",
       "    </tr>\n",
       "    <tr>\n",
       "      <th>3</th>\n",
       "      <td>35</td>\n",
       "      <td>1168335521728385035</td>\n",
       "      <td>2019-09-02 01:31:09+00:00</td>\n",
       "      <td>en</td>\n",
       "      <td>1167118446557106176</td>\n",
       "      <td>86</td>\n",
       "      <td>35</td>\n",
       "      <td>1642</td>\n",
       "      <td>stan marty the coke snorting king 🤩</td>\n",
       "      <td>[🤩]</td>\n",
       "      <td>1</td>\n",
       "    </tr>\n",
       "    <tr>\n",
       "      <th>4</th>\n",
       "      <td>69</td>\n",
       "      <td>1168335530100187136</td>\n",
       "      <td>2019-09-02 01:31:11+00:00</td>\n",
       "      <td>en</td>\n",
       "      <td>1113229774720253952</td>\n",
       "      <td>52</td>\n",
       "      <td>68</td>\n",
       "      <td>489</td>\n",
       "      <td>Everybody loves zukos nice nice nice funny boy...</td>\n",
       "      <td>[😌, 😌]</td>\n",
       "      <td>2</td>\n",
       "    </tr>\n",
       "  </tbody>\n",
       "</table>\n",
       "</div>"
      ],
      "text/plain": [
       "   n_chars             tweet_id                created_at lang  \\\n",
       "0       59  1168335483987988480 2019-09-02 01:31:00+00:00   en   \n",
       "1       62  1168335500773642240 2019-09-02 01:31:04+00:00   en   \n",
       "2       34  1168335509149618176 2019-09-02 01:31:06+00:00   en   \n",
       "3       35  1168335521728385035 2019-09-02 01:31:09+00:00   en   \n",
       "4       69  1168335530100187136 2019-09-02 01:31:11+00:00   en   \n",
       "\n",
       "               user_id  user_n_followers  user_n_following  user_n_tweets  \\\n",
       "0  1158815200461697026                31                42            285   \n",
       "1           4888723335               484               712           1900   \n",
       "2            235255263               380               303           3197   \n",
       "3  1167118446557106176                86                35           1642   \n",
       "4  1113229774720253952                52                68            489   \n",
       "\n",
       "                                                text   emojis  n_emojis  \n",
       "0  @jaxlively Lmaoooo hunnit this shit leaving me...      [🥴]         1  \n",
       "1  Got something going through my brain that I ca...      [🤯]         1  \n",
       "2                 I can officially say I am DONE 👋🏼😋  [👋🏼, 😋]         2  \n",
       "3                stan marty the coke snorting king 🤩      [🤩]         1  \n",
       "4  Everybody loves zukos nice nice nice funny boy...   [😌, 😌]         2  "
      ]
     },
     "execution_count": 17,
     "metadata": {},
     "output_type": "execute_result"
    }
   ],
   "source": [
    "df.head()"
   ]
  },
  {
   "cell_type": "code",
   "execution_count": 5,
   "metadata": {},
   "outputs": [
    {
     "data": {
      "text/html": [
       "<div>\n",
       "<style scoped>\n",
       "    .dataframe tbody tr th:only-of-type {\n",
       "        vertical-align: middle;\n",
       "    }\n",
       "\n",
       "    .dataframe tbody tr th {\n",
       "        vertical-align: top;\n",
       "    }\n",
       "\n",
       "    .dataframe thead th {\n",
       "        text-align: right;\n",
       "    }\n",
       "</style>\n",
       "<table border=\"1\" class=\"dataframe\">\n",
       "  <thead>\n",
       "    <tr style=\"text-align: right;\">\n",
       "      <th></th>\n",
       "      <th>n_chars</th>\n",
       "      <th>tweet_id</th>\n",
       "      <th>created_at</th>\n",
       "      <th>lang</th>\n",
       "      <th>user_id</th>\n",
       "      <th>user_n_followers</th>\n",
       "      <th>user_n_following</th>\n",
       "      <th>user_n_tweets</th>\n",
       "      <th>text</th>\n",
       "    </tr>\n",
       "  </thead>\n",
       "  <tbody>\n",
       "  </tbody>\n",
       "</table>\n",
       "</div>"
      ],
      "text/plain": [
       "Empty DataFrame\n",
       "Columns: [n_chars, tweet_id, created_at, lang, user_id, user_n_followers, user_n_following, user_n_tweets, text]\n",
       "Index: []"
      ]
     },
     "execution_count": 5,
     "metadata": {},
     "output_type": "execute_result"
    }
   ],
   "source": [
    "df[df.isnull().any(axis=1)]"
   ]
  },
  {
   "cell_type": "code",
   "execution_count": 6,
   "metadata": {},
   "outputs": [
    {
     "data": {
      "text/plain": [
       "3103"
      ]
     },
     "execution_count": 6,
     "metadata": {},
     "output_type": "execute_result"
    }
   ],
   "source": [
    "len(df[df.duplicated()])"
   ]
  },
  {
   "cell_type": "code",
   "execution_count": 7,
   "metadata": {},
   "outputs": [],
   "source": [
    "df = df.drop_duplicates()"
   ]
  },
  {
   "cell_type": "code",
   "execution_count": 8,
   "metadata": {},
   "outputs": [
    {
     "data": {
      "text/plain": [
       "10111"
      ]
     },
     "execution_count": 8,
     "metadata": {},
     "output_type": "execute_result"
    }
   ],
   "source": [
    "len(df[df.duplicated(\"text\")])"
   ]
  },
  {
   "cell_type": "code",
   "execution_count": 9,
   "metadata": {},
   "outputs": [],
   "source": [
    "df = df.drop_duplicates(\"text\")"
   ]
  },
  {
   "cell_type": "code",
   "execution_count": 10,
   "metadata": {},
   "outputs": [
    {
     "data": {
      "text/plain": [
       "'1,986,157'"
      ]
     },
     "execution_count": 10,
     "metadata": {},
     "output_type": "execute_result"
    }
   ],
   "source": [
    "f\"{len(df):,}\""
   ]
  },
  {
   "cell_type": "code",
   "execution_count": 11,
   "metadata": {
    "scrolled": true
   },
   "outputs": [
    {
     "data": {
      "text/html": [
       "<div>\n",
       "<style scoped>\n",
       "    .dataframe tbody tr th:only-of-type {\n",
       "        vertical-align: middle;\n",
       "    }\n",
       "\n",
       "    .dataframe tbody tr th {\n",
       "        vertical-align: top;\n",
       "    }\n",
       "\n",
       "    .dataframe thead th {\n",
       "        text-align: right;\n",
       "    }\n",
       "</style>\n",
       "<table border=\"1\" class=\"dataframe\">\n",
       "  <thead>\n",
       "    <tr style=\"text-align: right;\">\n",
       "      <th></th>\n",
       "      <th>n_chars</th>\n",
       "      <th>user_n_followers</th>\n",
       "      <th>user_n_following</th>\n",
       "      <th>user_n_tweets</th>\n",
       "    </tr>\n",
       "  </thead>\n",
       "  <tbody>\n",
       "    <tr>\n",
       "      <th>count</th>\n",
       "      <td>1.986157e+06</td>\n",
       "      <td>1.986157e+06</td>\n",
       "      <td>1.986157e+06</td>\n",
       "      <td>1.986157e+06</td>\n",
       "    </tr>\n",
       "    <tr>\n",
       "      <th>mean</th>\n",
       "      <td>7.415728e+01</td>\n",
       "      <td>3.453528e+03</td>\n",
       "      <td>1.123764e+03</td>\n",
       "      <td>2.460607e+04</td>\n",
       "    </tr>\n",
       "    <tr>\n",
       "      <th>std</th>\n",
       "      <td>5.966867e+01</td>\n",
       "      <td>8.666231e+04</td>\n",
       "      <td>6.129827e+03</td>\n",
       "      <td>5.871392e+04</td>\n",
       "    </tr>\n",
       "    <tr>\n",
       "      <th>min</th>\n",
       "      <td>5.000000e+00</td>\n",
       "      <td>0.000000e+00</td>\n",
       "      <td>0.000000e+00</td>\n",
       "      <td>1.000000e+00</td>\n",
       "    </tr>\n",
       "    <tr>\n",
       "      <th>25%</th>\n",
       "      <td>3.300000e+01</td>\n",
       "      <td>1.430000e+02</td>\n",
       "      <td>1.800000e+02</td>\n",
       "      <td>1.727000e+03</td>\n",
       "    </tr>\n",
       "    <tr>\n",
       "      <th>50%</th>\n",
       "      <td>5.400000e+01</td>\n",
       "      <td>4.600000e+02</td>\n",
       "      <td>4.170000e+02</td>\n",
       "      <td>7.728000e+03</td>\n",
       "    </tr>\n",
       "    <tr>\n",
       "      <th>75%</th>\n",
       "      <td>9.500000e+01</td>\n",
       "      <td>1.280000e+03</td>\n",
       "      <td>9.220000e+02</td>\n",
       "      <td>2.571500e+04</td>\n",
       "    </tr>\n",
       "    <tr>\n",
       "      <th>max</th>\n",
       "      <td>1.083000e+03</td>\n",
       "      <td>2.837179e+07</td>\n",
       "      <td>1.837560e+06</td>\n",
       "      <td>3.775089e+06</td>\n",
       "    </tr>\n",
       "  </tbody>\n",
       "</table>\n",
       "</div>"
      ],
      "text/plain": [
       "            n_chars  user_n_followers  user_n_following  user_n_tweets\n",
       "count  1.986157e+06      1.986157e+06      1.986157e+06   1.986157e+06\n",
       "mean   7.415728e+01      3.453528e+03      1.123764e+03   2.460607e+04\n",
       "std    5.966867e+01      8.666231e+04      6.129827e+03   5.871392e+04\n",
       "min    5.000000e+00      0.000000e+00      0.000000e+00   1.000000e+00\n",
       "25%    3.300000e+01      1.430000e+02      1.800000e+02   1.727000e+03\n",
       "50%    5.400000e+01      4.600000e+02      4.170000e+02   7.728000e+03\n",
       "75%    9.500000e+01      1.280000e+03      9.220000e+02   2.571500e+04\n",
       "max    1.083000e+03      2.837179e+07      1.837560e+06   3.775089e+06"
      ]
     },
     "execution_count": 11,
     "metadata": {},
     "output_type": "execute_result"
    }
   ],
   "source": [
    "df.describe()"
   ]
  },
  {
   "cell_type": "code",
   "execution_count": 12,
   "metadata": {},
   "outputs": [
    {
     "data": {
      "text/plain": [
       "3271     well😀\n",
       "5807     This👇\n",
       "6217     wild😳\n",
       "7531     Damn😕\n",
       "8516     okay💍\n",
       "         ...  \n",
       "62854    luvv💗\n",
       "63585    sick😷\n",
       "69594    scat😔\n",
       "70186    damn❤\n",
       "73511    Mood😇\n",
       "Name: text, Length: 833, dtype: object"
      ]
     },
     "execution_count": 12,
     "metadata": {},
     "output_type": "execute_result"
    }
   ],
   "source": [
    "df[df.n_chars == 5].text"
   ]
  },
  {
   "cell_type": "code",
   "execution_count": 13,
   "metadata": {},
   "outputs": [],
   "source": [
    "df['emojis'] = df.text.parallel_apply(find_emojis)"
   ]
  },
  {
   "cell_type": "code",
   "execution_count": 14,
   "metadata": {},
   "outputs": [],
   "source": [
    "df['n_emojis'] = df.emojis.parallel_apply(len)"
   ]
  },
  {
   "cell_type": "code",
   "execution_count": 15,
   "metadata": {},
   "outputs": [
    {
     "data": {
      "text/html": [
       "<div>\n",
       "<style scoped>\n",
       "    .dataframe tbody tr th:only-of-type {\n",
       "        vertical-align: middle;\n",
       "    }\n",
       "\n",
       "    .dataframe tbody tr th {\n",
       "        vertical-align: top;\n",
       "    }\n",
       "\n",
       "    .dataframe thead th {\n",
       "        text-align: right;\n",
       "    }\n",
       "</style>\n",
       "<table border=\"1\" class=\"dataframe\">\n",
       "  <thead>\n",
       "    <tr style=\"text-align: right;\">\n",
       "      <th></th>\n",
       "      <th>n_chars</th>\n",
       "      <th>tweet_id</th>\n",
       "      <th>created_at</th>\n",
       "      <th>lang</th>\n",
       "      <th>user_id</th>\n",
       "      <th>user_n_followers</th>\n",
       "      <th>user_n_following</th>\n",
       "      <th>user_n_tweets</th>\n",
       "      <th>text</th>\n",
       "      <th>emojis</th>\n",
       "      <th>n_emojis</th>\n",
       "    </tr>\n",
       "  </thead>\n",
       "  <tbody>\n",
       "    <tr>\n",
       "      <th>0</th>\n",
       "      <td>59</td>\n",
       "      <td>1168335483987988480</td>\n",
       "      <td>2019-09-02 01:31:00+00:00</td>\n",
       "      <td>en</td>\n",
       "      <td>1158815200461697026</td>\n",
       "      <td>31</td>\n",
       "      <td>42</td>\n",
       "      <td>285</td>\n",
       "      <td>@jaxlively Lmaoooo hunnit this shit leaving me...</td>\n",
       "      <td>[🥴]</td>\n",
       "      <td>1</td>\n",
       "    </tr>\n",
       "    <tr>\n",
       "      <th>1</th>\n",
       "      <td>62</td>\n",
       "      <td>1168335500773642240</td>\n",
       "      <td>2019-09-02 01:31:04+00:00</td>\n",
       "      <td>en</td>\n",
       "      <td>4888723335</td>\n",
       "      <td>484</td>\n",
       "      <td>712</td>\n",
       "      <td>1900</td>\n",
       "      <td>Got something going through my brain that I ca...</td>\n",
       "      <td>[🤯]</td>\n",
       "      <td>1</td>\n",
       "    </tr>\n",
       "    <tr>\n",
       "      <th>2</th>\n",
       "      <td>34</td>\n",
       "      <td>1168335509149618176</td>\n",
       "      <td>2019-09-02 01:31:06+00:00</td>\n",
       "      <td>en</td>\n",
       "      <td>235255263</td>\n",
       "      <td>380</td>\n",
       "      <td>303</td>\n",
       "      <td>3197</td>\n",
       "      <td>I can officially say I am DONE 👋🏼😋</td>\n",
       "      <td>[👋🏼, 😋]</td>\n",
       "      <td>2</td>\n",
       "    </tr>\n",
       "    <tr>\n",
       "      <th>3</th>\n",
       "      <td>35</td>\n",
       "      <td>1168335521728385035</td>\n",
       "      <td>2019-09-02 01:31:09+00:00</td>\n",
       "      <td>en</td>\n",
       "      <td>1167118446557106176</td>\n",
       "      <td>86</td>\n",
       "      <td>35</td>\n",
       "      <td>1642</td>\n",
       "      <td>stan marty the coke snorting king 🤩</td>\n",
       "      <td>[🤩]</td>\n",
       "      <td>1</td>\n",
       "    </tr>\n",
       "    <tr>\n",
       "      <th>4</th>\n",
       "      <td>69</td>\n",
       "      <td>1168335530100187136</td>\n",
       "      <td>2019-09-02 01:31:11+00:00</td>\n",
       "      <td>en</td>\n",
       "      <td>1113229774720253952</td>\n",
       "      <td>52</td>\n",
       "      <td>68</td>\n",
       "      <td>489</td>\n",
       "      <td>Everybody loves zukos nice nice nice funny boy...</td>\n",
       "      <td>[😌, 😌]</td>\n",
       "      <td>2</td>\n",
       "    </tr>\n",
       "  </tbody>\n",
       "</table>\n",
       "</div>"
      ],
      "text/plain": [
       "   n_chars             tweet_id                created_at lang  \\\n",
       "0       59  1168335483987988480 2019-09-02 01:31:00+00:00   en   \n",
       "1       62  1168335500773642240 2019-09-02 01:31:04+00:00   en   \n",
       "2       34  1168335509149618176 2019-09-02 01:31:06+00:00   en   \n",
       "3       35  1168335521728385035 2019-09-02 01:31:09+00:00   en   \n",
       "4       69  1168335530100187136 2019-09-02 01:31:11+00:00   en   \n",
       "\n",
       "               user_id  user_n_followers  user_n_following  user_n_tweets  \\\n",
       "0  1158815200461697026                31                42            285   \n",
       "1           4888723335               484               712           1900   \n",
       "2            235255263               380               303           3197   \n",
       "3  1167118446557106176                86                35           1642   \n",
       "4  1113229774720253952                52                68            489   \n",
       "\n",
       "                                                text   emojis  n_emojis  \n",
       "0  @jaxlively Lmaoooo hunnit this shit leaving me...      [🥴]         1  \n",
       "1  Got something going through my brain that I ca...      [🤯]         1  \n",
       "2                 I can officially say I am DONE 👋🏼😋  [👋🏼, 😋]         2  \n",
       "3                stan marty the coke snorting king 🤩      [🤩]         1  \n",
       "4  Everybody loves zukos nice nice nice funny boy...   [😌, 😌]         2  "
      ]
     },
     "execution_count": 15,
     "metadata": {},
     "output_type": "execute_result"
    }
   ],
   "source": [
    "df.head()"
   ]
  },
  {
   "cell_type": "code",
   "execution_count": 21,
   "metadata": {},
   "outputs": [
    {
     "data": {
      "text/html": [
       "<div>\n",
       "<style scoped>\n",
       "    .dataframe tbody tr th:only-of-type {\n",
       "        vertical-align: middle;\n",
       "    }\n",
       "\n",
       "    .dataframe tbody tr th {\n",
       "        vertical-align: top;\n",
       "    }\n",
       "\n",
       "    .dataframe thead th {\n",
       "        text-align: right;\n",
       "    }\n",
       "</style>\n",
       "<table border=\"1\" class=\"dataframe\">\n",
       "  <thead>\n",
       "    <tr style=\"text-align: right;\">\n",
       "      <th></th>\n",
       "      <th>count</th>\n",
       "      <th>emoji</th>\n",
       "    </tr>\n",
       "  </thead>\n",
       "  <tbody>\n",
       "    <tr>\n",
       "      <th>0</th>\n",
       "      <td>26410</td>\n",
       "      <td>🥴</td>\n",
       "    </tr>\n",
       "    <tr>\n",
       "      <th>1</th>\n",
       "      <td>4942</td>\n",
       "      <td>🤯</td>\n",
       "    </tr>\n",
       "    <tr>\n",
       "      <th>2</th>\n",
       "      <td>9034</td>\n",
       "      <td>😋</td>\n",
       "    </tr>\n",
       "    <tr>\n",
       "      <th>3</th>\n",
       "      <td>458</td>\n",
       "      <td>👋🏼</td>\n",
       "    </tr>\n",
       "    <tr>\n",
       "      <th>4</th>\n",
       "      <td>11051</td>\n",
       "      <td>🤩</td>\n",
       "    </tr>\n",
       "  </tbody>\n",
       "</table>\n",
       "</div>"
      ],
      "text/plain": [
       "   count emoji\n",
       "0  26410     🥴\n",
       "1   4942     🤯\n",
       "2   9034     😋\n",
       "3    458    👋🏼\n",
       "4  11051     🤩"
      ]
     },
     "execution_count": 21,
     "metadata": {},
     "output_type": "execute_result"
    }
   ],
   "source": [
    "from collections import Counter\n",
    "flatten = lambda t: [item for sublist in t for item in sublist]\n",
    "emoji_counts = Counter(flatten(df['emojis'].apply(set).tolist()))\n",
    "df2 = {\"emoji\": list(emoji_counts.keys()), \"count\": list(emoji_counts.values())}\n",
    "df2 = pd.DataFrame.from_records(df2)\n",
    "df2.head()\n",
    "\n",
    "context_free_emojis = pd.read_csv(\"/scratch/czestoch/emoji-measures/ambiguity_variation.csv.gz\").emoji\n",
    "context_free_emojis\n",
    "\n",
    "df2 = df2[df2.emoji.isin(context_free_emojis.tolist())]\n",
    "\n",
    "save_to_csv(df2, \"/scratch/czestoch/emoji-measures/twitter-stream-09-2019-context-free-emoji-counts.csv\")"
   ]
  },
  {
   "cell_type": "code",
   "execution_count": 13,
   "metadata": {},
   "outputs": [
    {
     "data": {
      "text/plain": [
       "'1,111,288'"
      ]
     },
     "execution_count": 13,
     "metadata": {},
     "output_type": "execute_result"
    }
   ],
   "source": [
    "f\"{len(df[df.n_emojis == 1]):,}\""
   ]
  },
  {
   "cell_type": "code",
   "execution_count": 14,
   "metadata": {},
   "outputs": [],
   "source": [
    "#Choose only tweets with one emoji\n",
    "df = df[df.n_emojis == 1]"
   ]
  },
  {
   "cell_type": "code",
   "execution_count": 15,
   "metadata": {},
   "outputs": [
    {
     "data": {
      "text/plain": [
       "'Lmaoooo hunnit this shit leaving me so confused🥴'"
      ]
     },
     "execution_count": 15,
     "metadata": {},
     "output_type": "execute_result"
    }
   ],
   "source": [
    "p.set_options(p.OPT.URL, p.OPT.MENTION, p.OPT.HASHTAG)\n",
    "p.clean(df.iloc[0].text)"
   ]
  },
  {
   "cell_type": "code",
   "execution_count": 16,
   "metadata": {},
   "outputs": [],
   "source": [
    "df[\"cleaned_text\"] = df.text.parallel_apply(lambda x: p.clean(x))"
   ]
  },
  {
   "cell_type": "code",
   "execution_count": 17,
   "metadata": {},
   "outputs": [],
   "source": [
    "df = df.drop(\"n_emojis\", axis=1)"
   ]
  },
  {
   "cell_type": "code",
   "execution_count": 18,
   "metadata": {},
   "outputs": [],
   "source": [
    "df.emojis = df.emojis.parallel_apply(lambda x: x[0])"
   ]
  },
  {
   "cell_type": "code",
   "execution_count": 19,
   "metadata": {},
   "outputs": [],
   "source": [
    "tweets_per_emoji = df.groupby(\"emojis\").text.count()"
   ]
  },
  {
   "cell_type": "code",
   "execution_count": 20,
   "metadata": {},
   "outputs": [
    {
     "data": {
      "text/plain": [
       "count      2581.000000\n",
       "mean        430.564897\n",
       "std        3281.507798\n",
       "min           1.000000\n",
       "25%           3.000000\n",
       "50%          11.000000\n",
       "75%          55.000000\n",
       "max      125622.000000\n",
       "Name: text, dtype: float64"
      ]
     },
     "execution_count": 20,
     "metadata": {},
     "output_type": "execute_result"
    }
   ],
   "source": [
    "tweets_per_emoji.describe()"
   ]
  },
  {
   "cell_type": "code",
   "execution_count": 21,
   "metadata": {},
   "outputs": [
    {
     "data": {
      "text/plain": [
       "emojis\n",
       "😂    125622\n",
       "Name: text, dtype: int64"
      ]
     },
     "execution_count": 21,
     "metadata": {},
     "output_type": "execute_result"
    }
   ],
   "source": [
    "tweets_per_emoji[tweets_per_emoji == tweets_per_emoji.max()]"
   ]
  },
  {
   "cell_type": "code",
   "execution_count": 22,
   "metadata": {},
   "outputs": [
    {
     "data": {
      "text/plain": [
       "emojis\n",
       "*⃣     1\n",
       "*️⃣    1\n",
       "5⃣     1\n",
       "↕️     1\n",
       "↖      1\n",
       "      ..\n",
       "🧟‍♀    1\n",
       "🧧      1\n",
       "🧫      1\n",
       "🧰      1\n",
       "🪔      1\n",
       "Name: text, Length: 365, dtype: int64"
      ]
     },
     "execution_count": 22,
     "metadata": {},
     "output_type": "execute_result"
    }
   ],
   "source": [
    "tweets_per_emoji[tweets_per_emoji == tweets_per_emoji.min()]"
   ]
  },
  {
   "cell_type": "code",
   "execution_count": 23,
   "metadata": {},
   "outputs": [],
   "source": [
    "# Choose tweets with emojis that appeared in at least 30 different tweets\n",
    "# df = df[df.emojis.isin(tweets_per_emoji[tweets_per_emoji >= 30].index)]"
   ]
  },
  {
   "cell_type": "code",
   "execution_count": 24,
   "metadata": {},
   "outputs": [],
   "source": [
    "#f\"{len(df):,}\""
   ]
  },
  {
   "cell_type": "code",
   "execution_count": 25,
   "metadata": {},
   "outputs": [
    {
     "data": {
      "text/plain": [
       "2581"
      ]
     },
     "execution_count": 25,
     "metadata": {},
     "output_type": "execute_result"
    }
   ],
   "source": [
    "df.emojis.nunique()"
   ]
  },
  {
   "cell_type": "code",
   "execution_count": 26,
   "metadata": {},
   "outputs": [],
   "source": [
    "dir_path = \"/scratch/czestoch/emoji-measures/\"\n",
    "context_free_emojis = pd.read_csv(os.path.join(dir_path, \"ambiguity_variation.csv.gz\"))[\"emoji\"]"
   ]
  },
  {
   "cell_type": "code",
   "execution_count": 27,
   "metadata": {},
   "outputs": [
    {
     "name": "stdout",
     "output_type": "stream",
     "text": [
      "978,017\n"
     ]
    },
    {
     "data": {
      "text/plain": [
       "1207"
      ]
     },
     "execution_count": 27,
     "metadata": {},
     "output_type": "execute_result"
    }
   ],
   "source": [
    "df = df[df.emojis.isin(context_free_emojis)]\n",
    "print(f\"{len(df):,}\")\n",
    "df.emojis.nunique()"
   ]
  },
  {
   "cell_type": "code",
   "execution_count": 28,
   "metadata": {},
   "outputs": [],
   "source": [
    "df.to_parquet('/scratch/czestoch/cleaned_english_emoji_tweets_2019_09.parquet.gzip', compression='gzip')"
   ]
  },
  {
   "cell_type": "code",
   "execution_count": 29,
   "metadata": {},
   "outputs": [],
   "source": [
    "########################################################################################"
   ]
  },
  {
   "cell_type": "code",
   "execution_count": 5,
   "metadata": {},
   "outputs": [
    {
     "name": "stdout",
     "output_type": "stream",
     "text": [
      "Loading data...\n"
     ]
    },
    {
     "data": {
      "text/html": [
       "<div>\n",
       "<style scoped>\n",
       "    .dataframe tbody tr th:only-of-type {\n",
       "        vertical-align: middle;\n",
       "    }\n",
       "\n",
       "    .dataframe tbody tr th {\n",
       "        vertical-align: top;\n",
       "    }\n",
       "\n",
       "    .dataframe thead th {\n",
       "        text-align: right;\n",
       "    }\n",
       "</style>\n",
       "<table border=\"1\" class=\"dataframe\">\n",
       "  <thead>\n",
       "    <tr style=\"text-align: right;\">\n",
       "      <th></th>\n",
       "      <th>tweet</th>\n",
       "      <th>emojis</th>\n",
       "    </tr>\n",
       "  </thead>\n",
       "  <tbody>\n",
       "    <tr>\n",
       "      <th>0</th>\n",
       "      <td>Lmaoooo hunnit this shit leaving me so confused🥴</td>\n",
       "      <td>🥴</td>\n",
       "    </tr>\n",
       "    <tr>\n",
       "      <th>1</th>\n",
       "      <td>Got something going through my brain that I ca...</td>\n",
       "      <td>🤯</td>\n",
       "    </tr>\n",
       "    <tr>\n",
       "      <th>3</th>\n",
       "      <td>stan marty the coke snorting king 🤩</td>\n",
       "      <td>🤩</td>\n",
       "    </tr>\n",
       "    <tr>\n",
       "      <th>8</th>\n",
       "      <td>unfollow 🤭</td>\n",
       "      <td>🤭</td>\n",
       "    </tr>\n",
       "    <tr>\n",
       "      <th>10</th>\n",
       "      <td>Please do if it’s not too much trouble!! 😊</td>\n",
       "      <td>😊</td>\n",
       "    </tr>\n",
       "  </tbody>\n",
       "</table>\n",
       "</div>"
      ],
      "text/plain": [
       "                                                tweet emojis\n",
       "0    Lmaoooo hunnit this shit leaving me so confused🥴      🥴\n",
       "1   Got something going through my brain that I ca...      🤯\n",
       "3                 stan marty the coke snorting king 🤩      🤩\n",
       "8                                          unfollow 🤭      🤭\n",
       "10         Please do if it’s not too much trouble!! 😊      😊"
      ]
     },
     "execution_count": 5,
     "metadata": {},
     "output_type": "execute_result"
    }
   ],
   "source": [
    "print(\"Loading data...\")\n",
    "path = \"/scratch/czestoch/emoji-measures-input/cleaned_english_emoji_tweets_2019_09.parquet.gzip\"\n",
    "tweets = pd.read_parquet(path)[[\"cleaned_text\", \"emojis\"]]\n",
    "tweets = tweets.rename({\"cleaned_text\": \"tweet\"}, axis=1)\n",
    "tweets.head()"
   ]
  },
  {
   "cell_type": "code",
   "execution_count": 6,
   "metadata": {},
   "outputs": [],
   "source": [
    "df1 = tweets.groupby(\"emojis\").tweet.count()\n",
    "df1 = df1.to_frame().reset_index()"
   ]
  },
  {
   "cell_type": "code",
   "execution_count": 7,
   "metadata": {},
   "outputs": [],
   "source": [
    "import matplotlib.pyplot as plt\n",
    "import seaborn as sns\n",
    "\n",
    "sns.set(rc={'figure.figsize':(15, 7)}, font_scale=1.7)\n",
    "sns.set_style(\"white\", {'axes.grid' : True})"
   ]
  },
  {
   "cell_type": "code",
   "execution_count": 8,
   "metadata": {},
   "outputs": [
    {
     "data": {
      "image/png": "[encoded data removed]",
      "text/plain": [
       "<Figure size 1080x504 with 1 Axes>"
      ]
     },
     "metadata": {},
     "output_type": "display_data"
    }
   ],
   "source": [
    "fig, ax = plt.subplots()\n",
    "ax = sns.ecdfplot(data=df1, x=\"tweet\", stat='count', complementary=True, ax=ax)\n",
    "ax.set_title(\"CCDF for number of tweets per emoji, using dlab twitter stream from September 2019\")\n",
    "ax.set_xscale(\"log\")\n",
    "ax.set_xlabel(\"number of tweets\")\n",
    "ax.set_ylabel(\"number of emojis with > X tweets\");"
   ]
  },
  {
   "cell_type": "code",
   "execution_count": 46,
   "metadata": {},
   "outputs": [
    {
     "data": {
      "image/png": "[encoded data removed]",
      "text/plain": [
       "<Figure size 1080x504 with 1 Axes>"
      ]
     },
     "metadata": {},
     "output_type": "display_data"
    }
   ],
   "source": [
    "fig, ax = plt.subplots()\n",
    "ax = sns.ecdfplot(data=df1, x=\"tweet\", stat='count', ax=ax)\n",
    "ax.set_title(\"CDF for tweets with one emoji,\\n using only emojis from context-free dataset\")\n",
    "ax.set_xscale(\"log\")\n",
    "ax.set_xlabel(\"number of tweets\")\n",
    "ax.set_ylabel(\"number of emojis with <= X tweets\");"
   ]
  },
  {
   "cell_type": "code",
   "execution_count": 35,
   "metadata": {},
   "outputs": [
    {
     "data": {
      "text/plain": [
       "334"
      ]
     },
     "execution_count": 35,
     "metadata": {},
     "output_type": "execute_result"
    }
   ],
   "source": [
    "len(df1[df1.tweet >= 100])"
   ]
  },
  {
   "cell_type": "code",
   "execution_count": 36,
   "metadata": {},
   "outputs": [
    {
     "data": {
      "text/plain": [
       "547"
      ]
     },
     "execution_count": 36,
     "metadata": {},
     "output_type": "execute_result"
    }
   ],
   "source": [
    "len(df1[df1.tweet >= 30])"
   ]
  },
  {
   "cell_type": "code",
   "execution_count": 41,
   "metadata": {},
   "outputs": [
    {
     "data": {
      "text/plain": [
       "array(['‼️', '⁉️', '™️', '☀️', '☁️', '☑️', '☔', '☕', '☘️', '☝️', '☠️',\n",
       "       '☹️', '☺️', '♥️', '⚔️', '⚜️', '⚠️', '⚡', '⚽', '⚾', '✅', '✈️', '✊',\n",
       "       '✋', '✌️', '✍️', '✔️', '✨', '❄️', '❌', '❓', '❗', '❣️', '❤️', '➡️',\n",
       "       '⬆️', '⬇️', '⭐', '🅱️', '🌈', '🌊', '🌍', '🌎', '🌙', '🌚', '🌝', '🌞', '🌟',\n",
       "       '🌱', '🌴', '🌷', '🌸', '🌹', '🌺', '🌻', '🌼', '🌿', '🍀', '🍁', '🍂', '🍃',\n",
       "       '🍆', '🍊', '🍎', '🍑', '🍒', '🍔', '🍕', '🍪', '🍰', '🍵', '🍷', '🍺', '🍻',\n",
       "       '🍾', '🍿', '🎁', '🎂', '🎃', '🎈', '🎉', '🎊', '🎤', '🎥', '🎧', '🎨', '🎬',\n",
       "       '🎭', '🎯', '🎵', '🎶', '🎼', '🎾', '🏀', '🏃', '🏆', '🏈', '🏉', '🏐',\n",
       "       '🏳️\\u200d🌈',\n",
       "       '🏴\\U000e0067\\U000e0062\\U000e0073\\U000e0063\\U000e0074\\U000e007f',\n",
       "       '🐀', '🐈', '🐍', '🐐', '🐕', '🐝', '🐢', '🐦', '🐯', '🐰', '🐱', '🐶', '🐷',\n",
       "       '🐸', '🐺', '🐻', '🐾', '👀', '👅', '👆', '👇', '👉', '👊', '👋', '👌', '👍',\n",
       "       '👎', '👏', '👐', '👑', '👩\\u200d❤️\\u200d💋\\u200d👩', '👶', '👹', '👺', '👻',\n",
       "       '👽', '👿', '💀', '💁', '💃', '💅', '💉', '💋', '💌', '💍', '💎', '💐', '💓',\n",
       "       '💔', '💕', '💖', '💗', '💘', '💙', '💚', '💛', '💜', '💝', '💞', '💟', '💡',\n",
       "       '💣', '💤', '💥', '💦', '💧', '💨', '💩', '💪', '💫', '💭', '💯', '💰', '💵',\n",
       "       '💸', '📈', '📌', '📍', '📚', '📝', '📞', '📲', '📷', '📸', '📺', '🔄', '🔊',\n",
       "       '🔑', '🔒', '🔥', '🔪', '🔫', '🔮', '🔴', '🕺', '🖕', '🖤', '🗣️', '🗿', '😀',\n",
       "       '😁', '😂', '😃', '😄', '😅', '😆', '😇', '😈', '😉', '😊', '😋', '😌', '😍',\n",
       "       '😎', '😏', '😐', '😑', '😒', '😓', '😔', '😕', '😖', '😗', '😘', '😙', '😚',\n",
       "       '😛', '😜', '😝', '😞', '😟', '😠', '😡', '😢', '😣', '😤', '😥', '😦', '😧',\n",
       "       '😨', '😩', '😪', '😫', '😬', '😭', '😮', '😯', '😰', '😱', '😲', '😳', '😴',\n",
       "       '😵', '😶', '😷', '😸', '😹', '😺', '😻', '😼', '😽', '😾', '😿', '🙀', '🙁',\n",
       "       '🙂', '🙃', '🙄', '🙆', '🙈', '🙉', '🙊', '🙋', '🙌', '🙏', '🚀', '🚨', '🚫',\n",
       "       '🚮', '🚶', '🛑', '🤐', '🤑', '🤒', '🤓', '🤔', '🤕', '🤖', '🤗', '🤘', '🤙',\n",
       "       '🤝', '🤞', '🤟', '🤠', '🤡', '🤢', '🤣', '🤤', '🤥', '🤦', '🤧', '🤨', '🤩',\n",
       "       '🤪', '🤫', '🤬', '🤭', '🤮', '🤯', '🤲', '🤷', '🥀', '🥂', '🥃', '🥇', '🥊',\n",
       "       '🥰', '🥳', '🥴', '🥵', '🥶', '🥺', '🦁', '🦄', '🦅', '🦇', '🦋', '🦍', '🧐',\n",
       "       '🧠', '🧡', '🧢'], dtype=object)"
      ]
     },
     "execution_count": 41,
     "metadata": {},
     "output_type": "execute_result"
    }
   ],
   "source": [
    "df1[df1.tweet >= 100].emojis.values"
   ]
  },
  {
   "cell_type": "code",
   "execution_count": 42,
   "metadata": {},
   "outputs": [
    {
     "data": {
      "text/plain": [
       "array(['©️', '‼️', '⁉️', '™️', '⌚', '⏰', '⏳', '▶️', '☀️', '☁️', '☄️',\n",
       "       '☎️', '☑️', '☔', '☕', '☘️', '☝️', '☠️', '☢️', '☮️', '☹️', '☺️',\n",
       "       '♈', '♋', '♍', '♎', '♠️', '♥️', '♻️', '⚓', '⚔️', '⚖️', '⚜️', '⚠️',\n",
       "       '⚡', '⚫', '⚰️', '⚽', '⚾', '⛅', '⛳', '⛽', '✂️', '✅', '✈️', '✊', '✋',\n",
       "       '✌️', '✍️', '✏️', '✔️', '✝️', '✨', '❄️', '❌', '❓', '❕', '❗', '❣️',\n",
       "       '❤️', '➡️', '⤵️', '⬆️', '⬇️', '⭐', '⭕', '🃏', '🅱️', '🅿️', '🆗', '🆘',\n",
       "       '🌀', '🌃', '🌄', '🌅', '🌈', '🌊', '🌋', '🌌', '🌍', '🌎', '🌏', '🌐', '🌕',\n",
       "       '🌙', '🌚', '🌛', '🌝', '🌞', '🌟', '🌠', '🌮', '🌯', '🌱', '🌲', '🌳', '🌴',\n",
       "       '🌵', '🌷', '🌸', '🌹', '🌺', '🌻', '🌼', '🌽', '🌾', '🌿', '🍀', '🍁', '🍂',\n",
       "       '🍃', '🍄', '🍅', '🍆', '🍇', '🍉', '🍊', '🍋', '🍌', '🍍', '🍎', '🍏', '🍑',\n",
       "       '🍒', '🍓', '🍔', '🍕', '🍗', '🍜', '🍝', '🍞', '🍟', '🍣', '🍦', '🍩', '🍪',\n",
       "       '🍫', '🍬', '🍭', '🍯', '🍰', '🍳', '🍴', '🍵', '🍷', '🍸', '🍹', '🍺', '🍻',\n",
       "       '🍼', '🍾', '🍿', '🎀', '🎁', '🎂', '🎃', '🎄', '🎈', '🎉', '🎊', '🎒', '🎓',\n",
       "       '🎣', '🎤', '🎥', '🎧', '🎨', '🎩', '🎪', '🎫', '🎬', '🎭', '🎮', '🎯', '🎱',\n",
       "       '🎲', '🎵', '🎶', '🎸', '🎼', '🎾', '🏀', '🏃', '🏅', '🏆', '🏈', '🏉', '🏌️',\n",
       "       '🏏', '🏐', '🏒', '🏠', '🏡', '🏳️\\u200d🌈', '🏴\\u200d☠️',\n",
       "       '🏴\\U000e0067\\U000e0062\\U000e0065\\U000e006e\\U000e0067\\U000e007f',\n",
       "       '🏴\\U000e0067\\U000e0062\\U000e0073\\U000e0063\\U000e0074\\U000e007f',\n",
       "       '🏴\\U000e0067\\U000e0062\\U000e0077\\U000e006c\\U000e0073\\U000e007f',\n",
       "       '🏹', '🐀', '🐄', '🐅', '🐇', '🐈', '🐉', '🐊', '🐌', '🐍', '🐎', '🐐', '🐑',\n",
       "       '🐒', '🐓', '🐔', '🐕', '🐖', '🐘', '🐙', '🐜', '🐝', '🐟', '🐢', '🐣', '🐥',\n",
       "       '🐦', '🐧', '🐨', '🐬', '🐮', '🐯', '🐰', '🐱', '🐳', '🐴', '🐶', '🐷', '🐸',\n",
       "       '🐺', '🐻', '🐼', '🐽', '🐾', '👀', '👁️', '👂', '👃', '👄', '👅', '👆', '👇',\n",
       "       '👈', '👉', '👊', '👋', '👌', '👍', '👎', '👏', '👐', '👑', '👓', '👟', '👠',\n",
       "       '👣', '👧', '👩\\u200d❤️\\u200d💋\\u200d👩', '👫', '👶', '👸', '👹', '👺', '👻',\n",
       "       '👼', '👽', '👾', '👿', '💀', '💁', '💃', '💄', '💅', '💆', '💉', '💊', '💋',\n",
       "       '💌', '💍', '💎', '💏', '💐', '💓', '💔', '💕', '💖', '💗', '💘', '💙', '💚',\n",
       "       '💛', '💜', '💝', '💞', '💟', '💡', '💢', '💣', '💤', '💥', '💦', '💧', '💨',\n",
       "       '💩', '💪', '💫', '💬', '💭', '💯', '💰', '💴', '💵', '💸', '💻', '💼', '📈',\n",
       "       '📌', '📍', '📖', '📚', '📝', '📞', '📢', '📣', '📦', '📩', '📱', '📲', '📷',\n",
       "       '📸', '📺', '📻', '🔁', '🔄', '🔊', '🔋', '🔌', '🔍', '🔐', '🔑', '🔒', '🔔',\n",
       "       '🔙', '🔜', '🔝', '🔞', '🔥', '🔨', '🔪', '🔫', '🔮', '🔱', '🔴', '🔵', '🕊️',\n",
       "       '🕺', '🖐️', '🖕', '🖖', '🖤', '🗣️', '🗽', '🗿', '😀', '😁', '😂', '😃', '😄',\n",
       "       '😅', '😆', '😇', '😈', '😉', '😊', '😋', '😌', '😍', '😎', '😏', '😐', '😑',\n",
       "       '😒', '😓', '😔', '😕', '😖', '😗', '😘', '😙', '😚', '😛', '😜', '😝', '😞',\n",
       "       '😟', '😠', '😡', '😢', '😣', '😤', '😥', '😦', '😧', '😨', '😩', '😪', '😫',\n",
       "       '😬', '😭', '😮', '😯', '😰', '😱', '😲', '😳', '😴', '😵', '😶', '😷', '😸',\n",
       "       '😹', '😺', '😻', '😼', '😽', '😾', '😿', '🙀', '🙁', '🙂', '🙃', '🙄', '🙅',\n",
       "       '🙆', '🙇', '🙈', '🙉', '🙊', '🙋', '🙌', '🙏', '🚀', '🚂', '🚌', '🚗', '🚘',\n",
       "       '🚦', '🚨', '🚫', '🚬', '🚮', '🚲', '🚶', '🚽', '🛌', '🛑', '🛫', '🤐', '🤑',\n",
       "       '🤒', '🤓', '🤔', '🤕', '🤖', '🤗', '🤘', '🤙', '🤚', '🤜', '🤝', '🤞', '🤟',\n",
       "       '🤠', '🤡', '🤢', '🤣', '🤤', '🤥', '🤦', '🤧', '🤨', '🤩', '🤪', '🤫', '🤬',\n",
       "       '🤭', '🤮', '🤯', '🤰', '🤲', '🤴', '🤷', '🥀', '🥁', '🥂', '🥃', '🥇', '🥊',\n",
       "       '🥑', '🥔', '🥘', '🥚', '🥛', '🥜', '🥞', '🥤', '🥧', '🥩', '🥰', '🥳', '🥴',\n",
       "       '🥵', '🥶', '🥺', '🦀', '🦁', '🦄', '🦅', '🦆', '🦇', '🦈', '🦉', '🦊', '🦋',\n",
       "       '🦍', '🦎', '🦖', '🦠', '🧀', '🧁', '🧐', '🧠', '🧡', '🧢', '🧬', '🧱', '🧸',\n",
       "       '🧹', '🧿'], dtype=object)"
      ]
     },
     "execution_count": 42,
     "metadata": {},
     "output_type": "execute_result"
    }
   ],
   "source": [
    "df1[df1.tweet >= 30].emojis.values"
   ]
  },
  {
   "cell_type": "code",
   "execution_count": 51,
   "metadata": {},
   "outputs": [],
   "source": [
    "tweets = tweets[tweets.emojis.isin(df1[df1.tweet >= 30].emojis.values)]"
   ]
  },
  {
   "cell_type": "code",
   "execution_count": 52,
   "metadata": {},
   "outputs": [
    {
     "data": {
      "text/html": [
       "<div>\n",
       "<style scoped>\n",
       "    .dataframe tbody tr th:only-of-type {\n",
       "        vertical-align: middle;\n",
       "    }\n",
       "\n",
       "    .dataframe tbody tr th {\n",
       "        vertical-align: top;\n",
       "    }\n",
       "\n",
       "    .dataframe thead th {\n",
       "        text-align: right;\n",
       "    }\n",
       "</style>\n",
       "<table border=\"1\" class=\"dataframe\">\n",
       "  <thead>\n",
       "    <tr style=\"text-align: right;\">\n",
       "      <th></th>\n",
       "      <th>index</th>\n",
       "      <th>tweet</th>\n",
       "      <th>emojis</th>\n",
       "    </tr>\n",
       "  </thead>\n",
       "  <tbody>\n",
       "    <tr>\n",
       "      <th>0</th>\n",
       "      <td>31666</td>\n",
       "      <td>Music’s gonna save our souls.©️</td>\n",
       "      <td>©️</td>\n",
       "    </tr>\n",
       "    <tr>\n",
       "      <th>1</th>\n",
       "      <td>13435</td>\n",
       "      <td>This drawing actually started as a building......</td>\n",
       "      <td>©️</td>\n",
       "    </tr>\n",
       "    <tr>\n",
       "      <th>2</th>\n",
       "      <td>47682</td>\n",
       "      <td>I'd like to say yes, but.... ©️</td>\n",
       "      <td>©️</td>\n",
       "    </tr>\n",
       "    <tr>\n",
       "      <th>3</th>\n",
       "      <td>41559</td>\n",
       "      <td>“So Hard To Be Real” Watching you sleep I can’...</td>\n",
       "      <td>©️</td>\n",
       "    </tr>\n",
       "    <tr>\n",
       "      <th>4</th>\n",
       "      <td>2325</td>\n",
       "      <td>Brockhampton are undeniably The Best Boyband S...</td>\n",
       "      <td>©️</td>\n",
       "    </tr>\n",
       "  </tbody>\n",
       "</table>\n",
       "</div>"
      ],
      "text/plain": [
       "   index                                              tweet emojis\n",
       "0  31666                    Music’s gonna save our souls.©️     ©️\n",
       "1  13435  This drawing actually started as a building......     ©️\n",
       "2  47682                    I'd like to say yes, but.... ©️     ©️\n",
       "3  41559  “So Hard To Be Real” Watching you sleep I can’...     ©️\n",
       "4   2325  Brockhampton are undeniably The Best Boyband S...     ©️"
      ]
     },
     "execution_count": 52,
     "metadata": {},
     "output_type": "execute_result"
    }
   ],
   "source": [
    "equalized = tweets.groupby(\"emojis\").sample(n=30, replace=False).reset_index()\n",
    "equalized.head()"
   ]
  },
  {
   "cell_type": "code",
   "execution_count": 54,
   "metadata": {},
   "outputs": [
    {
     "data": {
      "text/plain": [
       "547"
      ]
     },
     "execution_count": 54,
     "metadata": {},
     "output_type": "execute_result"
    }
   ],
   "source": [
    "equalized.emojis.nunique()"
   ]
  },
  {
   "cell_type": "code",
   "execution_count": 55,
   "metadata": {},
   "outputs": [],
   "source": [
    "save_to_csv(equalized[[\"tweet\", \"emojis\"]], \"/scratch/czestoch/cleaned_equalized_september_tweets.csv\")"
   ]
  }
 ],
 "metadata": {
  "kernelspec": {
   "display_name": "Python 3",
   "language": "python",
   "name": "python3"
  },
  "language_info": {
   "codemirror_mode": {
    "name": "ipython",
    "version": 3
   },
   "file_extension": ".py",
   "mimetype": "text/x-python",
   "name": "python",
   "nbconvert_exporter": "python",
   "pygments_lexer": "ipython3",
   "version": "3.7.7"
  }
 },
 "nbformat": 4,
 "nbformat_minor": 4
}
