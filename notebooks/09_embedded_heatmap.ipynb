{
 "cells": [
  {
   "cell_type": "code",
   "execution_count": null,
   "id": "copyrighted-gibraltar",
   "metadata": {},
   "outputs": [],
   "source": [
    "import gensim.downloader as api\n",
    "import spacy\n",
    "import pandas as pd\n",
    "import texthero as hero\n",
    "from collections import Counter\n",
    "from settings import AMBIGUITY_PATH\n",
    "from src.analysis.embedded import find_embedding\n",
    "import seaborn as sns\n",
    "import numpy as np\n",
    "from sklearn.manifold import TSNE\n",
    "\n",
    "pd.set_option('mode.chained_assignment', None)"
   ]
  },
  {
   "cell_type": "code",
   "execution_count": null,
   "id": "behavioral-geometry",
   "metadata": {},
   "outputs": [],
   "source": [
    "word_embeddings = api.load('glove-twitter-200')"
   ]
  },
  {
   "cell_type": "code",
   "execution_count": null,
   "id": "armed-guidance",
   "metadata": {},
   "outputs": [],
   "source": [
    "twitter_space = {\"word\": [], \"embedding\": [], \"space\": \"twitter\"}\n",
    "for word in word_embeddings.vocab.keys():\n",
    "    twitter_space[\"word\"].append(word)\n",
    "    twitter_space[\"embedding\"].append(word_embeddings.get_vector(word))\n",
    "twitter_space = pd.DataFrame(twitter_space)\n",
    "twitter_space.head()"
   ]
  },
  {
   "cell_type": "code",
   "execution_count": null,
   "id": "cosmetic-revision",
   "metadata": {},
   "outputs": [],
   "source": [
    "emojis = pd.read_csv(AMBIGUITY_PATH, encoding='utf-8')\n",
    "print(\"Choosing subset of words...\")\n",
    "vocabularies = emojis[[\"emoji\", \"word\"]] \\\n",
    "    .groupby(\"emoji\").word \\\n",
    "    .apply(list).apply(Counter) \\\n",
    "    .reset_index() \\\n",
    "    .rename({\"word\": \"vocabulary\"}, axis=1).set_index(\"emoji\")\n",
    "ambiguity_vocab = {st for row in vocabularies.vocabulary for st in row}\n",
    "print(\"Computing embeddings...\")\n",
    "tokenizer = spacy.load(\"en_core_web_sm\")\n",
    "emoji_subspace = {\"word\": [], \"embedding\": [], \"space\": \"emoji\"}\n",
    "for emoji_description in ambiguity_vocab:\n",
    "    tokens = {token.text for token in tokenizer(emoji_description)}\n",
    "    vec = find_embedding(tokens, word_embeddings)\n",
    "    if vec is not None:\n",
    "        emoji_subspace[\"word\"].append(emoji_description)\n",
    "        emoji_subspace[\"embedding\"].append(vec)\n",
    "emoji_subspace = pd.DataFrame(emoji_subspace)\n",
    "emoji_subspace.head()"
   ]
  },
  {
   "cell_type": "code",
   "execution_count": null,
   "id": "available-hepatitis",
   "metadata": {},
   "outputs": [],
   "source": [
    "whole_space = pd.concat((twitter_space, emoji_subspace))"
   ]
  },
  {
   "cell_type": "code",
   "execution_count": null,
   "id": "surface-seller",
   "metadata": {},
   "outputs": [],
   "source": [
    "del word_embeddings"
   ]
  },
  {
   "cell_type": "code",
   "execution_count": null,
   "id": "responsible-liberty",
   "metadata": {},
   "outputs": [],
   "source": [
    "whole_space = whole_space.drop_duplicates(\"word\", keep='last')"
   ]
  },
  {
   "cell_type": "code",
   "execution_count": null,
   "id": "coordinate-bankruptcy",
   "metadata": {},
   "outputs": [],
   "source": [
    "whole_space['pca'] = hero.pca(whole_space['embedding'])\n",
    "hero.scatterplot(\n",
    "    whole_space, \n",
    "    col='pca', \n",
    "    color='space', \n",
    "    title=\"\"\n",
    ")"
   ]
  },
  {
   "cell_type": "code",
   "execution_count": null,
   "id": "attended-cedar",
   "metadata": {},
   "outputs": [],
   "source": [
    "whole_space[['pca_x','pca_y']] = pd.DataFrame(whole_space.pca.tolist(), index=whole_space.index)"
   ]
  },
  {
   "cell_type": "code",
   "execution_count": null,
   "id": "sapphire-western",
   "metadata": {},
   "outputs": [],
   "source": [
    "sns.jointplot(data=whole_space, x='pca_x', y='pca_y', hue='space', kind='hist', height=10);"
   ]
  },
  {
   "cell_type": "code",
   "execution_count": null,
   "id": "yellow-concentration",
   "metadata": {},
   "outputs": [],
   "source": [
    "X_ls = whole_space.embedding.tolist()"
   ]
  },
  {
   "cell_type": "code",
   "execution_count": null,
   "id": "recognized-singing",
   "metadata": {},
   "outputs": [],
   "source": [
    "from tqdm.notebook import tqdm"
   ]
  },
  {
   "cell_type": "code",
   "execution_count": null,
   "id": "geological-reputation",
   "metadata": {},
   "outputs": [],
   "source": [
    "X_np = []\n",
    "for embedding in tqdm(X_ls):\n",
    "      X_np.append(list(embedding))"
   ]
  },
  {
   "cell_type": "code",
   "execution_count": null,
   "id": "soviet-march",
   "metadata": {},
   "outputs": [],
   "source": [
    "del X_ls"
   ]
  },
  {
   "cell_type": "code",
   "execution_count": null,
   "id": "metric-supervisor",
   "metadata": {},
   "outputs": [],
   "source": [
    "X_np = np.array(X_np)"
   ]
  },
  {
   "cell_type": "code",
   "execution_count": null,
   "id": "usual-wound",
   "metadata": {},
   "outputs": [],
   "source": [
    "from sklearn.decomposition import PCA\n",
    "pca = PCA(n_components=50)\n",
    "reduced = pca.fit_transform(X_np)"
   ]
  },
  {
   "cell_type": "code",
   "execution_count": null,
   "id": "union-aruba",
   "metadata": {},
   "outputs": [],
   "source": [
    "reduced.shape"
   ]
  },
  {
   "cell_type": "code",
   "execution_count": null,
   "id": "continued-honor",
   "metadata": {},
   "outputs": [],
   "source": [
    "from MulticoreTSNE import MulticoreTSNE as TSNE"
   ]
  },
  {
   "cell_type": "code",
   "execution_count": null,
   "id": "personalized-chuck",
   "metadata": {},
   "outputs": [],
   "source": [
    "whole_space['tsne'] = TSNE(n_components=2, n_jobs=4).fit_transform(reduced)"
   ]
  },
  {
   "cell_type": "code",
   "execution_count": null,
   "id": "immune-paraguay",
   "metadata": {},
   "outputs": [],
   "source": [
    "del reduced"
   ]
  },
  {
   "cell_type": "code",
   "execution_count": null,
   "id": "demonstrated-vatican",
   "metadata": {},
   "outputs": [],
   "source": [
    "whole_space.head()"
   ]
  },
  {
   "cell_type": "code",
   "execution_count": null,
   "id": "inclusive-corpus",
   "metadata": {},
   "outputs": [],
   "source": []
  }
 ],
 "metadata": {
  "kernelspec": {
   "display_name": "Python 3",
   "language": "python",
   "name": "python3"
  },
  "language_info": {
   "codemirror_mode": {
    "name": "ipython",
    "version": 3
   },
   "file_extension": ".py",
   "mimetype": "text/x-python",
   "name": "python",
   "nbconvert_exporter": "python",
   "pygments_lexer": "ipython3",
   "version": "3.6.9"
  }
 },
 "nbformat": 4,
 "nbformat_minor": 5
}
