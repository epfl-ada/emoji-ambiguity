{
 "cells": [
  {
   "cell_type": "code",
   "execution_count": 2,
   "metadata": {},
   "outputs": [
    {
     "name": "stdout",
     "output_type": "stream",
     "text": [
      "INFO: Pandarallel will run on 30 workers.\n",
      "INFO: Pandarallel will use Memory file system to transfer data between the main process and workers.\n"
     ]
    }
   ],
   "source": [
    "import pandas as pd\n",
    "import os\n",
    "import preprocessor as p\n",
    "from pandarallel import pandarallel\n",
    "pandarallel.initialize(nb_workers=30)\n",
    "\n",
    "from src.data.utils import find_emojis, save_to_csv"
   ]
  },
  {
   "cell_type": "code",
   "execution_count": 3,
   "metadata": {},
   "outputs": [
    {
     "data": {
      "text/plain": [
       "1472466"
      ]
     },
     "execution_count": 3,
     "metadata": {},
     "output_type": "execute_result"
    }
   ],
   "source": [
    "path = '/scratch/czestoch/twitter-api-emojis-parquets'\n",
    "dfs = []\n",
    "for filename in os.listdir(path):\n",
    "    dfs.append(pd.read_parquet(os.path.join(path, filename)))\n",
    "df = pd.concat(dfs)\n",
    "len(df)"
   ]
  },
  {
   "cell_type": "code",
   "execution_count": 4,
   "metadata": {},
   "outputs": [
    {
     "data": {
      "text/html": [
       "<div>\n",
       "<style scoped>\n",
       "    .dataframe tbody tr th:only-of-type {\n",
       "        vertical-align: middle;\n",
       "    }\n",
       "\n",
       "    .dataframe tbody tr th {\n",
       "        vertical-align: top;\n",
       "    }\n",
       "\n",
       "    .dataframe thead th {\n",
       "        text-align: right;\n",
       "    }\n",
       "</style>\n",
       "<table border=\"1\" class=\"dataframe\">\n",
       "  <thead>\n",
       "    <tr style=\"text-align: right;\">\n",
       "      <th></th>\n",
       "      <th>n_chars</th>\n",
       "      <th>tweet_id</th>\n",
       "      <th>created_at</th>\n",
       "      <th>lang</th>\n",
       "      <th>user_id</th>\n",
       "      <th>user_n_followers</th>\n",
       "      <th>user_n_following</th>\n",
       "      <th>user_n_tweets</th>\n",
       "      <th>text</th>\n",
       "    </tr>\n",
       "  </thead>\n",
       "  <tbody>\n",
       "    <tr>\n",
       "      <th>0</th>\n",
       "      <td>78</td>\n",
       "      <td>1187462340444164096</td>\n",
       "      <td>2019-10-24 20:14:18+00:00</td>\n",
       "      <td>en</td>\n",
       "      <td>1183091385043505152</td>\n",
       "      <td>124</td>\n",
       "      <td>2</td>\n",
       "      <td>92871</td>\n",
       "      <td>⠀ ⬛⬛⬛ ⠀ ⬛⬛⬛ ⠀ ⬛⬛⬛ ⠀ ⬛⬛⬛ ⠀ 💹💹💹 ⬛⬛⬛⬛⬛ the hat of...</td>\n",
       "    </tr>\n",
       "    <tr>\n",
       "      <th>1</th>\n",
       "      <td>185</td>\n",
       "      <td>1187460864938397696</td>\n",
       "      <td>2019-10-24 20:08:26+00:00</td>\n",
       "      <td>en</td>\n",
       "      <td>993590061894529024</td>\n",
       "      <td>2301</td>\n",
       "      <td>7</td>\n",
       "      <td>92777</td>\n",
       "      <td>Score 410 ▫️▫️▫️▫️▫️▫️▫️▫️▫️ ▫️⬛▫️⬛▫️⬛▫️🕛▫️ ▫️...</td>\n",
       "    </tr>\n",
       "    <tr>\n",
       "      <th>2</th>\n",
       "      <td>80</td>\n",
       "      <td>1187459802986762241</td>\n",
       "      <td>2019-10-24 20:04:13+00:00</td>\n",
       "      <td>en</td>\n",
       "      <td>1183091385043505152</td>\n",
       "      <td>124</td>\n",
       "      <td>2</td>\n",
       "      <td>92871</td>\n",
       "      <td>⠀ ⬛⬛⬛ ⠀ ⬛⬛⬛ ⠀ ⬛⬛⬛ ⠀ ⬛⬛⬛ ⠀ 👩🏼‍💻👩🏼‍💻👩🏼‍💻 ⬛⬛⬛⬛⬛ t...</td>\n",
       "    </tr>\n",
       "    <tr>\n",
       "      <th>3</th>\n",
       "      <td>64</td>\n",
       "      <td>1187457385239056387</td>\n",
       "      <td>2019-10-24 19:54:37+00:00</td>\n",
       "      <td>en</td>\n",
       "      <td>1183091385043505152</td>\n",
       "      <td>124</td>\n",
       "      <td>2</td>\n",
       "      <td>92871</td>\n",
       "      <td>⠀ ⬛⬛⬛ ⠀ ⬛⬛⬛ ⠀ ⬛⬛⬛ ⠀ ⬛⬛⬛ ⠀ 📙📙📙 ⬛⬛⬛⬛⬛ the hat of...</td>\n",
       "    </tr>\n",
       "    <tr>\n",
       "      <th>4</th>\n",
       "      <td>223</td>\n",
       "      <td>1187457127922700291</td>\n",
       "      <td>2019-10-24 19:53:35+00:00</td>\n",
       "      <td>en</td>\n",
       "      <td>2350442972</td>\n",
       "      <td>52173</td>\n",
       "      <td>36611</td>\n",
       "      <td>167854</td>\n",
       "      <td>Allow Me To Blow Your Account ⚛⬛⚛⬛⚛ ⚛100K ◼ ⬛⚛...</td>\n",
       "    </tr>\n",
       "  </tbody>\n",
       "</table>\n",
       "</div>"
      ],
      "text/plain": [
       "   n_chars             tweet_id                created_at lang  \\\n",
       "0       78  1187462340444164096 2019-10-24 20:14:18+00:00   en   \n",
       "1      185  1187460864938397696 2019-10-24 20:08:26+00:00   en   \n",
       "2       80  1187459802986762241 2019-10-24 20:04:13+00:00   en   \n",
       "3       64  1187457385239056387 2019-10-24 19:54:37+00:00   en   \n",
       "4      223  1187457127922700291 2019-10-24 19:53:35+00:00   en   \n",
       "\n",
       "               user_id  user_n_followers  user_n_following  user_n_tweets  \\\n",
       "0  1183091385043505152               124                 2          92871   \n",
       "1   993590061894529024              2301                 7          92777   \n",
       "2  1183091385043505152               124                 2          92871   \n",
       "3  1183091385043505152               124                 2          92871   \n",
       "4           2350442972             52173             36611         167854   \n",
       "\n",
       "                                                text  \n",
       "0  ⠀ ⬛⬛⬛ ⠀ ⬛⬛⬛ ⠀ ⬛⬛⬛ ⠀ ⬛⬛⬛ ⠀ 💹💹💹 ⬛⬛⬛⬛⬛ the hat of...  \n",
       "1  Score 410 ▫️▫️▫️▫️▫️▫️▫️▫️▫️ ▫️⬛▫️⬛▫️⬛▫️🕛▫️ ▫️...  \n",
       "2  ⠀ ⬛⬛⬛ ⠀ ⬛⬛⬛ ⠀ ⬛⬛⬛ ⠀ ⬛⬛⬛ ⠀ 👩🏼‍💻👩🏼‍💻👩🏼‍💻 ⬛⬛⬛⬛⬛ t...  \n",
       "3  ⠀ ⬛⬛⬛ ⠀ ⬛⬛⬛ ⠀ ⬛⬛⬛ ⠀ ⬛⬛⬛ ⠀ 📙📙📙 ⬛⬛⬛⬛⬛ the hat of...  \n",
       "4  Allow Me To Blow Your Account ⚛⬛⚛⬛⚛ ⚛100K ◼ ⬛⚛...  "
      ]
     },
     "execution_count": 4,
     "metadata": {},
     "output_type": "execute_result"
    }
   ],
   "source": [
    "df.head()"
   ]
  },
  {
   "cell_type": "code",
   "execution_count": 5,
   "metadata": {},
   "outputs": [
    {
     "data": {
      "text/html": [
       "<div>\n",
       "<style scoped>\n",
       "    .dataframe tbody tr th:only-of-type {\n",
       "        vertical-align: middle;\n",
       "    }\n",
       "\n",
       "    .dataframe tbody tr th {\n",
       "        vertical-align: top;\n",
       "    }\n",
       "\n",
       "    .dataframe thead th {\n",
       "        text-align: right;\n",
       "    }\n",
       "</style>\n",
       "<table border=\"1\" class=\"dataframe\">\n",
       "  <thead>\n",
       "    <tr style=\"text-align: right;\">\n",
       "      <th></th>\n",
       "      <th>n_chars</th>\n",
       "      <th>tweet_id</th>\n",
       "      <th>created_at</th>\n",
       "      <th>lang</th>\n",
       "      <th>user_id</th>\n",
       "      <th>user_n_followers</th>\n",
       "      <th>user_n_following</th>\n",
       "      <th>user_n_tweets</th>\n",
       "      <th>text</th>\n",
       "    </tr>\n",
       "  </thead>\n",
       "  <tbody>\n",
       "  </tbody>\n",
       "</table>\n",
       "</div>"
      ],
      "text/plain": [
       "Empty DataFrame\n",
       "Columns: [n_chars, tweet_id, created_at, lang, user_id, user_n_followers, user_n_following, user_n_tweets, text]\n",
       "Index: []"
      ]
     },
     "execution_count": 5,
     "metadata": {},
     "output_type": "execute_result"
    }
   ],
   "source": [
    "df[df.isnull().any(axis=1)]"
   ]
  },
  {
   "cell_type": "code",
   "execution_count": 6,
   "metadata": {},
   "outputs": [
    {
     "data": {
      "text/plain": [
       "192542"
      ]
     },
     "execution_count": 6,
     "metadata": {},
     "output_type": "execute_result"
    }
   ],
   "source": [
    "len(df[df.duplicated()])"
   ]
  },
  {
   "cell_type": "code",
   "execution_count": 7,
   "metadata": {},
   "outputs": [],
   "source": [
    "df = df.drop_duplicates()"
   ]
  },
  {
   "cell_type": "code",
   "execution_count": 8,
   "metadata": {},
   "outputs": [
    {
     "data": {
      "text/plain": [
       "171251"
      ]
     },
     "execution_count": 8,
     "metadata": {},
     "output_type": "execute_result"
    }
   ],
   "source": [
    "len(df[df.duplicated(\"text\")])"
   ]
  },
  {
   "cell_type": "code",
   "execution_count": 9,
   "metadata": {},
   "outputs": [],
   "source": [
    "df = df.drop_duplicates(\"text\")"
   ]
  },
  {
   "cell_type": "code",
   "execution_count": 10,
   "metadata": {},
   "outputs": [
    {
     "data": {
      "text/plain": [
       "'1,108,673'"
      ]
     },
     "execution_count": 10,
     "metadata": {},
     "output_type": "execute_result"
    }
   ],
   "source": [
    "f\"{len(df):,}\""
   ]
  },
  {
   "cell_type": "code",
   "execution_count": 11,
   "metadata": {
    "scrolled": true
   },
   "outputs": [
    {
     "data": {
      "text/html": [
       "<div>\n",
       "<style scoped>\n",
       "    .dataframe tbody tr th:only-of-type {\n",
       "        vertical-align: middle;\n",
       "    }\n",
       "\n",
       "    .dataframe tbody tr th {\n",
       "        vertical-align: top;\n",
       "    }\n",
       "\n",
       "    .dataframe thead th {\n",
       "        text-align: right;\n",
       "    }\n",
       "</style>\n",
       "<table border=\"1\" class=\"dataframe\">\n",
       "  <thead>\n",
       "    <tr style=\"text-align: right;\">\n",
       "      <th></th>\n",
       "      <th>n_chars</th>\n",
       "      <th>user_n_followers</th>\n",
       "      <th>user_n_following</th>\n",
       "      <th>user_n_tweets</th>\n",
       "    </tr>\n",
       "  </thead>\n",
       "  <tbody>\n",
       "    <tr>\n",
       "      <th>count</th>\n",
       "      <td>1.108673e+06</td>\n",
       "      <td>1.108673e+06</td>\n",
       "      <td>1.108673e+06</td>\n",
       "      <td>1.108673e+06</td>\n",
       "    </tr>\n",
       "    <tr>\n",
       "      <th>mean</th>\n",
       "      <td>1.336801e+02</td>\n",
       "      <td>1.816301e+04</td>\n",
       "      <td>1.812324e+03</td>\n",
       "      <td>3.981207e+04</td>\n",
       "    </tr>\n",
       "    <tr>\n",
       "      <th>std</th>\n",
       "      <td>9.211657e+01</td>\n",
       "      <td>3.998634e+05</td>\n",
       "      <td>9.286202e+03</td>\n",
       "      <td>1.073475e+05</td>\n",
       "    </tr>\n",
       "    <tr>\n",
       "      <th>min</th>\n",
       "      <td>4.000000e+00</td>\n",
       "      <td>0.000000e+00</td>\n",
       "      <td>0.000000e+00</td>\n",
       "      <td>0.000000e+00</td>\n",
       "    </tr>\n",
       "    <tr>\n",
       "      <th>25%</th>\n",
       "      <td>5.800000e+01</td>\n",
       "      <td>1.670000e+02</td>\n",
       "      <td>1.700000e+02</td>\n",
       "      <td>2.574000e+03</td>\n",
       "    </tr>\n",
       "    <tr>\n",
       "      <th>50%</th>\n",
       "      <td>1.100000e+02</td>\n",
       "      <td>6.530000e+02</td>\n",
       "      <td>5.100000e+02</td>\n",
       "      <td>1.070300e+04</td>\n",
       "    </tr>\n",
       "    <tr>\n",
       "      <th>75%</th>\n",
       "      <td>2.020000e+02</td>\n",
       "      <td>2.583000e+03</td>\n",
       "      <td>1.397000e+03</td>\n",
       "      <td>3.606400e+04</td>\n",
       "    </tr>\n",
       "    <tr>\n",
       "      <th>max</th>\n",
       "      <td>1.021000e+03</td>\n",
       "      <td>1.088266e+08</td>\n",
       "      <td>4.205037e+06</td>\n",
       "      <td>6.931029e+06</td>\n",
       "    </tr>\n",
       "  </tbody>\n",
       "</table>\n",
       "</div>"
      ],
      "text/plain": [
       "            n_chars  user_n_followers  user_n_following  user_n_tweets\n",
       "count  1.108673e+06      1.108673e+06      1.108673e+06   1.108673e+06\n",
       "mean   1.336801e+02      1.816301e+04      1.812324e+03   3.981207e+04\n",
       "std    9.211657e+01      3.998634e+05      9.286202e+03   1.073475e+05\n",
       "min    4.000000e+00      0.000000e+00      0.000000e+00   0.000000e+00\n",
       "25%    5.800000e+01      1.670000e+02      1.700000e+02   2.574000e+03\n",
       "50%    1.100000e+02      6.530000e+02      5.100000e+02   1.070300e+04\n",
       "75%    2.020000e+02      2.583000e+03      1.397000e+03   3.606400e+04\n",
       "max    1.021000e+03      1.088266e+08      4.205037e+06   6.931029e+06"
      ]
     },
     "execution_count": 11,
     "metadata": {},
     "output_type": "execute_result"
    }
   ],
   "source": [
    "df.describe()"
   ]
  },
  {
   "cell_type": "code",
   "execution_count": 12,
   "metadata": {},
   "outputs": [
    {
     "data": {
      "text/plain": [
       "415     Yuck\n",
       "677     Awit\n",
       "753     Shit\n",
       "1058    NEAL\n",
       "2185    Game\n",
       "3328    fome\n",
       "Name: text, dtype: object"
      ]
     },
     "execution_count": 12,
     "metadata": {},
     "output_type": "execute_result"
    }
   ],
   "source": [
    "df[df.n_chars == 4].text"
   ]
  },
  {
   "cell_type": "code",
   "execution_count": 13,
   "metadata": {},
   "outputs": [],
   "source": [
    "df['emojis'] = df.text.parallel_apply(find_emojis)"
   ]
  },
  {
   "cell_type": "code",
   "execution_count": 14,
   "metadata": {},
   "outputs": [],
   "source": [
    "df['n_emojis'] = df.emojis.parallel_apply(len)"
   ]
  },
  {
   "cell_type": "code",
   "execution_count": 19,
   "metadata": {},
   "outputs": [],
   "source": [
    "df = df[df.n_emojis >= 1]\n",
    "\n",
    "from collections import Counter\n",
    "flatten = lambda t: [item for sublist in t for item in sublist]\n",
    "emoji_counts = Counter(flatten(df['emojis'].apply(set).tolist()))\n",
    "df2 = {\"emoji\": list(emoji_counts.keys()), \"count\": list(emoji_counts.values())}\n",
    "df2 = pd.DataFrame.from_records(df2)\n",
    "\n",
    "context_free_emojis = pd.read_csv(\"/scratch/czestoch/emoji-measures/ambiguity_variation.csv.gz\").emoji\n",
    "context_free_emojis\n",
    "\n",
    "df2 = df2[df2.emoji.isin(context_free_emojis.tolist())]\n",
    "\n",
    "save_to_csv(df2, \"/scratch/czestoch/emoji-measures/twitter-api-context-free-emoji-counts.csv\")"
   ]
  },
  {
   "cell_type": "code",
   "execution_count": 15,
   "metadata": {},
   "outputs": [
    {
     "data": {
      "text/plain": [
       "'290,817'"
      ]
     },
     "execution_count": 15,
     "metadata": {},
     "output_type": "execute_result"
    }
   ],
   "source": [
    "f\"{len(df[df.n_emojis == 1]):,}\""
   ]
  },
  {
   "cell_type": "code",
   "execution_count": 16,
   "metadata": {},
   "outputs": [],
   "source": [
    "#Choose only tweets with one emoji\n",
    "df1 = df[df.n_emojis == 1]"
   ]
  },
  {
   "cell_type": "code",
   "execution_count": 15,
   "metadata": {},
   "outputs": [
    {
     "data": {
      "text/plain": [
       "'Lmaoooo hunnit this shit leaving me so confused🥴'"
      ]
     },
     "execution_count": 15,
     "metadata": {},
     "output_type": "execute_result"
    }
   ],
   "source": [
    "# p.set_options(p.OPT.URL, p.OPT.MENTION, p.OPT.HASHTAG)\n",
    "# p.clean(df.iloc[0].text)"
   ]
  },
  {
   "cell_type": "code",
   "execution_count": 16,
   "metadata": {},
   "outputs": [],
   "source": [
    "# df[\"cleaned_text\"] = df.text.parallel_apply(lambda x: p.clean(x))"
   ]
  },
  {
   "cell_type": "code",
   "execution_count": 17,
   "metadata": {},
   "outputs": [],
   "source": [
    "# df = df.drop(\"n_emojis\", axis=1)"
   ]
  },
  {
   "cell_type": "code",
   "execution_count": 17,
   "metadata": {},
   "outputs": [
    {
     "name": "stderr",
     "output_type": "stream",
     "text": [
      "/home/czestoch/.local/lib/python3.7/site-packages/pandas/core/generic.py:5170: SettingWithCopyWarning: \n",
      "A value is trying to be set on a copy of a slice from a DataFrame.\n",
      "Try using .loc[row_indexer,col_indexer] = value instead\n",
      "\n",
      "See the caveats in the documentation: https://pandas.pydata.org/pandas-docs/stable/user_guide/indexing.html#returning-a-view-versus-a-copy\n",
      "  self[name] = value\n"
     ]
    }
   ],
   "source": [
    "df1.emojis = df1.emojis.parallel_apply(lambda x: x[0])"
   ]
  },
  {
   "cell_type": "code",
   "execution_count": 22,
   "metadata": {},
   "outputs": [
    {
     "name": "stdout",
     "output_type": "stream",
     "text": [
      "121\n"
     ]
    },
    {
     "data": {
      "text/plain": [
       "32"
      ]
     },
     "execution_count": 22,
     "metadata": {},
     "output_type": "execute_result"
    }
   ],
   "source": [
    "em = df1[df1['emojis'] == '🈹']\n",
    "print(len(em))\n",
    "em.user_id.nunique()"
   ]
  },
  {
   "cell_type": "code",
   "execution_count": 24,
   "metadata": {},
   "outputs": [
    {
     "data": {
      "text/html": [
       "<div>\n",
       "<style scoped>\n",
       "    .dataframe tbody tr th:only-of-type {\n",
       "        vertical-align: middle;\n",
       "    }\n",
       "\n",
       "    .dataframe tbody tr th {\n",
       "        vertical-align: top;\n",
       "    }\n",
       "\n",
       "    .dataframe thead th {\n",
       "        text-align: right;\n",
       "    }\n",
       "</style>\n",
       "<table border=\"1\" class=\"dataframe\">\n",
       "  <thead>\n",
       "    <tr style=\"text-align: right;\">\n",
       "      <th></th>\n",
       "      <th>user_id</th>\n",
       "      <th>text</th>\n",
       "    </tr>\n",
       "  </thead>\n",
       "  <tbody>\n",
       "    <tr>\n",
       "      <th>1</th>\n",
       "      <td>4613953846</td>\n",
       "      <td>Sat Sep 14 2019 02:41:13 GMT+0000 (Coordinated...</td>\n",
       "    </tr>\n",
       "    <tr>\n",
       "      <th>2</th>\n",
       "      <td>4613953846</td>\n",
       "      <td>Sat Sep 14 2019 02:27:12 GMT+0000 (Coordinated...</td>\n",
       "    </tr>\n",
       "    <tr>\n",
       "      <th>5</th>\n",
       "      <td>774694926135222272</td>\n",
       "      <td>I 🈹 Virginia Beach</td>\n",
       "    </tr>\n",
       "    <tr>\n",
       "      <th>10</th>\n",
       "      <td>837840863535456256</td>\n",
       "      <td>defaced 🈹 negativity ,</td>\n",
       "    </tr>\n",
       "    <tr>\n",
       "      <th>12</th>\n",
       "      <td>4613953846</td>\n",
       "      <td>Thu Sep 12 2019 10:51:32 GMT+0000 (Coordinated...</td>\n",
       "    </tr>\n",
       "    <tr>\n",
       "      <th>...</th>\n",
       "      <td>...</td>\n",
       "      <td>...</td>\n",
       "    </tr>\n",
       "    <tr>\n",
       "      <th>268</th>\n",
       "      <td>4613953846</td>\n",
       "      <td>Mon Sep 16 2019 19:25:49 GMT+0000 (Coordinated...</td>\n",
       "    </tr>\n",
       "    <tr>\n",
       "      <th>269</th>\n",
       "      <td>4613953846</td>\n",
       "      <td>Mon Sep 16 2019 11:35:22 GMT+0000 (Coordinated...</td>\n",
       "    </tr>\n",
       "    <tr>\n",
       "      <th>270</th>\n",
       "      <td>4613953846</td>\n",
       "      <td>Mon Sep 16 2019 09:45:15 GMT+0000 (Coordinated...</td>\n",
       "    </tr>\n",
       "    <tr>\n",
       "      <th>273</th>\n",
       "      <td>4613953846</td>\n",
       "      <td>Sun Sep 15 2019 04:11:35 GMT+0000 (Coordinated...</td>\n",
       "    </tr>\n",
       "    <tr>\n",
       "      <th>275</th>\n",
       "      <td>701366806213218304</td>\n",
       "      <td>Why is there an emoji for 🈹 but no emoji for t...</td>\n",
       "    </tr>\n",
       "  </tbody>\n",
       "</table>\n",
       "<p>121 rows × 2 columns</p>\n",
       "</div>"
      ],
      "text/plain": [
       "                user_id                                               text\n",
       "1            4613953846  Sat Sep 14 2019 02:41:13 GMT+0000 (Coordinated...\n",
       "2            4613953846  Sat Sep 14 2019 02:27:12 GMT+0000 (Coordinated...\n",
       "5    774694926135222272                                 I 🈹 Virginia Beach\n",
       "10   837840863535456256                             defaced 🈹 negativity ,\n",
       "12           4613953846  Thu Sep 12 2019 10:51:32 GMT+0000 (Coordinated...\n",
       "..                  ...                                                ...\n",
       "268          4613953846  Mon Sep 16 2019 19:25:49 GMT+0000 (Coordinated...\n",
       "269          4613953846  Mon Sep 16 2019 11:35:22 GMT+0000 (Coordinated...\n",
       "270          4613953846  Mon Sep 16 2019 09:45:15 GMT+0000 (Coordinated...\n",
       "273          4613953846  Sun Sep 15 2019 04:11:35 GMT+0000 (Coordinated...\n",
       "275  701366806213218304  Why is there an emoji for 🈹 but no emoji for t...\n",
       "\n",
       "[121 rows x 2 columns]"
      ]
     },
     "execution_count": 24,
     "metadata": {},
     "output_type": "execute_result"
    }
   ],
   "source": [
    "em[['user_id', 'text']]"
   ]
  },
  {
   "cell_type": "code",
   "execution_count": 27,
   "metadata": {},
   "outputs": [
    {
     "data": {
      "text/html": [
       "<div>\n",
       "<style scoped>\n",
       "    .dataframe tbody tr th:only-of-type {\n",
       "        vertical-align: middle;\n",
       "    }\n",
       "\n",
       "    .dataframe tbody tr th {\n",
       "        vertical-align: top;\n",
       "    }\n",
       "\n",
       "    .dataframe thead th {\n",
       "        text-align: right;\n",
       "    }\n",
       "</style>\n",
       "<table border=\"1\" class=\"dataframe\">\n",
       "  <thead>\n",
       "    <tr style=\"text-align: right;\">\n",
       "      <th></th>\n",
       "      <th>n_chars</th>\n",
       "      <th>tweet_id</th>\n",
       "      <th>created_at</th>\n",
       "      <th>lang</th>\n",
       "      <th>user_id</th>\n",
       "      <th>user_n_followers</th>\n",
       "      <th>user_n_following</th>\n",
       "      <th>user_n_tweets</th>\n",
       "      <th>text</th>\n",
       "      <th>emojis</th>\n",
       "      <th>n_emojis</th>\n",
       "    </tr>\n",
       "  </thead>\n",
       "  <tbody>\n",
       "    <tr>\n",
       "      <th>1</th>\n",
       "      <td>65</td>\n",
       "      <td>1172701808654979072</td>\n",
       "      <td>2019-09-14 02:41:13+00:00</td>\n",
       "      <td>en</td>\n",
       "      <td>4613953846</td>\n",
       "      <td>5</td>\n",
       "      <td>0</td>\n",
       "      <td>1048378</td>\n",
       "      <td>Sat Sep 14 2019 02:41:13 GMT+0000 (Coordinated...</td>\n",
       "      <td>🈹</td>\n",
       "      <td>1</td>\n",
       "    </tr>\n",
       "    <tr>\n",
       "      <th>2</th>\n",
       "      <td>65</td>\n",
       "      <td>1172698281870331904</td>\n",
       "      <td>2019-09-14 02:27:12+00:00</td>\n",
       "      <td>en</td>\n",
       "      <td>4613953846</td>\n",
       "      <td>5</td>\n",
       "      <td>0</td>\n",
       "      <td>1048378</td>\n",
       "      <td>Sat Sep 14 2019 02:27:12 GMT+0000 (Coordinated...</td>\n",
       "      <td>🈹</td>\n",
       "      <td>1</td>\n",
       "    </tr>\n",
       "    <tr>\n",
       "      <th>12</th>\n",
       "      <td>65</td>\n",
       "      <td>1172100424926670848</td>\n",
       "      <td>2019-09-12 10:51:32+00:00</td>\n",
       "      <td>en</td>\n",
       "      <td>4613953846</td>\n",
       "      <td>5</td>\n",
       "      <td>0</td>\n",
       "      <td>1048378</td>\n",
       "      <td>Thu Sep 12 2019 10:51:32 GMT+0000 (Coordinated...</td>\n",
       "      <td>🈹</td>\n",
       "      <td>1</td>\n",
       "    </tr>\n",
       "    <tr>\n",
       "      <th>16</th>\n",
       "      <td>65</td>\n",
       "      <td>1171623518330675200</td>\n",
       "      <td>2019-09-11 03:16:29+00:00</td>\n",
       "      <td>en</td>\n",
       "      <td>4613953846</td>\n",
       "      <td>5</td>\n",
       "      <td>0</td>\n",
       "      <td>1048378</td>\n",
       "      <td>Wed Sep 11 2019 03:16:29 GMT+0000 (Coordinated...</td>\n",
       "      <td>🈹</td>\n",
       "      <td>1</td>\n",
       "    </tr>\n",
       "    <tr>\n",
       "      <th>18</th>\n",
       "      <td>65</td>\n",
       "      <td>1171539381141639169</td>\n",
       "      <td>2019-09-10 21:42:09+00:00</td>\n",
       "      <td>en</td>\n",
       "      <td>4613953846</td>\n",
       "      <td>5</td>\n",
       "      <td>0</td>\n",
       "      <td>1048378</td>\n",
       "      <td>Tue Sep 10 2019 21:42:09 GMT+0000 (Coordinated...</td>\n",
       "      <td>🈹</td>\n",
       "      <td>1</td>\n",
       "    </tr>\n",
       "    <tr>\n",
       "      <th>...</th>\n",
       "      <td>...</td>\n",
       "      <td>...</td>\n",
       "      <td>...</td>\n",
       "      <td>...</td>\n",
       "      <td>...</td>\n",
       "      <td>...</td>\n",
       "      <td>...</td>\n",
       "      <td>...</td>\n",
       "      <td>...</td>\n",
       "      <td>...</td>\n",
       "      <td>...</td>\n",
       "    </tr>\n",
       "    <tr>\n",
       "      <th>257</th>\n",
       "      <td>65</td>\n",
       "      <td>1174272177056768002</td>\n",
       "      <td>2019-09-18 10:41:18+00:00</td>\n",
       "      <td>en</td>\n",
       "      <td>4613953846</td>\n",
       "      <td>5</td>\n",
       "      <td>0</td>\n",
       "      <td>1048378</td>\n",
       "      <td>Wed Sep 18 2019 10:41:18 GMT+0000 (Coordinated...</td>\n",
       "      <td>🈹</td>\n",
       "      <td>1</td>\n",
       "    </tr>\n",
       "    <tr>\n",
       "      <th>268</th>\n",
       "      <td>65</td>\n",
       "      <td>1173679399285219328</td>\n",
       "      <td>2019-09-16 19:25:49+00:00</td>\n",
       "      <td>en</td>\n",
       "      <td>4613953846</td>\n",
       "      <td>5</td>\n",
       "      <td>0</td>\n",
       "      <td>1048378</td>\n",
       "      <td>Mon Sep 16 2019 19:25:49 GMT+0000 (Coordinated...</td>\n",
       "      <td>🈹</td>\n",
       "      <td>1</td>\n",
       "    </tr>\n",
       "    <tr>\n",
       "      <th>269</th>\n",
       "      <td>65</td>\n",
       "      <td>1173561005932261377</td>\n",
       "      <td>2019-09-16 11:35:22+00:00</td>\n",
       "      <td>en</td>\n",
       "      <td>4613953846</td>\n",
       "      <td>5</td>\n",
       "      <td>0</td>\n",
       "      <td>1048378</td>\n",
       "      <td>Mon Sep 16 2019 11:35:22 GMT+0000 (Coordinated...</td>\n",
       "      <td>🈹</td>\n",
       "      <td>1</td>\n",
       "    </tr>\n",
       "    <tr>\n",
       "      <th>270</th>\n",
       "      <td>65</td>\n",
       "      <td>1173533297349144583</td>\n",
       "      <td>2019-09-16 09:45:15+00:00</td>\n",
       "      <td>en</td>\n",
       "      <td>4613953846</td>\n",
       "      <td>5</td>\n",
       "      <td>0</td>\n",
       "      <td>1048378</td>\n",
       "      <td>Mon Sep 16 2019 09:45:15 GMT+0000 (Coordinated...</td>\n",
       "      <td>🈹</td>\n",
       "      <td>1</td>\n",
       "    </tr>\n",
       "    <tr>\n",
       "      <th>273</th>\n",
       "      <td>65</td>\n",
       "      <td>1173086938603151362</td>\n",
       "      <td>2019-09-15 04:11:35+00:00</td>\n",
       "      <td>en</td>\n",
       "      <td>4613953846</td>\n",
       "      <td>5</td>\n",
       "      <td>0</td>\n",
       "      <td>1048378</td>\n",
       "      <td>Sun Sep 15 2019 04:11:35 GMT+0000 (Coordinated...</td>\n",
       "      <td>🈹</td>\n",
       "      <td>1</td>\n",
       "    </tr>\n",
       "  </tbody>\n",
       "</table>\n",
       "<p>83 rows × 11 columns</p>\n",
       "</div>"
      ],
      "text/plain": [
       "     n_chars             tweet_id                created_at lang     user_id  \\\n",
       "1         65  1172701808654979072 2019-09-14 02:41:13+00:00   en  4613953846   \n",
       "2         65  1172698281870331904 2019-09-14 02:27:12+00:00   en  4613953846   \n",
       "12        65  1172100424926670848 2019-09-12 10:51:32+00:00   en  4613953846   \n",
       "16        65  1171623518330675200 2019-09-11 03:16:29+00:00   en  4613953846   \n",
       "18        65  1171539381141639169 2019-09-10 21:42:09+00:00   en  4613953846   \n",
       "..       ...                  ...                       ...  ...         ...   \n",
       "257       65  1174272177056768002 2019-09-18 10:41:18+00:00   en  4613953846   \n",
       "268       65  1173679399285219328 2019-09-16 19:25:49+00:00   en  4613953846   \n",
       "269       65  1173561005932261377 2019-09-16 11:35:22+00:00   en  4613953846   \n",
       "270       65  1173533297349144583 2019-09-16 09:45:15+00:00   en  4613953846   \n",
       "273       65  1173086938603151362 2019-09-15 04:11:35+00:00   en  4613953846   \n",
       "\n",
       "     user_n_followers  user_n_following  user_n_tweets  \\\n",
       "1                   5                 0        1048378   \n",
       "2                   5                 0        1048378   \n",
       "12                  5                 0        1048378   \n",
       "16                  5                 0        1048378   \n",
       "18                  5                 0        1048378   \n",
       "..                ...               ...            ...   \n",
       "257                 5                 0        1048378   \n",
       "268                 5                 0        1048378   \n",
       "269                 5                 0        1048378   \n",
       "270                 5                 0        1048378   \n",
       "273                 5                 0        1048378   \n",
       "\n",
       "                                                  text emojis  n_emojis  \n",
       "1    Sat Sep 14 2019 02:41:13 GMT+0000 (Coordinated...      🈹         1  \n",
       "2    Sat Sep 14 2019 02:27:12 GMT+0000 (Coordinated...      🈹         1  \n",
       "12   Thu Sep 12 2019 10:51:32 GMT+0000 (Coordinated...      🈹         1  \n",
       "16   Wed Sep 11 2019 03:16:29 GMT+0000 (Coordinated...      🈹         1  \n",
       "18   Tue Sep 10 2019 21:42:09 GMT+0000 (Coordinated...      🈹         1  \n",
       "..                                                 ...    ...       ...  \n",
       "257  Wed Sep 18 2019 10:41:18 GMT+0000 (Coordinated...      🈹         1  \n",
       "268  Mon Sep 16 2019 19:25:49 GMT+0000 (Coordinated...      🈹         1  \n",
       "269  Mon Sep 16 2019 11:35:22 GMT+0000 (Coordinated...      🈹         1  \n",
       "270  Mon Sep 16 2019 09:45:15 GMT+0000 (Coordinated...      🈹         1  \n",
       "273  Sun Sep 15 2019 04:11:35 GMT+0000 (Coordinated...      🈹         1  \n",
       "\n",
       "[83 rows x 11 columns]"
      ]
     },
     "execution_count": 27,
     "metadata": {},
     "output_type": "execute_result"
    }
   ],
   "source": [
    "em[em.user_id == '4613953846']"
   ]
  },
  {
   "cell_type": "code",
   "execution_count": 18,
   "metadata": {},
   "outputs": [],
   "source": [
    "tweets_per_emoji = df1.groupby(\"emojis\").text.count()"
   ]
  },
  {
   "cell_type": "code",
   "execution_count": 19,
   "metadata": {},
   "outputs": [
    {
     "data": {
      "text/plain": [
       "867"
      ]
     },
     "execution_count": 19,
     "metadata": {},
     "output_type": "execute_result"
    }
   ],
   "source": [
    "df1.emojis.nunique()"
   ]
  },
  {
   "cell_type": "code",
   "execution_count": 20,
   "metadata": {},
   "outputs": [
    {
     "data": {
      "text/plain": [
       "count     867.000000\n",
       "mean      335.429066\n",
       "std       429.617917\n",
       "min         1.000000\n",
       "25%         4.000000\n",
       "50%       184.000000\n",
       "75%       537.500000\n",
       "max      4173.000000\n",
       "Name: text, dtype: float64"
      ]
     },
     "execution_count": 20,
     "metadata": {},
     "output_type": "execute_result"
    }
   ],
   "source": [
    "tweets_per_emoji.describe()"
   ]
  },
  {
   "cell_type": "code",
   "execution_count": 21,
   "metadata": {},
   "outputs": [
    {
     "data": {
      "text/plain": [
       "emojis\n",
       "☹️    4173\n",
       "Name: text, dtype: int64"
      ]
     },
     "execution_count": 21,
     "metadata": {},
     "output_type": "execute_result"
    }
   ],
   "source": [
    "tweets_per_emoji[tweets_per_emoji == tweets_per_emoji.max()]"
   ]
  },
  {
   "cell_type": "code",
   "execution_count": 22,
   "metadata": {},
   "outputs": [
    {
     "data": {
      "text/plain": [
       "emojis\n",
       "1️⃣    1\n",
       "©      1\n",
       "®      1\n",
       "▶      1\n",
       "☁      1\n",
       "      ..\n",
       "🦒      1\n",
       "🧐      1\n",
       "🧚      1\n",
       "🧠      1\n",
       "🧢      1\n",
       "Name: text, Length: 124, dtype: int64"
      ]
     },
     "execution_count": 22,
     "metadata": {},
     "output_type": "execute_result"
    }
   ],
   "source": [
    "tweets_per_emoji[tweets_per_emoji == tweets_per_emoji.min()]"
   ]
  },
  {
   "cell_type": "code",
   "execution_count": 23,
   "metadata": {},
   "outputs": [],
   "source": [
    "# Choose tweets with emojis that appeared in at least 30 different tweets\n",
    "# df = df[df.emojis.isin(tweets_per_emoji[tweets_per_emoji >= 30].index)]"
   ]
  },
  {
   "cell_type": "code",
   "execution_count": 24,
   "metadata": {},
   "outputs": [],
   "source": [
    "#f\"{len(df):,}\""
   ]
  },
  {
   "cell_type": "code",
   "execution_count": 25,
   "metadata": {},
   "outputs": [
    {
     "data": {
      "text/plain": [
       "2581"
      ]
     },
     "execution_count": 25,
     "metadata": {},
     "output_type": "execute_result"
    }
   ],
   "source": [
    "df.emojis.nunique()"
   ]
  },
  {
   "cell_type": "code",
   "execution_count": 26,
   "metadata": {},
   "outputs": [],
   "source": [
    "# dir_path = \"/scratch/czestoch/emoji-measures/\"\n",
    "# context_free_emojis = pd.read_csv(os.path.join(dir_path, \"ambiguity_variation.csv.gz\"))[\"emoji\"]"
   ]
  },
  {
   "cell_type": "code",
   "execution_count": 27,
   "metadata": {},
   "outputs": [
    {
     "name": "stdout",
     "output_type": "stream",
     "text": [
      "978,017\n"
     ]
    },
    {
     "data": {
      "text/plain": [
       "1207"
      ]
     },
     "execution_count": 27,
     "metadata": {},
     "output_type": "execute_result"
    }
   ],
   "source": [
    "# df = df[df.emojis.isin(context_free_emojis)]\n",
    "# print(f\"{len(df):,}\")\n",
    "# df.emojis.nunique()"
   ]
  },
  {
   "cell_type": "code",
   "execution_count": 28,
   "metadata": {},
   "outputs": [],
   "source": [
    "# df.to_parquet('/scratch/czestoch/cleaned_english_emoji_tweets_2019_09.parquet.gzip', compression='gzip')"
   ]
  },
  {
   "cell_type": "code",
   "execution_count": 29,
   "metadata": {},
   "outputs": [],
   "source": [
    "########################################################################################"
   ]
  },
  {
   "cell_type": "code",
   "execution_count": 30,
   "metadata": {},
   "outputs": [
    {
     "name": "stdout",
     "output_type": "stream",
     "text": [
      "Loading data...\n"
     ]
    },
    {
     "data": {
      "text/html": [
       "<div>\n",
       "<style scoped>\n",
       "    .dataframe tbody tr th:only-of-type {\n",
       "        vertical-align: middle;\n",
       "    }\n",
       "\n",
       "    .dataframe tbody tr th {\n",
       "        vertical-align: top;\n",
       "    }\n",
       "\n",
       "    .dataframe thead th {\n",
       "        text-align: right;\n",
       "    }\n",
       "</style>\n",
       "<table border=\"1\" class=\"dataframe\">\n",
       "  <thead>\n",
       "    <tr style=\"text-align: right;\">\n",
       "      <th></th>\n",
       "      <th>tweet</th>\n",
       "      <th>emojis</th>\n",
       "    </tr>\n",
       "  </thead>\n",
       "  <tbody>\n",
       "    <tr>\n",
       "      <th>0</th>\n",
       "      <td>Lmaoooo hunnit this shit leaving me so confused🥴</td>\n",
       "      <td>🥴</td>\n",
       "    </tr>\n",
       "    <tr>\n",
       "      <th>1</th>\n",
       "      <td>Got something going through my brain that I ca...</td>\n",
       "      <td>🤯</td>\n",
       "    </tr>\n",
       "    <tr>\n",
       "      <th>3</th>\n",
       "      <td>stan marty the coke snorting king 🤩</td>\n",
       "      <td>🤩</td>\n",
       "    </tr>\n",
       "    <tr>\n",
       "      <th>8</th>\n",
       "      <td>unfollow 🤭</td>\n",
       "      <td>🤭</td>\n",
       "    </tr>\n",
       "    <tr>\n",
       "      <th>10</th>\n",
       "      <td>Please do if it’s not too much trouble!! 😊</td>\n",
       "      <td>😊</td>\n",
       "    </tr>\n",
       "  </tbody>\n",
       "</table>\n",
       "</div>"
      ],
      "text/plain": [
       "                                                tweet emojis\n",
       "0    Lmaoooo hunnit this shit leaving me so confused🥴      🥴\n",
       "1   Got something going through my brain that I ca...      🤯\n",
       "3                 stan marty the coke snorting king 🤩      🤩\n",
       "8                                          unfollow 🤭      🤭\n",
       "10         Please do if it’s not too much trouble!! 😊      😊"
      ]
     },
     "execution_count": 30,
     "metadata": {},
     "output_type": "execute_result"
    }
   ],
   "source": [
    "# print(\"Loading data...\")\n",
    "# path = \"/scratch/czestoch/cleaned_english_emoji_tweets_2019_09.parquet.gzip\"\n",
    "# tweets = pd.read_parquet(path)[[\"cleaned_text\", \"emojis\"]]\n",
    "# tweets = tweets.rename({\"cleaned_text\": \"tweet\"}, axis=1)\n",
    "# tweets.head()"
   ]
  },
  {
   "cell_type": "code",
   "execution_count": 23,
   "metadata": {},
   "outputs": [
    {
     "data": {
      "text/html": [
       "<div>\n",
       "<style scoped>\n",
       "    .dataframe tbody tr th:only-of-type {\n",
       "        vertical-align: middle;\n",
       "    }\n",
       "\n",
       "    .dataframe tbody tr th {\n",
       "        vertical-align: top;\n",
       "    }\n",
       "\n",
       "    .dataframe thead th {\n",
       "        text-align: right;\n",
       "    }\n",
       "</style>\n",
       "<table border=\"1\" class=\"dataframe\">\n",
       "  <thead>\n",
       "    <tr style=\"text-align: right;\">\n",
       "      <th></th>\n",
       "      <th>n_chars</th>\n",
       "      <th>tweet_id</th>\n",
       "      <th>created_at</th>\n",
       "      <th>lang</th>\n",
       "      <th>user_id</th>\n",
       "      <th>user_n_followers</th>\n",
       "      <th>user_n_following</th>\n",
       "      <th>user_n_tweets</th>\n",
       "      <th>text</th>\n",
       "      <th>emojis</th>\n",
       "      <th>n_emojis</th>\n",
       "    </tr>\n",
       "  </thead>\n",
       "  <tbody>\n",
       "    <tr>\n",
       "      <th>26</th>\n",
       "      <td>213</td>\n",
       "      <td>1187428541706584064</td>\n",
       "      <td>2019-10-24 18:00:00+00:00</td>\n",
       "      <td>en</td>\n",
       "      <td>22045925</td>\n",
       "      <td>3208</td>\n",
       "      <td>391</td>\n",
       "      <td>9679</td>\n",
       "      <td>The Release Raffle for the Dunk Low \"Night of ...</td>\n",
       "      <td>⬛</td>\n",
       "      <td>1</td>\n",
       "    </tr>\n",
       "    <tr>\n",
       "      <th>64</th>\n",
       "      <td>46</td>\n",
       "      <td>1187384988020424706</td>\n",
       "      <td>2019-10-24 15:06:56+00:00</td>\n",
       "      <td>en</td>\n",
       "      <td>1062251903864791040</td>\n",
       "      <td>571</td>\n",
       "      <td>2</td>\n",
       "      <td>24726</td>\n",
       "      <td>Success by Yeezus710 ⬛</td>\n",
       "      <td>⬛</td>\n",
       "      <td>1</td>\n",
       "    </tr>\n",
       "    <tr>\n",
       "      <th>67</th>\n",
       "      <td>112</td>\n",
       "      <td>1187383316447518720</td>\n",
       "      <td>2019-10-24 15:00:17+00:00</td>\n",
       "      <td>en</td>\n",
       "      <td>1894112550</td>\n",
       "      <td>766173</td>\n",
       "      <td>377</td>\n",
       "      <td>173568</td>\n",
       "      <td>Chances at both ends, but it's all ⬛ in Kochi!</td>\n",
       "      <td>⬛</td>\n",
       "      <td>1</td>\n",
       "    </tr>\n",
       "    <tr>\n",
       "      <th>81</th>\n",
       "      <td>132</td>\n",
       "      <td>1187005758627549189</td>\n",
       "      <td>2019-10-23 14:00:01+00:00</td>\n",
       "      <td>en</td>\n",
       "      <td>22045925</td>\n",
       "      <td>3208</td>\n",
       "      <td>391</td>\n",
       "      <td>9679</td>\n",
       "      <td>As tough as it is versatile: the Slip On Pro ⬛</td>\n",
       "      <td>⬛</td>\n",
       "      <td>1</td>\n",
       "    </tr>\n",
       "    <tr>\n",
       "      <th>205</th>\n",
       "      <td>147</td>\n",
       "      <td>1186280983072346117</td>\n",
       "      <td>2019-10-21 14:00:01+00:00</td>\n",
       "      <td>en</td>\n",
       "      <td>22045925</td>\n",
       "      <td>3208</td>\n",
       "      <td>391</td>\n",
       "      <td>9679</td>\n",
       "      <td>Graphics that are never boring: the latest pro...</td>\n",
       "      <td>⬛</td>\n",
       "      <td>1</td>\n",
       "    </tr>\n",
       "  </tbody>\n",
       "</table>\n",
       "</div>"
      ],
      "text/plain": [
       "     n_chars             tweet_id                created_at lang  \\\n",
       "26       213  1187428541706584064 2019-10-24 18:00:00+00:00   en   \n",
       "64        46  1187384988020424706 2019-10-24 15:06:56+00:00   en   \n",
       "67       112  1187383316447518720 2019-10-24 15:00:17+00:00   en   \n",
       "81       132  1187005758627549189 2019-10-23 14:00:01+00:00   en   \n",
       "205      147  1186280983072346117 2019-10-21 14:00:01+00:00   en   \n",
       "\n",
       "                 user_id  user_n_followers  user_n_following  user_n_tweets  \\\n",
       "26              22045925              3208               391           9679   \n",
       "64   1062251903864791040               571                 2          24726   \n",
       "67            1894112550            766173               377         173568   \n",
       "81              22045925              3208               391           9679   \n",
       "205             22045925              3208               391           9679   \n",
       "\n",
       "                                                  text emojis  n_emojis  \n",
       "26   The Release Raffle for the Dunk Low \"Night of ...      ⬛         1  \n",
       "64                              Success by Yeezus710 ⬛      ⬛         1  \n",
       "67      Chances at both ends, but it's all ⬛ in Kochi!      ⬛         1  \n",
       "81      As tough as it is versatile: the Slip On Pro ⬛      ⬛         1  \n",
       "205  Graphics that are never boring: the latest pro...      ⬛         1  "
      ]
     },
     "execution_count": 23,
     "metadata": {},
     "output_type": "execute_result"
    }
   ],
   "source": [
    "df1.head()"
   ]
  },
  {
   "cell_type": "code",
   "execution_count": 24,
   "metadata": {},
   "outputs": [],
   "source": [
    "tweets = df1[['text', 'emojis']]\n",
    "tweets = tweets.rename({\"text\": \"tweet\"}, axis=1)"
   ]
  },
  {
   "cell_type": "code",
   "execution_count": 25,
   "metadata": {},
   "outputs": [],
   "source": [
    "df1 = tweets.groupby(\"emojis\").tweet.count()\n",
    "df1 = df1.to_frame().reset_index()"
   ]
  },
  {
   "cell_type": "code",
   "execution_count": 26,
   "metadata": {},
   "outputs": [],
   "source": [
    "import matplotlib.pyplot as plt\n",
    "import seaborn as sns\n",
    "\n",
    "sns.set(rc={'figure.figsize':(15, 7)}, font_scale=1.7)\n",
    "sns.set_style(\"white\", {'axes.grid' : True})"
   ]
  },
  {
   "cell_type": "code",
   "execution_count": 27,
   "metadata": {},
   "outputs": [
    {
     "data": {
      "image/png": "[encoded data removed]",
      "text/plain": [
       "<Figure size 1080x504 with 1 Axes>"
      ]
     },
     "metadata": {},
     "output_type": "display_data"
    }
   ],
   "source": [
    "fig, ax = plt.subplots()\n",
    "ax = sns.ecdfplot(data=df1, x=\"tweet\", stat='count', complementary=True, ax=ax)\n",
    "ax.set_title(\"CCDF for number of tweets per emoji, using twitter search API, September & October 2019\")\n",
    "ax.set_xscale(\"log\")\n",
    "ax.set_xlabel(\"number of tweets\")\n",
    "ax.set_ylabel(\"number of emojis with > X tweets\");"
   ]
  },
  {
   "cell_type": "code",
   "execution_count": 63,
   "metadata": {},
   "outputs": [
    {
     "data": {
      "image/png": "[encoded data removed]",
      "text/plain": [
       "<Figure size 1080x504 with 1 Axes>"
      ]
     },
     "metadata": {},
     "output_type": "display_data"
    }
   ],
   "source": [
    "fig, ax = plt.subplots()\n",
    "ax = sns.ecdfplot(data=df1, x=\"tweet\", stat='count', ax=ax)\n",
    "ax.set_title(\"CDF for tweets with one emoji,\\n using only emojis from context-free dataset\")\n",
    "ax.set_xscale(\"log\")\n",
    "ax.set_xlabel(\"number of tweets\")\n",
    "ax.set_ylabel(\"number of emojis with <= X tweets\");"
   ]
  },
  {
   "cell_type": "code",
   "execution_count": 64,
   "metadata": {},
   "outputs": [
    {
     "data": {
      "text/plain": [
       "501"
      ]
     },
     "execution_count": 64,
     "metadata": {},
     "output_type": "execute_result"
    }
   ],
   "source": [
    "len(df1[df1.tweet >= 100])"
   ]
  },
  {
   "cell_type": "code",
   "execution_count": 65,
   "metadata": {},
   "outputs": [
    {
     "data": {
      "text/plain": [
       "548"
      ]
     },
     "execution_count": 65,
     "metadata": {},
     "output_type": "execute_result"
    }
   ],
   "source": [
    "len(df1[df1.tweet >= 30])"
   ]
  },
  {
   "cell_type": "code",
   "execution_count": 66,
   "metadata": {},
   "outputs": [
    {
     "data": {
      "text/plain": [
       "array(['©️', '®️', '‼️', '™️', 'ℹ️', '↔️', '↕️', '↖️', '↗️', '↘️', '↙️',\n",
       "       '↩️', '↪️', '⌚', '⌛', '⏩', '⏫', '⏬', '⏭️', '⏯️', '⏰', '⏱️', '⏲️',\n",
       "       '⏳', '⏸️', '⏹️', '⏺️', 'Ⓜ️', '▶️', '◽', '☀️', '☁️', '☂️', '☃️',\n",
       "       '☄️', '☎️', '☑️', '☔', '☕', '☘️', '☝️', '☠️', '☢️', '☣️', '☦️',\n",
       "       '☪️', '☮️', '☯️', '☸️', '☹️', '☺️', '♈', '♉', '♊', '♋', '♌', '♍',\n",
       "       '♎', '♏', '♐', '♑', '♒', '♓', '♟️', '♠️', '♣️', '♥️', '♦️', '♨️',\n",
       "       '♻️', '♾️', '♿', '⚒️', '⚓', '⚔️', '⚖️', '⚗️', '⚙️', '⚛️', '⚜️',\n",
       "       '⚠️', '⚡', '⚰️', '⚱️', '⚽', '⚾', '⛄', '⛅', '⛈️', '⛎', '⛏️', '⛑️',\n",
       "       '⛓️', '⛔', '⛩️', '⛪', '⛰️', '⛱️', '⛲', '⛳', '⛴️', '⛵', '⛷️', '⛸️',\n",
       "       '⛹️', '⛹️\\u200d♀️', '⛹️\\u200d♂️', '⛺', '⛽', '✂️', '✅', '✈️', '✉️',\n",
       "       '✊', '✊🏻', '✊🏼', '✊🏽', '✊🏾', '✋', '✋🏻', '✋🏼', '✌️', '✍️', '✏️',\n",
       "       '✒️', '✔️', '✖️', '✝️', '✡️', '✨', '✳️', '✴️', '❄️', '❇️', '❌',\n",
       "       '❎', '❓', '❔', '❕', '❗', '❣️', '❤️', '➕', '➖', '➗', '➡️', '➰', '➿',\n",
       "       '⤴️', '⤵️', '⬅️', '⬆️', '⬇️', '⭐', '⭕', '〰️', '〽️', '㊗️', '🈁',\n",
       "       '🈂️', '🈚', '🈲', '🈳', '🈴', '🈵', '🈶', '🈸', '🈹', '🉐', '🉑', '🌀', '🌁',\n",
       "       '🌂', '🌃', '🌄', '🌅', '🌆', '🌇', '🌈', '🌉', '🌊', '🌋', '🌌', '🌍', '🌎',\n",
       "       '🌏', '🌐', '🌑', '🌒', '🌓', '🌔', '🌕', '🌖', '🌗', '🌘', '🌙', '🌚', '🌛',\n",
       "       '🌜', '🌝', '🌞', '🌟', '🌠', '🌡️', '🌤️', '🌥️', '🌦️', '🌧️', '🌨️', '🌩️',\n",
       "       '🌪️', '🌫️', '🌬️', '🌭', '🌮', '🌯', '🌰', '🌱', '🌳', '🌴', '🌵', '🌶️',\n",
       "       '🌷', '🌸', '🌹', '🌺', '🌻', '🌼', '🌽', '🌿', '🍀', '🍁', '🍂', '🍃', '🍄',\n",
       "       '🍅', '🍆', '🍇', '🍈', '🍉', '🍊', '🍋', '🍌', '🍍', '🍎', '🍏', '🍐', '🍑',\n",
       "       '🍒', '🍓', '🍔', '🍕', '🍖', '🍗', '🍘', '🍙', '🍚', '🍛', '🍜', '🍝', '🍞',\n",
       "       '🍟', '🍠', '🍡', '🍢', '🍣', '🍤', '🍥', '🍦', '🍧', '🍨', '🍩', '🍪', '🍫',\n",
       "       '🍬', '🍭', '🍮', '🍯', '🍰', '🍱', '🍲', '🍳', '🍴', '🍵', '🍶', '🍷', '🍸',\n",
       "       '🍹', '🍺', '🍻', '🍼', '🍽️', '🍾', '🍿', '🎀', '🎁', '🎂', '🎃', '🎄', '🎅',\n",
       "       '🎆', '🎇', '🎈', '🎉', '🎊', '🎋', '🎍', '🎎', '🎏', '🎐', '🎑', '🎒', '🎓',\n",
       "       '🎖️', '🎗️', '🎙️', '🎚️', '🎞️', '🎟️', '🎠', '🎡', '🎢', '🎣', '🎤', '🎥',\n",
       "       '🎦', '🎧', '🎨', '🎩', '🎪', '🎫', '🎬', '🎭', '🎮', '🎯', '🎰', '🎱', '🎲',\n",
       "       '🎳', '🎴', '🎵', '🎶', '🎷', '🎸', '🎹', '🎺', '🎻', '🎼', '🎽', '🎾', '🎿',\n",
       "       '🏀', '🏂', '🏃', '🏃\\u200d♀️', '🏃\\u200d♂️', '🏄', '🏄\\u200d♂️', '🏅',\n",
       "       '🏆', '🏇', '🏈', '🏉', '🏊', '🏊\\u200d♀️', '🏊\\u200d♂️', '🏋️',\n",
       "       '🏋️\\u200d♀️', '🏋️\\u200d♂️', '🏌️', '🏌️\\u200d♀️', '🏌️\\u200d♂️', '🏍️',\n",
       "       '🏎️', '🏏', '🏐', '🏑', '🏒', '🏓', '🏔️', '🏕️', '🏖️', '🏗️', '🏘️', '🏙️',\n",
       "       '🏚️', '🏛️', '🏜️', '🏞️', '🏠', '🏡', '🏢', '🏣', '🏤', '🏥', '🏦', '🏧',\n",
       "       '🏨', '🏩', '🏪', '🏫', '🏬', '🏭', '🏮', '🏯', '🏰', '🏳️\\u200d🌈',\n",
       "       '🏴\\u200d☠️',\n",
       "       '🏴\\U000e0067\\U000e0062\\U000e0073\\U000e0063\\U000e0074\\U000e007f',\n",
       "       '🏴\\U000e0067\\U000e0062\\U000e0077\\U000e006c\\U000e0073\\U000e007f',\n",
       "       '🏵️', '🏷️', '🏸', '🏹', '🏺', '🐀', '🐁', '🐂', '🐃', '🐄', '🐅', '🐆', '🐇',\n",
       "       '🐈', '🐉', '🐊', '🐋', '🐌', '🐍', '🐏', '🐐', '🐑', '🐒', '🐓', '🐔', '🐕',\n",
       "       '🐖', '🐗', '🐘', '🐙', '🐚', '🐛', '🐜', '🐝', '🐞', '🐟', '🐠', '🐡', '🐢',\n",
       "       '🐣', '🐤', '🐥', '🐦', '🐧', '🐨', '🐩', '🐪', '🐫', '🐬', '🐭', '🐮', '🐯',\n",
       "       '🐰', '🐱', '🐲', '🐳', '🐴', '🐵', '🐶', '🐷', '🐸', '🐺', '🐻', '🐼', '🐽',\n",
       "       '🐾', '🐿️', '👀', '👁️', '👂', '👃', '👄', '👅', '👆', '👇', '👈', '👉', '👊',\n",
       "       '👋', '👌', '👍', '👎', '👏', '👨\\u200d⚕️', '👨\\u200d🍳', '👨\\u200d🏫',\n",
       "       '👩\\u200d⚕️', '👩\\u200d🍳', '👩\\u200d🏫', '👩🏻\\u200d⚕️', '😂'],\n",
       "      dtype=object)"
      ]
     },
     "execution_count": 66,
     "metadata": {},
     "output_type": "execute_result"
    }
   ],
   "source": [
    "df1[df1.tweet >= 100].emojis.values"
   ]
  },
  {
   "cell_type": "code",
   "execution_count": 42,
   "metadata": {},
   "outputs": [
    {
     "data": {
      "text/plain": [
       "array(['©️', '‼️', '⁉️', '™️', '⌚', '⏰', '⏳', '▶️', '☀️', '☁️', '☄️',\n",
       "       '☎️', '☑️', '☔', '☕', '☘️', '☝️', '☠️', '☢️', '☮️', '☹️', '☺️',\n",
       "       '♈', '♋', '♍', '♎', '♠️', '♥️', '♻️', '⚓', '⚔️', '⚖️', '⚜️', '⚠️',\n",
       "       '⚡', '⚫', '⚰️', '⚽', '⚾', '⛅', '⛳', '⛽', '✂️', '✅', '✈️', '✊', '✋',\n",
       "       '✌️', '✍️', '✏️', '✔️', '✝️', '✨', '❄️', '❌', '❓', '❕', '❗', '❣️',\n",
       "       '❤️', '➡️', '⤵️', '⬆️', '⬇️', '⭐', '⭕', '🃏', '🅱️', '🅿️', '🆗', '🆘',\n",
       "       '🌀', '🌃', '🌄', '🌅', '🌈', '🌊', '🌋', '🌌', '🌍', '🌎', '🌏', '🌐', '🌕',\n",
       "       '🌙', '🌚', '🌛', '🌝', '🌞', '🌟', '🌠', '🌮', '🌯', '🌱', '🌲', '🌳', '🌴',\n",
       "       '🌵', '🌷', '🌸', '🌹', '🌺', '🌻', '🌼', '🌽', '🌾', '🌿', '🍀', '🍁', '🍂',\n",
       "       '🍃', '🍄', '🍅', '🍆', '🍇', '🍉', '🍊', '🍋', '🍌', '🍍', '🍎', '🍏', '🍑',\n",
       "       '🍒', '🍓', '🍔', '🍕', '🍗', '🍜', '🍝', '🍞', '🍟', '🍣', '🍦', '🍩', '🍪',\n",
       "       '🍫', '🍬', '🍭', '🍯', '🍰', '🍳', '🍴', '🍵', '🍷', '🍸', '🍹', '🍺', '🍻',\n",
       "       '🍼', '🍾', '🍿', '🎀', '🎁', '🎂', '🎃', '🎄', '🎈', '🎉', '🎊', '🎒', '🎓',\n",
       "       '🎣', '🎤', '🎥', '🎧', '🎨', '🎩', '🎪', '🎫', '🎬', '🎭', '🎮', '🎯', '🎱',\n",
       "       '🎲', '🎵', '🎶', '🎸', '🎼', '🎾', '🏀', '🏃', '🏅', '🏆', '🏈', '🏉', '🏌️',\n",
       "       '🏏', '🏐', '🏒', '🏠', '🏡', '🏳️\\u200d🌈', '🏴\\u200d☠️',\n",
       "       '🏴\\U000e0067\\U000e0062\\U000e0065\\U000e006e\\U000e0067\\U000e007f',\n",
       "       '🏴\\U000e0067\\U000e0062\\U000e0073\\U000e0063\\U000e0074\\U000e007f',\n",
       "       '🏴\\U000e0067\\U000e0062\\U000e0077\\U000e006c\\U000e0073\\U000e007f',\n",
       "       '🏹', '🐀', '🐄', '🐅', '🐇', '🐈', '🐉', '🐊', '🐌', '🐍', '🐎', '🐐', '🐑',\n",
       "       '🐒', '🐓', '🐔', '🐕', '🐖', '🐘', '🐙', '🐜', '🐝', '🐟', '🐢', '🐣', '🐥',\n",
       "       '🐦', '🐧', '🐨', '🐬', '🐮', '🐯', '🐰', '🐱', '🐳', '🐴', '🐶', '🐷', '🐸',\n",
       "       '🐺', '🐻', '🐼', '🐽', '🐾', '👀', '👁️', '👂', '👃', '👄', '👅', '👆', '👇',\n",
       "       '👈', '👉', '👊', '👋', '👌', '👍', '👎', '👏', '👐', '👑', '👓', '👟', '👠',\n",
       "       '👣', '👧', '👩\\u200d❤️\\u200d💋\\u200d👩', '👫', '👶', '👸', '👹', '👺', '👻',\n",
       "       '👼', '👽', '👾', '👿', '💀', '💁', '💃', '💄', '💅', '💆', '💉', '💊', '💋',\n",
       "       '💌', '💍', '💎', '💏', '💐', '💓', '💔', '💕', '💖', '💗', '💘', '💙', '💚',\n",
       "       '💛', '💜', '💝', '💞', '💟', '💡', '💢', '💣', '💤', '💥', '💦', '💧', '💨',\n",
       "       '💩', '💪', '💫', '💬', '💭', '💯', '💰', '💴', '💵', '💸', '💻', '💼', '📈',\n",
       "       '📌', '📍', '📖', '📚', '📝', '📞', '📢', '📣', '📦', '📩', '📱', '📲', '📷',\n",
       "       '📸', '📺', '📻', '🔁', '🔄', '🔊', '🔋', '🔌', '🔍', '🔐', '🔑', '🔒', '🔔',\n",
       "       '🔙', '🔜', '🔝', '🔞', '🔥', '🔨', '🔪', '🔫', '🔮', '🔱', '🔴', '🔵', '🕊️',\n",
       "       '🕺', '🖐️', '🖕', '🖖', '🖤', '🗣️', '🗽', '🗿', '😀', '😁', '😂', '😃', '😄',\n",
       "       '😅', '😆', '😇', '😈', '😉', '😊', '😋', '😌', '😍', '😎', '😏', '😐', '😑',\n",
       "       '😒', '😓', '😔', '😕', '😖', '😗', '😘', '😙', '😚', '😛', '😜', '😝', '😞',\n",
       "       '😟', '😠', '😡', '😢', '😣', '😤', '😥', '😦', '😧', '😨', '😩', '😪', '😫',\n",
       "       '😬', '😭', '😮', '😯', '😰', '😱', '😲', '😳', '😴', '😵', '😶', '😷', '😸',\n",
       "       '😹', '😺', '😻', '😼', '😽', '😾', '😿', '🙀', '🙁', '🙂', '🙃', '🙄', '🙅',\n",
       "       '🙆', '🙇', '🙈', '🙉', '🙊', '🙋', '🙌', '🙏', '🚀', '🚂', '🚌', '🚗', '🚘',\n",
       "       '🚦', '🚨', '🚫', '🚬', '🚮', '🚲', '🚶', '🚽', '🛌', '🛑', '🛫', '🤐', '🤑',\n",
       "       '🤒', '🤓', '🤔', '🤕', '🤖', '🤗', '🤘', '🤙', '🤚', '🤜', '🤝', '🤞', '🤟',\n",
       "       '🤠', '🤡', '🤢', '🤣', '🤤', '🤥', '🤦', '🤧', '🤨', '🤩', '🤪', '🤫', '🤬',\n",
       "       '🤭', '🤮', '🤯', '🤰', '🤲', '🤴', '🤷', '🥀', '🥁', '🥂', '🥃', '🥇', '🥊',\n",
       "       '🥑', '🥔', '🥘', '🥚', '🥛', '🥜', '🥞', '🥤', '🥧', '🥩', '🥰', '🥳', '🥴',\n",
       "       '🥵', '🥶', '🥺', '🦀', '🦁', '🦄', '🦅', '🦆', '🦇', '🦈', '🦉', '🦊', '🦋',\n",
       "       '🦍', '🦎', '🦖', '🦠', '🧀', '🧁', '🧐', '🧠', '🧡', '🧢', '🧬', '🧱', '🧸',\n",
       "       '🧹', '🧿'], dtype=object)"
      ]
     },
     "execution_count": 42,
     "metadata": {},
     "output_type": "execute_result"
    }
   ],
   "source": [
    "df1[df1.tweet >= 30].emojis.values"
   ]
  },
  {
   "cell_type": "code",
   "execution_count": 68,
   "metadata": {},
   "outputs": [],
   "source": [
    "tweets = tweets[tweets.emojis.isin(df1[df1.tweet >= 100].emojis.values)]"
   ]
  },
  {
   "cell_type": "code",
   "execution_count": 69,
   "metadata": {},
   "outputs": [
    {
     "data": {
      "text/html": [
       "<div>\n",
       "<style scoped>\n",
       "    .dataframe tbody tr th:only-of-type {\n",
       "        vertical-align: middle;\n",
       "    }\n",
       "\n",
       "    .dataframe tbody tr th {\n",
       "        vertical-align: top;\n",
       "    }\n",
       "\n",
       "    .dataframe thead th {\n",
       "        text-align: right;\n",
       "    }\n",
       "</style>\n",
       "<table border=\"1\" class=\"dataframe\">\n",
       "  <thead>\n",
       "    <tr style=\"text-align: right;\">\n",
       "      <th></th>\n",
       "      <th>index</th>\n",
       "      <th>tweet</th>\n",
       "      <th>emojis</th>\n",
       "    </tr>\n",
       "  </thead>\n",
       "  <tbody>\n",
       "    <tr>\n",
       "      <th>0</th>\n",
       "      <td>659</td>\n",
       "      <td>เบื้องหลังการถ่ายภาพนิตยสาร OK R1SE 11 child f...</td>\n",
       "      <td>©️</td>\n",
       "    </tr>\n",
       "    <tr>\n",
       "      <th>1</th>\n",
       "      <td>449</td>\n",
       "      <td>Do what you have to do until you can do what y...</td>\n",
       "      <td>©️</td>\n",
       "    </tr>\n",
       "    <tr>\n",
       "      <th>2</th>\n",
       "      <td>505</td>\n",
       "      <td>And we both go to sleep in WELÇOME©️</td>\n",
       "      <td>©️</td>\n",
       "    </tr>\n",
       "    <tr>\n",
       "      <th>3</th>\n",
       "      <td>66</td>\n",
       "      <td>©️ Ethan Dow.</td>\n",
       "      <td>©️</td>\n",
       "    </tr>\n",
       "    <tr>\n",
       "      <th>4</th>\n",
       "      <td>91</td>\n",
       "      <td>หนุ่ม R1SE ไปออกรายการช่อง BTV คะ met Temple o...</td>\n",
       "      <td>©️</td>\n",
       "    </tr>\n",
       "  </tbody>\n",
       "</table>\n",
       "</div>"
      ],
      "text/plain": [
       "   index                                              tweet emojis\n",
       "0    659  เบื้องหลังการถ่ายภาพนิตยสาร OK R1SE 11 child f...     ©️\n",
       "1    449  Do what you have to do until you can do what y...     ©️\n",
       "2    505               And we both go to sleep in WELÇOME©️     ©️\n",
       "3     66                                      ©️ Ethan Dow.     ©️\n",
       "4     91  หนุ่ม R1SE ไปออกรายการช่อง BTV คะ met Temple o...     ©️"
      ]
     },
     "execution_count": 69,
     "metadata": {},
     "output_type": "execute_result"
    }
   ],
   "source": [
    "equalized = tweets.groupby(\"emojis\").sample(n=100, replace=False).reset_index()\n",
    "equalized.head()"
   ]
  },
  {
   "cell_type": "code",
   "execution_count": 70,
   "metadata": {},
   "outputs": [
    {
     "data": {
      "text/plain": [
       "501"
      ]
     },
     "execution_count": 70,
     "metadata": {},
     "output_type": "execute_result"
    }
   ],
   "source": [
    "equalized.emojis.nunique()"
   ]
  },
  {
   "cell_type": "code",
   "execution_count": 71,
   "metadata": {},
   "outputs": [],
   "source": [
    "save_to_csv(equalized[[\"tweet\", \"emojis\"]], \"/scratch/czestoch/cleaned_equalized_0910-2019-api_tweets.csv\")"
   ]
  }
 ],
 "metadata": {
  "kernelspec": {
   "display_name": "Python 3",
   "language": "python",
   "name": "python3"
  },
  "language_info": {
   "codemirror_mode": {
    "name": "ipython",
    "version": 3
   },
   "file_extension": ".py",
   "mimetype": "text/x-python",
   "name": "python",
   "nbconvert_exporter": "python",
   "pygments_lexer": "ipython3",
   "version": "3.7.7"
  }
 },
 "nbformat": 4,
 "nbformat_minor": 4
}
